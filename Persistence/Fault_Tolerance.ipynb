{
 "cells": [
  {
   "cell_type": "code",
   "execution_count": 1,
   "id": "d3cb068c",
   "metadata": {},
   "outputs": [],
   "source": [
    "from  langgraph.graph import StateGraph,END,START\n",
    "from langgraph.checkpoint.memory import InMemorySaver\n",
    "from typing import TypedDict\n",
    "import time"
   ]
  },
  {
   "cell_type": "code",
   "execution_count": 2,
   "id": "2c668b6d",
   "metadata": {},
   "outputs": [],
   "source": [
    "## Define the state\n",
    "class CrashState(TypedDict):\n",
    "    \"\"\"The state of the crash.\"\"\"\n",
    "    input: str\n",
    "    step1: str\n",
    "    step2: str\n",
    "    step3: str\n",
    "    "
   ]
  },
  {
   "cell_type": "code",
   "execution_count": 3,
   "id": "fc1f6865",
   "metadata": {},
   "outputs": [],
   "source": [
    "## Define Steps\n",
    "def step_1(state: CrashState)-> CrashState:\n",
    "    \n",
    "    print(\"Step 1 Executed\")\n",
    "    \n",
    "    return {'step1':\"done\",\"input\":state['input']}\n",
    "\n",
    "def step_2(state: CrashState) -> CrashState:\n",
    "    print(\"Step 2 Hanging.... now manualyy interrupt from the notebook toolbar (STOP BUTTON)\")\n",
    "    time.sleep(10)\n",
    "    return {'step2': 'Done'}\n",
    "\n",
    "def step_3(state: CrashState) -> CrashState:\n",
    "    print(\"Step 3 Executed\")\n",
    "    return {'step3': 'Done'}"
   ]
  },
  {
   "cell_type": "code",
   "execution_count": 5,
   "id": "96beaa22",
   "metadata": {},
   "outputs": [],
   "source": [
    "# 3. Build the graph\n",
    "builder = StateGraph(CrashState)\n",
    "builder.add_node(\"step_1\", step_1)\n",
    "builder.add_node(\"step_2\", step_2)\n",
    "builder.add_node(\"step_3\", step_3)\n",
    "\n",
    "builder.set_entry_point(\"step_1\")\n",
    "builder.add_edge(\"step_1\", \"step_2\")\n",
    "builder.add_edge(\"step_2\", \"step_3\")\n",
    "builder.add_edge(\"step_3\", END)\n",
    "\n",
    "checkpointer = InMemorySaver()\n",
    "graph = builder.compile(checkpointer=checkpointer)"
   ]
  },
  {
   "cell_type": "code",
   "execution_count": 12,
   "id": "32956577",
   "metadata": {},
   "outputs": [
    {
     "name": "stdout",
     "output_type": "stream",
     "text": [
      "▶️ Running graph: Please manually interrupt during Step 2...\n",
      "Step 1 Executed\n",
      "Step 2 Hanging.... now manualyy interrupt from the notebook toolbar (STOP BUTTON)\n",
      "❌ Kernel manually interrupted (crash simulated).\n"
     ]
    }
   ],
   "source": [
    "try:\n",
    "    print(\"▶️ Running graph: Please manually interrupt during Step 2...\")\n",
    "    graph.invoke({\"input\": \"start\"}, config={\"configurable\": {\"thread_id\": 'thread-1'}})\n",
    "except KeyboardInterrupt:\n",
    "    print(\"❌ Kernel manually interrupted (crash simulated).\")"
   ]
  },
  {
   "cell_type": "code",
   "execution_count": 13,
   "id": "5f350d20",
   "metadata": {},
   "outputs": [
    {
     "name": "stdout",
     "output_type": "stream",
     "text": [
      "\n",
      "🔁 Re-running the graph to demonstrate fault tolerance...\n",
      "Step 2 Hanging.... now manualyy interrupt from the notebook toolbar (STOP BUTTON)\n",
      "Step 3 Executed\n",
      "\n",
      "✅ Final State: {'input': 'start', 'step1': 'done', 'step2': 'Done', 'step3': 'Done'}\n"
     ]
    }
   ],
   "source": [
    "# 6. Re-run to show fault-tolerant resume\n",
    "print(\"\\n🔁 Re-running the graph to demonstrate fault tolerance...\")\n",
    "final_state = graph.invoke(None, config={\"configurable\": {\"thread_id\": 'thread-1'}})\n",
    "print(\"\\n✅ Final State:\", final_state)"
   ]
  },
  {
   "cell_type": "code",
   "execution_count": 14,
   "id": "dd567b31",
   "metadata": {},
   "outputs": [
    {
     "data": {
      "text/plain": [
       "[StateSnapshot(values={'input': 'start', 'step1': 'done', 'step2': 'Done', 'step3': 'Done'}, next=(), config={'configurable': {'thread_id': 'thread-1', 'checkpoint_ns': '', 'checkpoint_id': '1f06ddf2-a4d1-6922-800b-db00c697c503'}}, metadata={'source': 'loop', 'writes': {'step_3': {'step3': 'Done'}}, 'step': 11, 'parents': {}, 'thread_id': 'thread-1'}, created_at='2025-07-31T07:22:50.331574+00:00', parent_config={'configurable': {'thread_id': 'thread-1', 'checkpoint_ns': '', 'checkpoint_id': '1f06ddf2-a4ce-6dad-800a-0f8975e4860e'}}, tasks=(), interrupts=()),\n",
       " StateSnapshot(values={'input': 'start', 'step1': 'done', 'step2': 'Done', 'step3': 'Done'}, next=('step_3',), config={'configurable': {'thread_id': 'thread-1', 'checkpoint_ns': '', 'checkpoint_id': '1f06ddf2-a4ce-6dad-800a-0f8975e4860e'}}, metadata={'source': 'loop', 'writes': {'step_2': {'step2': 'Done'}}, 'step': 10, 'parents': {}, 'thread_id': 'thread-1'}, created_at='2025-07-31T07:22:50.330462+00:00', parent_config={'configurable': {'thread_id': 'thread-1', 'checkpoint_ns': '', 'checkpoint_id': '1f06ddf1-cc89-668d-8009-4fa3c43d8815'}}, tasks=(PregelTask(id='63d273b3-3c45-66e3-af1b-be43b10e9f53', name='step_3', path=('__pregel_pull', 'step_3'), error=None, interrupts=(), state=None, result={'step3': 'Done'}),), interrupts=()),\n",
       " StateSnapshot(values={'input': 'start', 'step1': 'done', 'step2': 'Done', 'step3': 'Done'}, next=('step_2',), config={'configurable': {'thread_id': 'thread-1', 'checkpoint_ns': '', 'checkpoint_id': '1f06ddf1-cc89-668d-8009-4fa3c43d8815'}}, metadata={'source': 'loop', 'writes': {'step_1': {'step1': 'done', 'input': 'start'}}, 'step': 9, 'parents': {}, 'thread_id': 'thread-1'}, created_at='2025-07-31T07:22:27.652775+00:00', parent_config={'configurable': {'thread_id': 'thread-1', 'checkpoint_ns': '', 'checkpoint_id': '1f06ddf1-cc88-6255-8008-5d315da270a9'}}, tasks=(PregelTask(id='564aad09-32de-9b5d-c787-9af2e5a4d870', name='step_2', path=('__pregel_pull', 'step_2'), error=None, interrupts=(), state=None, result={'step2': 'Done'}),), interrupts=()),\n",
       " StateSnapshot(values={'input': 'start', 'step1': 'done', 'step2': 'Done', 'step3': 'Done'}, next=('step_1',), config={'configurable': {'thread_id': 'thread-1', 'checkpoint_ns': '', 'checkpoint_id': '1f06ddf1-cc88-6255-8008-5d315da270a9'}}, metadata={'source': 'loop', 'writes': None, 'step': 8, 'parents': {}, 'thread_id': 'thread-1'}, created_at='2025-07-31T07:22:27.652258+00:00', parent_config={'configurable': {'thread_id': 'thread-1', 'checkpoint_ns': '', 'checkpoint_id': '1f06ddf1-cc85-69ec-8007-1f7d477bf1f0'}}, tasks=(PregelTask(id='035eff1a-0ce5-217d-df22-f63db592d36c', name='step_1', path=('__pregel_pull', 'step_1'), error=None, interrupts=(), state=None, result={'step1': 'done', 'input': 'start'}),), interrupts=()),\n",
       " StateSnapshot(values={'input': 'start', 'step1': 'done', 'step2': 'Done', 'step3': 'Done'}, next=('__start__',), config={'configurable': {'thread_id': 'thread-1', 'checkpoint_ns': '', 'checkpoint_id': '1f06ddf1-cc85-69ec-8007-1f7d477bf1f0'}}, metadata={'source': 'input', 'writes': {'__start__': {'input': 'start'}}, 'step': 7, 'parents': {}, 'thread_id': 'thread-1'}, created_at='2025-07-31T07:22:27.651223+00:00', parent_config={'configurable': {'thread_id': 'thread-1', 'checkpoint_ns': '', 'checkpoint_id': '1f06ddef-caaa-6788-8006-ba5f3c1a08e9'}}, tasks=(PregelTask(id='edf893fd-be42-cafe-8ab2-23b5c8e8e225', name='__start__', path=('__pregel_pull', '__start__'), error=None, interrupts=(), state=None, result={'input': 'start'}),), interrupts=()),\n",
       " StateSnapshot(values={'input': 'start', 'step1': 'done', 'step2': 'Done', 'step3': 'Done'}, next=('step_2',), config={'configurable': {'thread_id': 'thread-1', 'checkpoint_ns': '', 'checkpoint_id': '1f06ddef-caaa-6788-8006-ba5f3c1a08e9'}}, metadata={'source': 'loop', 'writes': {'step_1': {'step1': 'done', 'input': 'start'}}, 'step': 6, 'parents': {}, 'thread_id': 'thread-1'}, created_at='2025-07-31T07:21:33.769511+00:00', parent_config={'configurable': {'thread_id': 'thread-1', 'checkpoint_ns': '', 'checkpoint_id': '1f06ddef-caa8-606f-8005-068559a44dbd'}}, tasks=(PregelTask(id='2527af72-d951-4376-a51b-2b8abacc6c91', name='step_2', path=('__pregel_pull', 'step_2'), error=None, interrupts=(), state=None, result=None),), interrupts=()),\n",
       " StateSnapshot(values={'input': 'start', 'step1': 'done', 'step2': 'Done', 'step3': 'Done'}, next=('step_1',), config={'configurable': {'thread_id': 'thread-1', 'checkpoint_ns': '', 'checkpoint_id': '1f06ddef-caa8-606f-8005-068559a44dbd'}}, metadata={'source': 'loop', 'writes': None, 'step': 5, 'parents': {}, 'thread_id': 'thread-1'}, created_at='2025-07-31T07:21:33.768510+00:00', parent_config={'configurable': {'thread_id': 'thread-1', 'checkpoint_ns': '', 'checkpoint_id': '1f06ddef-caa3-6248-8004-4fa622086c05'}}, tasks=(PregelTask(id='e57ae885-aa56-2aba-b58e-6fba2263c6b2', name='step_1', path=('__pregel_pull', 'step_1'), error=None, interrupts=(), state=None, result={'step1': 'done', 'input': 'start'}),), interrupts=()),\n",
       " StateSnapshot(values={'input': 'start', 'step1': 'done', 'step2': 'Done', 'step3': 'Done'}, next=('__start__',), config={'configurable': {'thread_id': 'thread-1', 'checkpoint_ns': '', 'checkpoint_id': '1f06ddef-caa3-6248-8004-4fa622086c05'}}, metadata={'source': 'input', 'writes': {'__start__': {'input': 'start'}}, 'step': 4, 'parents': {}, 'thread_id': 'thread-1'}, created_at='2025-07-31T07:21:33.766509+00:00', parent_config={'configurable': {'thread_id': 'thread-1', 'checkpoint_ns': '', 'checkpoint_id': '1f06ddec-56c8-6a89-8003-e3a585d0d268'}}, tasks=(PregelTask(id='de2ea25b-8cca-224e-2439-0d562ef1aaa6', name='__start__', path=('__pregel_pull', '__start__'), error=None, interrupts=(), state=None, result={'input': 'start'}),), interrupts=()),\n",
       " StateSnapshot(values={'input': 'start', 'step1': 'done', 'step2': 'Done', 'step3': 'Done'}, next=(), config={'configurable': {'thread_id': 'thread-1', 'checkpoint_ns': '', 'checkpoint_id': '1f06ddec-56c8-6a89-8003-e3a585d0d268'}}, metadata={'source': 'loop', 'writes': {'step_3': {'step3': 'Done'}}, 'step': 3, 'parents': {}, 'thread_id': 'thread-1'}, created_at='2025-07-31T07:20:01.087757+00:00', parent_config={'configurable': {'thread_id': 'thread-1', 'checkpoint_ns': '', 'checkpoint_id': '1f06ddec-56c6-6369-8002-42ca54ca579e'}}, tasks=(), interrupts=()),\n",
       " StateSnapshot(values={'input': 'start', 'step1': 'done', 'step2': 'Done'}, next=('step_3',), config={'configurable': {'thread_id': 'thread-1', 'checkpoint_ns': '', 'checkpoint_id': '1f06ddec-56c6-6369-8002-42ca54ca579e'}}, metadata={'source': 'loop', 'writes': {'step_2': {'step2': 'Done'}}, 'step': 2, 'parents': {}, 'thread_id': 'thread-1'}, created_at='2025-07-31T07:20:01.086756+00:00', parent_config={'configurable': {'thread_id': 'thread-1', 'checkpoint_ns': '', 'checkpoint_id': '1f06ddeb-f744-606b-8001-6a14ea92758b'}}, tasks=(PregelTask(id='006f9ddb-0cfb-ce77-fdc9-c48b17f3f71d', name='step_3', path=('__pregel_pull', 'step_3'), error=None, interrupts=(), state=None, result={'step3': 'Done'}),), interrupts=()),\n",
       " StateSnapshot(values={'input': 'start', 'step1': 'done'}, next=('step_2',), config={'configurable': {'thread_id': 'thread-1', 'checkpoint_ns': '', 'checkpoint_id': '1f06ddeb-f744-606b-8001-6a14ea92758b'}}, metadata={'source': 'loop', 'writes': {'step_1': {'step1': 'done', 'input': 'start'}}, 'step': 1, 'parents': {}, 'thread_id': 'thread-1'}, created_at='2025-07-31T07:19:51.071959+00:00', parent_config={'configurable': {'thread_id': 'thread-1', 'checkpoint_ns': '', 'checkpoint_id': '1f06ddeb-f740-627f-8000-e50b42b912c3'}}, tasks=(PregelTask(id='93caffc3-da23-df90-9e47-1643c84b99ad', name='step_2', path=('__pregel_pull', 'step_2'), error=None, interrupts=(), state=None, result={'step2': 'Done'}),), interrupts=()),\n",
       " StateSnapshot(values={'input': 'start'}, next=('step_1',), config={'configurable': {'thread_id': 'thread-1', 'checkpoint_ns': '', 'checkpoint_id': '1f06ddeb-f740-627f-8000-e50b42b912c3'}}, metadata={'source': 'loop', 'writes': None, 'step': 0, 'parents': {}, 'thread_id': 'thread-1'}, created_at='2025-07-31T07:19:51.070374+00:00', parent_config={'configurable': {'thread_id': 'thread-1', 'checkpoint_ns': '', 'checkpoint_id': '1f06ddeb-f73c-67c1-bfff-191edca6a951'}}, tasks=(PregelTask(id='4ac2b6ca-d163-5667-77aa-79c6a2b17bef', name='step_1', path=('__pregel_pull', 'step_1'), error=None, interrupts=(), state=None, result={'step1': 'done', 'input': 'start'}),), interrupts=()),\n",
       " StateSnapshot(values={}, next=('__start__',), config={'configurable': {'thread_id': 'thread-1', 'checkpoint_ns': '', 'checkpoint_id': '1f06ddeb-f73c-67c1-bfff-191edca6a951'}}, metadata={'source': 'input', 'writes': {'__start__': {'input': 'start'}}, 'step': -1, 'parents': {}, 'thread_id': 'thread-1'}, created_at='2025-07-31T07:19:51.068870+00:00', parent_config=None, tasks=(PregelTask(id='8c3eb943-ff03-79cd-1b10-433bf976fea0', name='__start__', path=('__pregel_pull', '__start__'), error=None, interrupts=(), state=None, result={'input': 'start'}),), interrupts=())]"
      ]
     },
     "execution_count": 14,
     "metadata": {},
     "output_type": "execute_result"
    }
   ],
   "source": [
    "list(graph.get_state_history({\"configurable\": {\"thread_id\": 'thread-1'}}))"
   ]
  },
  {
   "cell_type": "code",
   "execution_count": null,
   "id": "6d9af4d5",
   "metadata": {},
   "outputs": [],
   "source": []
  }
 ],
 "metadata": {
  "kernelspec": {
   "display_name": "Python 3",
   "language": "python",
   "name": "python3"
  },
  "language_info": {
   "codemirror_mode": {
    "name": "ipython",
    "version": 3
   },
   "file_extension": ".py",
   "mimetype": "text/x-python",
   "name": "python",
   "nbconvert_exporter": "python",
   "pygments_lexer": "ipython3",
   "version": "3.9.10"
  }
 },
 "nbformat": 4,
 "nbformat_minor": 5
}
