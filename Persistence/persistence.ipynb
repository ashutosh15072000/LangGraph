{
 "cells": [
  {
   "cell_type": "code",
   "execution_count": 1,
   "id": "8cefd00f",
   "metadata": {},
   "outputs": [],
   "source": [
    "from langgraph.graph import START,END,StateGraph\n",
    "from typing import TypedDict\n",
    "from langchain_google_genai import ChatGoogleGenerativeAI\n",
    "from dotenv import load_dotenv\n",
    "import os\n",
    "from langgraph.checkpoint.memory import InMemorySaver"
   ]
  },
  {
   "cell_type": "code",
   "execution_count": 2,
   "id": "0569b640",
   "metadata": {},
   "outputs": [],
   "source": [
    "load_dotenv()\n",
    "import os\n",
    "api_key=os.getenv(\"GOOGLE_API_KEY\")"
   ]
  },
  {
   "cell_type": "code",
   "execution_count": 3,
   "id": "6d98be04",
   "metadata": {},
   "outputs": [],
   "source": [
    "llm=ChatGoogleGenerativeAI(model=\"gemini-2.5-flash\",google_api_key=api_key)"
   ]
  },
  {
   "cell_type": "code",
   "execution_count": 4,
   "id": "3a5ddb84",
   "metadata": {},
   "outputs": [],
   "source": [
    "class JokeState(TypedDict):\n",
    "    \"\"\"A state for a joke.\"\"\"\n",
    "    topic: str\n",
    "    joke: str\n",
    "    explaination: str\n",
    "    "
   ]
  },
  {
   "cell_type": "code",
   "execution_count": 5,
   "id": "ad11ae80",
   "metadata": {},
   "outputs": [],
   "source": [
    "def generate_joke(state: JokeState ):\n",
    "    # Generate a joke based on the state\n",
    "    prompt=f'Generate a joke on the topic - {state[\"topic\"]}'\n",
    "    response=llm.invoke(prompt).content\n",
    "    return {'joke':response}"
   ]
  },
  {
   "cell_type": "code",
   "execution_count": 6,
   "id": "fd27b8fb",
   "metadata": {},
   "outputs": [],
   "source": [
    "def generate_explaination(state: JokeState):\n",
    "    \"\"\"Generate an explanation for the current state of the joke.\"\"\"\n",
    "\n",
    "    prompt=f'Write an explaination for the joke {state[\"joke\"]}'\n",
    "    response=llm.invoke(prompt).content\n",
    "    return {'explaination':response}"
   ]
  },
  {
   "cell_type": "code",
   "execution_count": 7,
   "id": "ee5cb77a",
   "metadata": {},
   "outputs": [],
   "source": [
    "graph=StateGraph(JokeState)\n",
    "\n",
    "## ADD NODE\n",
    "graph.add_node('generate_joke',generate_joke)\n",
    "graph.add_node('generate_explaination',generate_explaination)\n",
    "\n",
    "## ADD EDGE\n",
    "graph.add_edge(START ,'generate_joke')\n",
    "graph.add_edge('generate_joke' ,'generate_explaination')\n",
    "graph.add_edge('generate_explaination',END)\n",
    "\n",
    "## PERSISTENCE\n",
    "checkpointer=InMemorySaver()\n",
    "\n",
    "## COMPILE\n",
    "workflow=graph.compile(checkpointer=checkpointer)"
   ]
  },
  {
   "cell_type": "code",
   "execution_count": 9,
   "id": "b58ab9bb",
   "metadata": {},
   "outputs": [
    {
     "data": {
      "text/plain": [
       "{'topic': 'pizza',\n",
       " 'joke': \"Why did the pizza get a bad reputation?\\n\\nBecause it was always late, and people just couldn't **crust** it anymore!\",\n",
       " 'explaination': 'This joke is a classic example of a **pun**!\\n\\nHere\\'s the breakdown:\\n\\n1.  **The Setup:** The pizza is always late, which naturally makes people frustrated and lose faith in its reliability. If something is always late, you can\\'t **trust** it.\\n\\n2.  **The Pun:** The word \"crust\" (the outer edge of a pizza) sounds almost exactly like the word \"trust\" (to have confidence in someone or something).\\n\\n3.  **The Punchline:** The joke replaces \"trust\" with \"crust\" because we\\'re talking about a pizza. So, \"people just couldn\\'t **crust** it anymore\" is a silly, pizza-themed way of saying they couldn\\'t **trust** it anymore to be on time.\\n\\nThe humor comes from the unexpected, yet perfectly fitting, play on words, connecting the pizza\\'s physical characteristic (crust) with the concept of reliability (trust).'}"
      ]
     },
     "execution_count": 9,
     "metadata": {},
     "output_type": "execute_result"
    }
   ],
   "source": [
    "config_1={'configurable': {'thread_id': '1'}}\n",
    "workflow.invoke({'topic':'pizza'},config=config_1)"
   ]
  },
  {
   "cell_type": "code",
   "execution_count": 11,
   "id": "a0751068",
   "metadata": {},
   "outputs": [
    {
     "data": {
      "text/plain": [
       "StateSnapshot(values={'topic': 'pizza', 'joke': \"Why did the pizza get a bad reputation?\\n\\nBecause it was always late, and people just couldn't **crust** it anymore!\", 'explaination': 'This joke is a classic example of a **pun**!\\n\\nHere\\'s the breakdown:\\n\\n1.  **The Setup:** The pizza is always late, which naturally makes people frustrated and lose faith in its reliability. If something is always late, you can\\'t **trust** it.\\n\\n2.  **The Pun:** The word \"crust\" (the outer edge of a pizza) sounds almost exactly like the word \"trust\" (to have confidence in someone or something).\\n\\n3.  **The Punchline:** The joke replaces \"trust\" with \"crust\" because we\\'re talking about a pizza. So, \"people just couldn\\'t **crust** it anymore\" is a silly, pizza-themed way of saying they couldn\\'t **trust** it anymore to be on time.\\n\\nThe humor comes from the unexpected, yet perfectly fitting, play on words, connecting the pizza\\'s physical characteristic (crust) with the concept of reliability (trust).'}, next=(), config={'configurable': {'thread_id': '1', 'checkpoint_ns': '', 'checkpoint_id': '1f06ddc8-a9e6-6b7c-8002-0e44566eda7a'}}, metadata={'source': 'loop', 'writes': {'generate_explaination': {'explaination': 'This joke is a classic example of a **pun**!\\n\\nHere\\'s the breakdown:\\n\\n1.  **The Setup:** The pizza is always late, which naturally makes people frustrated and lose faith in its reliability. If something is always late, you can\\'t **trust** it.\\n\\n2.  **The Pun:** The word \"crust\" (the outer edge of a pizza) sounds almost exactly like the word \"trust\" (to have confidence in someone or something).\\n\\n3.  **The Punchline:** The joke replaces \"trust\" with \"crust\" because we\\'re talking about a pizza. So, \"people just couldn\\'t **crust** it anymore\" is a silly, pizza-themed way of saying they couldn\\'t **trust** it anymore to be on time.\\n\\nThe humor comes from the unexpected, yet perfectly fitting, play on words, connecting the pizza\\'s physical characteristic (crust) with the concept of reliability (trust).'}}, 'step': 2, 'parents': {}, 'thread_id': '1'}, created_at='2025-07-31T07:04:03.435609+00:00', parent_config={'configurable': {'thread_id': '1', 'checkpoint_ns': '', 'checkpoint_id': '1f06ddc8-6a8b-6278-8001-6fca60f7384d'}}, tasks=(), interrupts=())"
      ]
     },
     "execution_count": 11,
     "metadata": {},
     "output_type": "execute_result"
    }
   ],
   "source": [
    "## Get final state value\n",
    "workflow.get_state(config_1)"
   ]
  },
  {
   "cell_type": "code",
   "execution_count": 13,
   "id": "2ca6dda6",
   "metadata": {},
   "outputs": [
    {
     "data": {
      "text/plain": [
       "[StateSnapshot(values={'topic': 'pizza', 'joke': \"Why did the pizza get a bad reputation?\\n\\nBecause it was always late, and people just couldn't **crust** it anymore!\", 'explaination': 'This joke is a classic example of a **pun**!\\n\\nHere\\'s the breakdown:\\n\\n1.  **The Setup:** The pizza is always late, which naturally makes people frustrated and lose faith in its reliability. If something is always late, you can\\'t **trust** it.\\n\\n2.  **The Pun:** The word \"crust\" (the outer edge of a pizza) sounds almost exactly like the word \"trust\" (to have confidence in someone or something).\\n\\n3.  **The Punchline:** The joke replaces \"trust\" with \"crust\" because we\\'re talking about a pizza. So, \"people just couldn\\'t **crust** it anymore\" is a silly, pizza-themed way of saying they couldn\\'t **trust** it anymore to be on time.\\n\\nThe humor comes from the unexpected, yet perfectly fitting, play on words, connecting the pizza\\'s physical characteristic (crust) with the concept of reliability (trust).'}, next=(), config={'configurable': {'thread_id': '1', 'checkpoint_ns': '', 'checkpoint_id': '1f06ddc8-a9e6-6b7c-8002-0e44566eda7a'}}, metadata={'source': 'loop', 'writes': {'generate_explaination': {'explaination': 'This joke is a classic example of a **pun**!\\n\\nHere\\'s the breakdown:\\n\\n1.  **The Setup:** The pizza is always late, which naturally makes people frustrated and lose faith in its reliability. If something is always late, you can\\'t **trust** it.\\n\\n2.  **The Pun:** The word \"crust\" (the outer edge of a pizza) sounds almost exactly like the word \"trust\" (to have confidence in someone or something).\\n\\n3.  **The Punchline:** The joke replaces \"trust\" with \"crust\" because we\\'re talking about a pizza. So, \"people just couldn\\'t **crust** it anymore\" is a silly, pizza-themed way of saying they couldn\\'t **trust** it anymore to be on time.\\n\\nThe humor comes from the unexpected, yet perfectly fitting, play on words, connecting the pizza\\'s physical characteristic (crust) with the concept of reliability (trust).'}}, 'step': 2, 'parents': {}, 'thread_id': '1'}, created_at='2025-07-31T07:04:03.435609+00:00', parent_config={'configurable': {'thread_id': '1', 'checkpoint_ns': '', 'checkpoint_id': '1f06ddc8-6a8b-6278-8001-6fca60f7384d'}}, tasks=(), interrupts=()),\n",
       " StateSnapshot(values={'topic': 'pizza', 'joke': \"Why did the pizza get a bad reputation?\\n\\nBecause it was always late, and people just couldn't **crust** it anymore!\"}, next=('generate_explaination',), config={'configurable': {'thread_id': '1', 'checkpoint_ns': '', 'checkpoint_id': '1f06ddc8-6a8b-6278-8001-6fca60f7384d'}}, metadata={'source': 'loop', 'writes': {'generate_joke': {'joke': \"Why did the pizza get a bad reputation?\\n\\nBecause it was always late, and people just couldn't **crust** it anymore!\"}}, 'step': 1, 'parents': {}, 'thread_id': '1'}, created_at='2025-07-31T07:03:56.792076+00:00', parent_config={'configurable': {'thread_id': '1', 'checkpoint_ns': '', 'checkpoint_id': '1f06ddc8-089b-68ef-8000-fcbe39ba9d8b'}}, tasks=(PregelTask(id='3d92561f-08df-78e5-df4b-c51fb089843e', name='generate_explaination', path=('__pregel_pull', 'generate_explaination'), error=None, interrupts=(), state=None, result={'explaination': 'This joke is a classic example of a **pun**!\\n\\nHere\\'s the breakdown:\\n\\n1.  **The Setup:** The pizza is always late, which naturally makes people frustrated and lose faith in its reliability. If something is always late, you can\\'t **trust** it.\\n\\n2.  **The Pun:** The word \"crust\" (the outer edge of a pizza) sounds almost exactly like the word \"trust\" (to have confidence in someone or something).\\n\\n3.  **The Punchline:** The joke replaces \"trust\" with \"crust\" because we\\'re talking about a pizza. So, \"people just couldn\\'t **crust** it anymore\" is a silly, pizza-themed way of saying they couldn\\'t **trust** it anymore to be on time.\\n\\nThe humor comes from the unexpected, yet perfectly fitting, play on words, connecting the pizza\\'s physical characteristic (crust) with the concept of reliability (trust).'}),), interrupts=()),\n",
       " StateSnapshot(values={'topic': 'pizza'}, next=('generate_joke',), config={'configurable': {'thread_id': '1', 'checkpoint_ns': '', 'checkpoint_id': '1f06ddc8-089b-68ef-8000-fcbe39ba9d8b'}}, metadata={'source': 'loop', 'writes': None, 'step': 0, 'parents': {}, 'thread_id': '1'}, created_at='2025-07-31T07:03:46.522750+00:00', parent_config={'configurable': {'thread_id': '1', 'checkpoint_ns': '', 'checkpoint_id': '1f06ddc8-0898-6ab9-bfff-2f4da75271c0'}}, tasks=(PregelTask(id='f057dcdd-820b-342b-353b-a61384aff923', name='generate_joke', path=('__pregel_pull', 'generate_joke'), error=None, interrupts=(), state=None, result={'joke': \"Why did the pizza get a bad reputation?\\n\\nBecause it was always late, and people just couldn't **crust** it anymore!\"}),), interrupts=()),\n",
       " StateSnapshot(values={}, next=('__start__',), config={'configurable': {'thread_id': '1', 'checkpoint_ns': '', 'checkpoint_id': '1f06ddc8-0898-6ab9-bfff-2f4da75271c0'}}, metadata={'source': 'input', 'writes': {'__start__': {'topic': 'pizza'}}, 'step': -1, 'parents': {}, 'thread_id': '1'}, created_at='2025-07-31T07:03:46.521567+00:00', parent_config=None, tasks=(PregelTask(id='4b423c6d-53b8-2742-d8dc-ec915736fbfc', name='__start__', path=('__pregel_pull', '__start__'), error=None, interrupts=(), state=None, result={'topic': 'pizza'}),), interrupts=())]"
      ]
     },
     "execution_count": 13,
     "metadata": {},
     "output_type": "execute_result"
    }
   ],
   "source": [
    "## Get Entire state value\n",
    "list(workflow.get_state_history(config_1))"
   ]
  },
  {
   "cell_type": "code",
   "execution_count": 14,
   "id": "b06efc51",
   "metadata": {},
   "outputs": [
    {
     "data": {
      "text/plain": [
       "{'topic': 'Pasta',\n",
       " 'joke': 'Why did the pasta break up with the sauce?\\n\\nBecause it was always thinking about the **past-a**!',\n",
       " 'explaination': 'This joke is a classic example of a **pun**! It works by playing on the similar sound of two different phrases.\\n\\nHere\\'s the breakdown:\\n\\n1.  **The Setup:** The joke sets up a scenario where pasta and sauce are personified, acting like humans in a relationship. This makes the idea of them \"breaking up\" relatable, even though they\\'re just food.\\n\\n2.  **The Punchline:** \"Because it was always thinking about the **past-a**!\"\\n    *   **Sound-alike:** The phrase \"past-a\" is spelled to look like \"pasta\" (the food), but it\\'s pronounced exactly like \"the past.\"\\n    *   **The \"Past\" Meaning:** In human relationships, if someone is \"always thinking about the past,\" it usually implies they are dwelling on old issues, previous relationships, or a time gone by. This often prevents them from moving forward in the current relationship and can be a reason for a breakup.\\n    *   **The Pun:** The joke takes this very human reason for a breakup and cleverly applies it to the pasta, making it sound like the *pasta itself* was too preoccupied with its \"past\" (its history, perhaps) to make the relationship with the sauce work.\\n\\nThe humor comes from the unexpected twist of applying a very human reason for a breakup to an inanimate food item, all through a clever bit of wordplay that plays on the sound of \"pasta\" and \"the past.\" It\\'s a simple, groan-worthy pun that relies on a phonetic trick!'}"
      ]
     },
     "execution_count": 14,
     "metadata": {},
     "output_type": "execute_result"
    }
   ],
   "source": [
    "config_2={'configurable': {'thread_id': '2'}}\n",
    "workflow.invoke({'topic':'Pasta'},config=config_2)"
   ]
  },
  {
   "cell_type": "code",
   "execution_count": 15,
   "id": "15e86746",
   "metadata": {},
   "outputs": [
    {
     "data": {
      "text/plain": [
       "StateSnapshot(values={'topic': 'Pasta', 'joke': 'Why did the pasta break up with the sauce?\\n\\nBecause it was always thinking about the **past-a**!', 'explaination': 'This joke is a classic example of a **pun**! It works by playing on the similar sound of two different phrases.\\n\\nHere\\'s the breakdown:\\n\\n1.  **The Setup:** The joke sets up a scenario where pasta and sauce are personified, acting like humans in a relationship. This makes the idea of them \"breaking up\" relatable, even though they\\'re just food.\\n\\n2.  **The Punchline:** \"Because it was always thinking about the **past-a**!\"\\n    *   **Sound-alike:** The phrase \"past-a\" is spelled to look like \"pasta\" (the food), but it\\'s pronounced exactly like \"the past.\"\\n    *   **The \"Past\" Meaning:** In human relationships, if someone is \"always thinking about the past,\" it usually implies they are dwelling on old issues, previous relationships, or a time gone by. This often prevents them from moving forward in the current relationship and can be a reason for a breakup.\\n    *   **The Pun:** The joke takes this very human reason for a breakup and cleverly applies it to the pasta, making it sound like the *pasta itself* was too preoccupied with its \"past\" (its history, perhaps) to make the relationship with the sauce work.\\n\\nThe humor comes from the unexpected twist of applying a very human reason for a breakup to an inanimate food item, all through a clever bit of wordplay that plays on the sound of \"pasta\" and \"the past.\" It\\'s a simple, groan-worthy pun that relies on a phonetic trick!'}, next=(), config={'configurable': {'thread_id': '2', 'checkpoint_ns': '', 'checkpoint_id': '1f06ddd1-d18b-669f-8002-f6424830c4ca'}}, metadata={'source': 'loop', 'writes': {'generate_explaination': {'explaination': 'This joke is a classic example of a **pun**! It works by playing on the similar sound of two different phrases.\\n\\nHere\\'s the breakdown:\\n\\n1.  **The Setup:** The joke sets up a scenario where pasta and sauce are personified, acting like humans in a relationship. This makes the idea of them \"breaking up\" relatable, even though they\\'re just food.\\n\\n2.  **The Punchline:** \"Because it was always thinking about the **past-a**!\"\\n    *   **Sound-alike:** The phrase \"past-a\" is spelled to look like \"pasta\" (the food), but it\\'s pronounced exactly like \"the past.\"\\n    *   **The \"Past\" Meaning:** In human relationships, if someone is \"always thinking about the past,\" it usually implies they are dwelling on old issues, previous relationships, or a time gone by. This often prevents them from moving forward in the current relationship and can be a reason for a breakup.\\n    *   **The Pun:** The joke takes this very human reason for a breakup and cleverly applies it to the pasta, making it sound like the *pasta itself* was too preoccupied with its \"past\" (its history, perhaps) to make the relationship with the sauce work.\\n\\nThe humor comes from the unexpected twist of applying a very human reason for a breakup to an inanimate food item, all through a clever bit of wordplay that plays on the sound of \"pasta\" and \"the past.\" It\\'s a simple, groan-worthy pun that relies on a phonetic trick!'}}, 'step': 2, 'parents': {}, 'thread_id': '2'}, created_at='2025-07-31T07:08:09.184425+00:00', parent_config={'configurable': {'thread_id': '2', 'checkpoint_ns': '', 'checkpoint_id': '1f06ddd1-82bc-64ef-8001-ac036f490bba'}}, tasks=(), interrupts=())"
      ]
     },
     "execution_count": 15,
     "metadata": {},
     "output_type": "execute_result"
    }
   ],
   "source": [
    "## Get final state value\n",
    "workflow.get_state(config_2)"
   ]
  },
  {
   "cell_type": "code",
   "execution_count": 16,
   "id": "d8c4d95a",
   "metadata": {},
   "outputs": [
    {
     "data": {
      "text/plain": [
       "[StateSnapshot(values={'topic': 'Pasta', 'joke': 'Why did the pasta break up with the sauce?\\n\\nBecause it was always thinking about the **past-a**!', 'explaination': 'This joke is a classic example of a **pun**! It works by playing on the similar sound of two different phrases.\\n\\nHere\\'s the breakdown:\\n\\n1.  **The Setup:** The joke sets up a scenario where pasta and sauce are personified, acting like humans in a relationship. This makes the idea of them \"breaking up\" relatable, even though they\\'re just food.\\n\\n2.  **The Punchline:** \"Because it was always thinking about the **past-a**!\"\\n    *   **Sound-alike:** The phrase \"past-a\" is spelled to look like \"pasta\" (the food), but it\\'s pronounced exactly like \"the past.\"\\n    *   **The \"Past\" Meaning:** In human relationships, if someone is \"always thinking about the past,\" it usually implies they are dwelling on old issues, previous relationships, or a time gone by. This often prevents them from moving forward in the current relationship and can be a reason for a breakup.\\n    *   **The Pun:** The joke takes this very human reason for a breakup and cleverly applies it to the pasta, making it sound like the *pasta itself* was too preoccupied with its \"past\" (its history, perhaps) to make the relationship with the sauce work.\\n\\nThe humor comes from the unexpected twist of applying a very human reason for a breakup to an inanimate food item, all through a clever bit of wordplay that plays on the sound of \"pasta\" and \"the past.\" It\\'s a simple, groan-worthy pun that relies on a phonetic trick!'}, next=(), config={'configurable': {'thread_id': '2', 'checkpoint_ns': '', 'checkpoint_id': '1f06ddd1-d18b-669f-8002-f6424830c4ca'}}, metadata={'source': 'loop', 'writes': {'generate_explaination': {'explaination': 'This joke is a classic example of a **pun**! It works by playing on the similar sound of two different phrases.\\n\\nHere\\'s the breakdown:\\n\\n1.  **The Setup:** The joke sets up a scenario where pasta and sauce are personified, acting like humans in a relationship. This makes the idea of them \"breaking up\" relatable, even though they\\'re just food.\\n\\n2.  **The Punchline:** \"Because it was always thinking about the **past-a**!\"\\n    *   **Sound-alike:** The phrase \"past-a\" is spelled to look like \"pasta\" (the food), but it\\'s pronounced exactly like \"the past.\"\\n    *   **The \"Past\" Meaning:** In human relationships, if someone is \"always thinking about the past,\" it usually implies they are dwelling on old issues, previous relationships, or a time gone by. This often prevents them from moving forward in the current relationship and can be a reason for a breakup.\\n    *   **The Pun:** The joke takes this very human reason for a breakup and cleverly applies it to the pasta, making it sound like the *pasta itself* was too preoccupied with its \"past\" (its history, perhaps) to make the relationship with the sauce work.\\n\\nThe humor comes from the unexpected twist of applying a very human reason for a breakup to an inanimate food item, all through a clever bit of wordplay that plays on the sound of \"pasta\" and \"the past.\" It\\'s a simple, groan-worthy pun that relies on a phonetic trick!'}}, 'step': 2, 'parents': {}, 'thread_id': '2'}, created_at='2025-07-31T07:08:09.184425+00:00', parent_config={'configurable': {'thread_id': '2', 'checkpoint_ns': '', 'checkpoint_id': '1f06ddd1-82bc-64ef-8001-ac036f490bba'}}, tasks=(), interrupts=()),\n",
       " StateSnapshot(values={'topic': 'Pasta', 'joke': 'Why did the pasta break up with the sauce?\\n\\nBecause it was always thinking about the **past-a**!'}, next=('generate_explaination',), config={'configurable': {'thread_id': '2', 'checkpoint_ns': '', 'checkpoint_id': '1f06ddd1-82bc-64ef-8001-ac036f490bba'}}, metadata={'source': 'loop', 'writes': {'generate_joke': {'joke': 'Why did the pasta break up with the sauce?\\n\\nBecause it was always thinking about the **past-a**!'}}, 'step': 1, 'parents': {}, 'thread_id': '2'}, created_at='2025-07-31T07:08:00.920702+00:00', parent_config={'configurable': {'thread_id': '2', 'checkpoint_ns': '', 'checkpoint_id': '1f06ddd1-37fa-69b6-8000-52794171a131'}}, tasks=(PregelTask(id='3350fac4-bf25-4120-74c6-8b4f405c6fa8', name='generate_explaination', path=('__pregel_pull', 'generate_explaination'), error=None, interrupts=(), state=None, result={'explaination': 'This joke is a classic example of a **pun**! It works by playing on the similar sound of two different phrases.\\n\\nHere\\'s the breakdown:\\n\\n1.  **The Setup:** The joke sets up a scenario where pasta and sauce are personified, acting like humans in a relationship. This makes the idea of them \"breaking up\" relatable, even though they\\'re just food.\\n\\n2.  **The Punchline:** \"Because it was always thinking about the **past-a**!\"\\n    *   **Sound-alike:** The phrase \"past-a\" is spelled to look like \"pasta\" (the food), but it\\'s pronounced exactly like \"the past.\"\\n    *   **The \"Past\" Meaning:** In human relationships, if someone is \"always thinking about the past,\" it usually implies they are dwelling on old issues, previous relationships, or a time gone by. This often prevents them from moving forward in the current relationship and can be a reason for a breakup.\\n    *   **The Pun:** The joke takes this very human reason for a breakup and cleverly applies it to the pasta, making it sound like the *pasta itself* was too preoccupied with its \"past\" (its history, perhaps) to make the relationship with the sauce work.\\n\\nThe humor comes from the unexpected twist of applying a very human reason for a breakup to an inanimate food item, all through a clever bit of wordplay that plays on the sound of \"pasta\" and \"the past.\" It\\'s a simple, groan-worthy pun that relies on a phonetic trick!'}),), interrupts=()),\n",
       " StateSnapshot(values={'topic': 'Pasta'}, next=('generate_joke',), config={'configurable': {'thread_id': '2', 'checkpoint_ns': '', 'checkpoint_id': '1f06ddd1-37fa-69b6-8000-52794171a131'}}, metadata={'source': 'loop', 'writes': None, 'step': 0, 'parents': {}, 'thread_id': '2'}, created_at='2025-07-31T07:07:53.081899+00:00', parent_config={'configurable': {'thread_id': '2', 'checkpoint_ns': '', 'checkpoint_id': '1f06ddd1-37f7-69b8-bfff-54e343a406f1'}}, tasks=(PregelTask(id='b43ee502-6a7c-f5ec-3c94-aa8b3c228202', name='generate_joke', path=('__pregel_pull', 'generate_joke'), error=None, interrupts=(), state=None, result={'joke': 'Why did the pasta break up with the sauce?\\n\\nBecause it was always thinking about the **past-a**!'}),), interrupts=()),\n",
       " StateSnapshot(values={}, next=('__start__',), config={'configurable': {'thread_id': '2', 'checkpoint_ns': '', 'checkpoint_id': '1f06ddd1-37f7-69b8-bfff-54e343a406f1'}}, metadata={'source': 'input', 'writes': {'__start__': {'topic': 'Pasta'}}, 'step': -1, 'parents': {}, 'thread_id': '2'}, created_at='2025-07-31T07:07:53.080671+00:00', parent_config=None, tasks=(PregelTask(id='a1925e9d-4663-5f28-5439-6de220287409', name='__start__', path=('__pregel_pull', '__start__'), error=None, interrupts=(), state=None, result={'topic': 'Pasta'}),), interrupts=())]"
      ]
     },
     "execution_count": 16,
     "metadata": {},
     "output_type": "execute_result"
    }
   ],
   "source": [
    "## Get Entire state value\n",
    "list(workflow.get_state_history(config_2))"
   ]
  },
  {
   "cell_type": "markdown",
   "id": "00348a68",
   "metadata": {},
   "source": [
    "## Time Travel"
   ]
  },
  {
   "cell_type": "code",
   "execution_count": 18,
   "id": "36534d15",
   "metadata": {},
   "outputs": [
    {
     "data": {
      "text/plain": [
       "StateSnapshot(values={'topic': 'Pasta'}, next=('generate_joke',), config={'configurable': {'thread_id': '2', 'checkpoint_id': '1f06ddd1-37fa-69b6-8000-52794171a131'}}, metadata={'source': 'loop', 'writes': None, 'step': 0, 'parents': {}, 'thread_id': '2'}, created_at='2025-07-31T07:07:53.081899+00:00', parent_config={'configurable': {'thread_id': '2', 'checkpoint_ns': '', 'checkpoint_id': '1f06ddd1-37f7-69b8-bfff-54e343a406f1'}}, tasks=(PregelTask(id='b43ee502-6a7c-f5ec-3c94-aa8b3c228202', name='generate_joke', path=('__pregel_pull', 'generate_joke'), error=None, interrupts=(), state=None, result={'joke': 'Why did the pasta break up with the sauce?\\n\\nBecause it was always thinking about the **past-a**!'}),), interrupts=())"
      ]
     },
     "execution_count": 18,
     "metadata": {},
     "output_type": "execute_result"
    }
   ],
   "source": [
    "workflow.get_state({\"configurable\": {\"thread_id\": \"2\", \"checkpoint_id\": \"1f06ddd1-37fa-69b6-8000-52794171a131\"}})"
   ]
  },
  {
   "cell_type": "code",
   "execution_count": 20,
   "id": "50f8366a",
   "metadata": {},
   "outputs": [
    {
     "data": {
      "text/plain": [
       "{'topic': 'Pasta',\n",
       " 'joke': \"Why did the pasta break up with the tomato sauce?\\n\\nBecause it couldn't *marinara* the relationship anymore!\",\n",
       " 'explaination': 'This joke is a classic pun! Here\\'s the breakdown:\\n\\n1.  **The Setup:** \"Why did the pasta break up with the tomato sauce?\" This sets up a scenario where two things that usually go together (pasta and sauce) are having relationship problems, treating them like people.\\n\\n2.  **The Pun:** The humor comes from the word \"**marinara**.\"\\n    *   **Literal Meaning:** Marinara is a type of tomato sauce, often served with pasta. This connects directly to the \"tomato sauce\" in the joke.\\n    *   **Sound-Alike:** \"Marinara\" sounds very similar to \"manage\" or \"maintain\" (especially \"marry \\'n\\' era\" or \"manage \\'n\\' era\").\\n\\n3.  **The Punchline:** \"Because it couldn\\'t *marinara* the relationship anymore!\"\\n    *   When you substitute the sound-alike, it becomes: \"Because it couldn\\'t **manage/maintain** the relationship anymore!\"\\n\\nThe humor comes from the unexpected wordplay, taking a common food term and twisting it to sound like a phrase related to relationship struggles. It\\'s silly, unexpected, and plays on words!'}"
      ]
     },
     "execution_count": 20,
     "metadata": {},
     "output_type": "execute_result"
    }
   ],
   "source": [
    "workflow.invoke(None,{\"configurable\": {\"thread_id\": \"2\", \"checkpoint_id\": \"1f06ddd1-37fa-69b6-8000-52794171a131\"}})"
   ]
  },
  {
   "cell_type": "code",
   "execution_count": 21,
   "id": "4829ed8f",
   "metadata": {},
   "outputs": [
    {
     "data": {
      "text/plain": [
       "[StateSnapshot(values={'topic': 'Pasta', 'joke': \"Why did the pasta break up with the tomato sauce?\\n\\nBecause it couldn't *marinara* the relationship anymore!\", 'explaination': 'This joke is a classic pun! Here\\'s the breakdown:\\n\\n1.  **The Setup:** \"Why did the pasta break up with the tomato sauce?\" This sets up a scenario where two things that usually go together (pasta and sauce) are having relationship problems, treating them like people.\\n\\n2.  **The Pun:** The humor comes from the word \"**marinara**.\"\\n    *   **Literal Meaning:** Marinara is a type of tomato sauce, often served with pasta. This connects directly to the \"tomato sauce\" in the joke.\\n    *   **Sound-Alike:** \"Marinara\" sounds very similar to \"manage\" or \"maintain\" (especially \"marry \\'n\\' era\" or \"manage \\'n\\' era\").\\n\\n3.  **The Punchline:** \"Because it couldn\\'t *marinara* the relationship anymore!\"\\n    *   When you substitute the sound-alike, it becomes: \"Because it couldn\\'t **manage/maintain** the relationship anymore!\"\\n\\nThe humor comes from the unexpected wordplay, taking a common food term and twisting it to sound like a phrase related to relationship struggles. It\\'s silly, unexpected, and plays on words!'}, next=(), config={'configurable': {'thread_id': '2', 'checkpoint_ns': '', 'checkpoint_id': '1f06ddfc-e541-660e-8002-61fdf51b6f09'}}, metadata={'source': 'loop', 'writes': {'generate_explaination': {'explaination': 'This joke is a classic pun! Here\\'s the breakdown:\\n\\n1.  **The Setup:** \"Why did the pasta break up with the tomato sauce?\" This sets up a scenario where two things that usually go together (pasta and sauce) are having relationship problems, treating them like people.\\n\\n2.  **The Pun:** The humor comes from the word \"**marinara**.\"\\n    *   **Literal Meaning:** Marinara is a type of tomato sauce, often served with pasta. This connects directly to the \"tomato sauce\" in the joke.\\n    *   **Sound-Alike:** \"Marinara\" sounds very similar to \"manage\" or \"maintain\" (especially \"marry \\'n\\' era\" or \"manage \\'n\\' era\").\\n\\n3.  **The Punchline:** \"Because it couldn\\'t *marinara* the relationship anymore!\"\\n    *   When you substitute the sound-alike, it becomes: \"Because it couldn\\'t **manage/maintain** the relationship anymore!\"\\n\\nThe humor comes from the unexpected wordplay, taking a common food term and twisting it to sound like a phrase related to relationship struggles. It\\'s silly, unexpected, and plays on words!'}}, 'step': 2, 'parents': {}, 'thread_id': '2'}, created_at='2025-07-31T07:27:25.523713+00:00', parent_config={'configurable': {'thread_id': '2', 'checkpoint_ns': '', 'checkpoint_id': '1f06ddfc-a4e2-6f21-8001-0709c5a82a51'}}, tasks=(), interrupts=()),\n",
       " StateSnapshot(values={'topic': 'Pasta', 'joke': \"Why did the pasta break up with the tomato sauce?\\n\\nBecause it couldn't *marinara* the relationship anymore!\"}, next=('generate_explaination',), config={'configurable': {'thread_id': '2', 'checkpoint_ns': '', 'checkpoint_id': '1f06ddfc-a4e2-6f21-8001-0709c5a82a51'}}, metadata={'source': 'loop', 'writes': {'generate_joke': {'joke': \"Why did the pasta break up with the tomato sauce?\\n\\nBecause it couldn't *marinara* the relationship anymore!\"}}, 'step': 1, 'parents': {}, 'thread_id': '2'}, created_at='2025-07-31T07:27:18.774147+00:00', parent_config={'configurable': {'thread_id': '2', 'checkpoint_ns': '', 'checkpoint_id': '1f06ddd1-37fa-69b6-8000-52794171a131'}}, tasks=(PregelTask(id='d0b41f68-d6a4-14ce-4521-308d176f362f', name='generate_explaination', path=('__pregel_pull', 'generate_explaination'), error=None, interrupts=(), state=None, result={'explaination': 'This joke is a classic pun! Here\\'s the breakdown:\\n\\n1.  **The Setup:** \"Why did the pasta break up with the tomato sauce?\" This sets up a scenario where two things that usually go together (pasta and sauce) are having relationship problems, treating them like people.\\n\\n2.  **The Pun:** The humor comes from the word \"**marinara**.\"\\n    *   **Literal Meaning:** Marinara is a type of tomato sauce, often served with pasta. This connects directly to the \"tomato sauce\" in the joke.\\n    *   **Sound-Alike:** \"Marinara\" sounds very similar to \"manage\" or \"maintain\" (especially \"marry \\'n\\' era\" or \"manage \\'n\\' era\").\\n\\n3.  **The Punchline:** \"Because it couldn\\'t *marinara* the relationship anymore!\"\\n    *   When you substitute the sound-alike, it becomes: \"Because it couldn\\'t **manage/maintain** the relationship anymore!\"\\n\\nThe humor comes from the unexpected wordplay, taking a common food term and twisting it to sound like a phrase related to relationship struggles. It\\'s silly, unexpected, and plays on words!'}),), interrupts=()),\n",
       " StateSnapshot(values={'topic': 'Pasta', 'joke': 'Why did the pasta break up with the sauce?\\n\\nBecause it was always thinking about the **past-a**!', 'explaination': 'This joke is a classic example of a **pun**! It works by playing on the similar sound of two different phrases.\\n\\nHere\\'s the breakdown:\\n\\n1.  **The Setup:** The joke sets up a scenario where pasta and sauce are personified, acting like humans in a relationship. This makes the idea of them \"breaking up\" relatable, even though they\\'re just food.\\n\\n2.  **The Punchline:** \"Because it was always thinking about the **past-a**!\"\\n    *   **Sound-alike:** The phrase \"past-a\" is spelled to look like \"pasta\" (the food), but it\\'s pronounced exactly like \"the past.\"\\n    *   **The \"Past\" Meaning:** In human relationships, if someone is \"always thinking about the past,\" it usually implies they are dwelling on old issues, previous relationships, or a time gone by. This often prevents them from moving forward in the current relationship and can be a reason for a breakup.\\n    *   **The Pun:** The joke takes this very human reason for a breakup and cleverly applies it to the pasta, making it sound like the *pasta itself* was too preoccupied with its \"past\" (its history, perhaps) to make the relationship with the sauce work.\\n\\nThe humor comes from the unexpected twist of applying a very human reason for a breakup to an inanimate food item, all through a clever bit of wordplay that plays on the sound of \"pasta\" and \"the past.\" It\\'s a simple, groan-worthy pun that relies on a phonetic trick!'}, next=(), config={'configurable': {'thread_id': '2', 'checkpoint_ns': '', 'checkpoint_id': '1f06ddd1-d18b-669f-8002-f6424830c4ca'}}, metadata={'source': 'loop', 'writes': {'generate_explaination': {'explaination': 'This joke is a classic example of a **pun**! It works by playing on the similar sound of two different phrases.\\n\\nHere\\'s the breakdown:\\n\\n1.  **The Setup:** The joke sets up a scenario where pasta and sauce are personified, acting like humans in a relationship. This makes the idea of them \"breaking up\" relatable, even though they\\'re just food.\\n\\n2.  **The Punchline:** \"Because it was always thinking about the **past-a**!\"\\n    *   **Sound-alike:** The phrase \"past-a\" is spelled to look like \"pasta\" (the food), but it\\'s pronounced exactly like \"the past.\"\\n    *   **The \"Past\" Meaning:** In human relationships, if someone is \"always thinking about the past,\" it usually implies they are dwelling on old issues, previous relationships, or a time gone by. This often prevents them from moving forward in the current relationship and can be a reason for a breakup.\\n    *   **The Pun:** The joke takes this very human reason for a breakup and cleverly applies it to the pasta, making it sound like the *pasta itself* was too preoccupied with its \"past\" (its history, perhaps) to make the relationship with the sauce work.\\n\\nThe humor comes from the unexpected twist of applying a very human reason for a breakup to an inanimate food item, all through a clever bit of wordplay that plays on the sound of \"pasta\" and \"the past.\" It\\'s a simple, groan-worthy pun that relies on a phonetic trick!'}}, 'step': 2, 'parents': {}, 'thread_id': '2'}, created_at='2025-07-31T07:08:09.184425+00:00', parent_config={'configurable': {'thread_id': '2', 'checkpoint_ns': '', 'checkpoint_id': '1f06ddd1-82bc-64ef-8001-ac036f490bba'}}, tasks=(), interrupts=()),\n",
       " StateSnapshot(values={'topic': 'Pasta', 'joke': 'Why did the pasta break up with the sauce?\\n\\nBecause it was always thinking about the **past-a**!'}, next=('generate_explaination',), config={'configurable': {'thread_id': '2', 'checkpoint_ns': '', 'checkpoint_id': '1f06ddd1-82bc-64ef-8001-ac036f490bba'}}, metadata={'source': 'loop', 'writes': {'generate_joke': {'joke': 'Why did the pasta break up with the sauce?\\n\\nBecause it was always thinking about the **past-a**!'}}, 'step': 1, 'parents': {}, 'thread_id': '2'}, created_at='2025-07-31T07:08:00.920702+00:00', parent_config={'configurable': {'thread_id': '2', 'checkpoint_ns': '', 'checkpoint_id': '1f06ddd1-37fa-69b6-8000-52794171a131'}}, tasks=(PregelTask(id='3350fac4-bf25-4120-74c6-8b4f405c6fa8', name='generate_explaination', path=('__pregel_pull', 'generate_explaination'), error=None, interrupts=(), state=None, result={'explaination': 'This joke is a classic example of a **pun**! It works by playing on the similar sound of two different phrases.\\n\\nHere\\'s the breakdown:\\n\\n1.  **The Setup:** The joke sets up a scenario where pasta and sauce are personified, acting like humans in a relationship. This makes the idea of them \"breaking up\" relatable, even though they\\'re just food.\\n\\n2.  **The Punchline:** \"Because it was always thinking about the **past-a**!\"\\n    *   **Sound-alike:** The phrase \"past-a\" is spelled to look like \"pasta\" (the food), but it\\'s pronounced exactly like \"the past.\"\\n    *   **The \"Past\" Meaning:** In human relationships, if someone is \"always thinking about the past,\" it usually implies they are dwelling on old issues, previous relationships, or a time gone by. This often prevents them from moving forward in the current relationship and can be a reason for a breakup.\\n    *   **The Pun:** The joke takes this very human reason for a breakup and cleverly applies it to the pasta, making it sound like the *pasta itself* was too preoccupied with its \"past\" (its history, perhaps) to make the relationship with the sauce work.\\n\\nThe humor comes from the unexpected twist of applying a very human reason for a breakup to an inanimate food item, all through a clever bit of wordplay that plays on the sound of \"pasta\" and \"the past.\" It\\'s a simple, groan-worthy pun that relies on a phonetic trick!'}),), interrupts=()),\n",
       " StateSnapshot(values={'topic': 'Pasta'}, next=('generate_joke',), config={'configurable': {'thread_id': '2', 'checkpoint_ns': '', 'checkpoint_id': '1f06ddd1-37fa-69b6-8000-52794171a131'}}, metadata={'source': 'loop', 'writes': None, 'step': 0, 'parents': {}, 'thread_id': '2'}, created_at='2025-07-31T07:07:53.081899+00:00', parent_config={'configurable': {'thread_id': '2', 'checkpoint_ns': '', 'checkpoint_id': '1f06ddd1-37f7-69b8-bfff-54e343a406f1'}}, tasks=(PregelTask(id='b43ee502-6a7c-f5ec-3c94-aa8b3c228202', name='generate_joke', path=('__pregel_pull', 'generate_joke'), error=None, interrupts=(), state=None, result={'joke': 'Why did the pasta break up with the sauce?\\n\\nBecause it was always thinking about the **past-a**!'}),), interrupts=()),\n",
       " StateSnapshot(values={}, next=('__start__',), config={'configurable': {'thread_id': '2', 'checkpoint_ns': '', 'checkpoint_id': '1f06ddd1-37f7-69b8-bfff-54e343a406f1'}}, metadata={'source': 'input', 'writes': {'__start__': {'topic': 'Pasta'}}, 'step': -1, 'parents': {}, 'thread_id': '2'}, created_at='2025-07-31T07:07:53.080671+00:00', parent_config=None, tasks=(PregelTask(id='a1925e9d-4663-5f28-5439-6de220287409', name='__start__', path=('__pregel_pull', '__start__'), error=None, interrupts=(), state=None, result={'topic': 'Pasta'}),), interrupts=())]"
      ]
     },
     "execution_count": 21,
     "metadata": {},
     "output_type": "execute_result"
    }
   ],
   "source": [
    "list(workflow.get_state_history(config_2))"
   ]
  }
 ],
 "metadata": {
  "kernelspec": {
   "display_name": "Python 3",
   "language": "python",
   "name": "python3"
  },
  "language_info": {
   "codemirror_mode": {
    "name": "ipython",
    "version": 3
   },
   "file_extension": ".py",
   "mimetype": "text/x-python",
   "name": "python",
   "nbconvert_exporter": "python",
   "pygments_lexer": "ipython3",
   "version": "3.9.10"
  }
 },
 "nbformat": 4,
 "nbformat_minor": 5
}
