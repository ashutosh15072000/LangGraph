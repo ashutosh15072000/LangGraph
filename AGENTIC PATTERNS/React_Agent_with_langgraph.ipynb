{
 "cells": [
  {
   "cell_type": "code",
   "execution_count": 1,
   "metadata": {},
   "outputs": [],
   "source": [
    "import os"
   ]
  },
  {
   "cell_type": "code",
   "execution_count": 2,
   "metadata": {},
   "outputs": [],
   "source": [
    "from pydantic.v1 import BaseModel\n",
    "from langgraph.graph import MessagesState,StateGraph,START,END\n",
    "from langgraph.graph.message import add_messages\n",
    "from langgraph.prebuilt import tools_condition\n",
    "from langgraph.prebuilt import ToolNode\n",
    "from langchain_core.messages import HumanMessage,SystemMessage\n",
    "from langchain_community.tools.tavily_search import TavilySearchResults\n",
    "from IPython.display import Image,display\n",
    "from typing import Annotated,TypedDict\n",
    "from langchain_core.messages import AnyMessage\n",
    "from dotenv import load_dotenv\n",
    "load_dotenv()\n",
    "from langchain_community.tools import DuckDuckGoSearchRun\n",
    "import os\n",
    "from langchain_groq import ChatGroq"
   ]
  },
  {
   "cell_type": "code",
   "execution_count": 3,
   "metadata": {},
   "outputs": [],
   "source": [
    "GROQ_API_KEY=os.getenv('GROQ_API_KEY')\n",
    "TAVILY_API_KEY=os.getenv(\"TANVILY_API_KEY\")\n",
    "os.environ['TAVILY_API_KEY']=TAVILY_API_KEY\n",
    "os.environ['GROQ_API_KEY']=GROQ_API_KEY"
   ]
  },
  {
   "cell_type": "code",
   "execution_count": 4,
   "metadata": {},
   "outputs": [
    {
     "data": {
      "text/plain": [
       "AIMessage(content='Hello! 👋  How can I help you today?\\n', additional_kwargs={}, response_metadata={'token_usage': {'completion_tokens': 14, 'prompt_tokens': 10, 'total_tokens': 24, 'completion_time': 0.025454545, 'prompt_time': 3.7e-07, 'queue_time': 0.02399931, 'total_time': 0.025454915}, 'model_name': 'Gemma2-9b-It', 'system_fingerprint': 'fp_10c08bf97d', 'finish_reason': 'stop', 'logprobs': None}, id='run-ef8d4ef0-be99-49b1-9e66-35b8c09d2f1f-0', usage_metadata={'input_tokens': 10, 'output_tokens': 14, 'total_tokens': 24})"
      ]
     },
     "execution_count": 4,
     "metadata": {},
     "output_type": "execute_result"
    }
   ],
   "source": [
    "llm=ChatGroq(model_name=\"Gemma2-9b-It\")\n",
    "llm.invoke(\"hii\")"
   ]
  },
  {
   "cell_type": "code",
   "execution_count": 5,
   "metadata": {},
   "outputs": [],
   "source": [
    "def multiply(a:int,b:int)-> int:\n",
    "    \"\"\" Multiply a and b \n",
    "       Agrs:\n",
    "            a: int\n",
    "            b: int\n",
    "    \n",
    "    \"\"\"\n",
    "    return a * b"
   ]
  },
  {
   "cell_type": "code",
   "execution_count": 6,
   "metadata": {},
   "outputs": [],
   "source": [
    "def add(a:int,b:int)->int:\n",
    "    \"\"\"Adds a and b.\n",
    "       \n",
    "       Args:\n",
    "             a : The first int\n",
    "             b : The second int   \n",
    "    \n",
    "    \"\"\"\n",
    "\n",
    "    return a + b"
   ]
  },
  {
   "cell_type": "code",
   "execution_count": 7,
   "metadata": {},
   "outputs": [],
   "source": [
    "def divide(a:int,b:int)->float:\n",
    "    \"\"\"divide a and b.\n",
    "       \n",
    "       Args:\n",
    "             a : The first int\n",
    "             b : The second int   \n",
    "    \n",
    "    \"\"\"\n",
    "\n",
    "    return a / b"
   ]
  },
  {
   "cell_type": "code",
   "execution_count": 8,
   "metadata": {},
   "outputs": [],
   "source": [
    "search=DuckDuckGoSearchRun()"
   ]
  },
  {
   "cell_type": "code",
   "execution_count": 26,
   "metadata": {},
   "outputs": [
    {
     "data": {
      "text/plain": [
       "'The White House, official residence of the president of the United States, in July 2008. The president of the United States is the head of state and head of government of the United States, [1] indirectly elected to a four-year term via the Electoral College. [2] The officeholder leads the executive branch of the federal government and is the commander-in-chief of the United States Armed ... Updated results from the 2024 election for the US president majority. Reuters live coverage of the 2024 US President, Senate, House and state governors races. Joe Biden is the 46th president of the United States (2021- ). He was born on November 20, 1942, in Scranton, Pennsylvania, and he served as a U.S. senator representing Delaware from 1972 to 2009. He was vice president in the Barack Obama administration from 2009 to 2017. In July 2024 Biden announced he would not seek a second term as president. The president of the United States is the: U.S. head of state; Chief executive of the federal government; Commander-in-Chief of the armed forces; Current president. The 46th and current president of the United States is Joseph R. Biden, Jr. He was sworn into office on January 20, 2021. Former U.S. presidents. The United States has had 45 former ... Vice President Kamala Harris, 60, is a Democrat and the vice president to current President Joe Biden, who was elected in 2020. Harris has a lengthy political history.'"
      ]
     },
     "execution_count": 26,
     "metadata": {},
     "output_type": "execute_result"
    }
   ],
   "source": [
    "search.run(\"who is the current president of USA?\")"
   ]
  },
  {
   "cell_type": "code",
   "execution_count": 9,
   "metadata": {},
   "outputs": [],
   "source": [
    "tools=[add,multiply,divide,search]"
   ]
  },
  {
   "cell_type": "code",
   "execution_count": 10,
   "metadata": {},
   "outputs": [],
   "source": [
    "llm_with_tools=llm.bind_tools(tools)"
   ]
  },
  {
   "cell_type": "code",
   "execution_count": 11,
   "metadata": {},
   "outputs": [],
   "source": [
    "#System message\n",
    "sys_msg=SystemMessage(content=\"You are a helpful assistant tasked with using search and performing arithmetic on a set of inputs.\")"
   ]
  },
  {
   "cell_type": "code",
   "execution_count": 12,
   "metadata": {},
   "outputs": [],
   "source": [
    "def reasoner(state:MessagesState):\n",
    "    return {\"messages\":[llm_with_tools.invoke([sys_msg]+state['messages'])]}"
   ]
  },
  {
   "cell_type": "code",
   "execution_count": 13,
   "metadata": {},
   "outputs": [],
   "source": [
    "\n",
    "# Graph\n",
    "builder = StateGraph(MessagesState)\n",
    "\n",
    "# Add nodes\n",
    "builder.add_node(\"reasoner\", reasoner)\n",
    "\n",
    "builder.add_node(\"tools\", ToolNode(tools)) # for the tools\n",
    "\n",
    "# Add edges\n",
    "builder.add_edge(START, \"reasoner\")\n",
    "\n",
    "builder.add_conditional_edges(\n",
    "    \"reasoner\",\n",
    "    # If the latest message (result) from node reasoner is a tool call -> tools_condition routes to tools\n",
    "    # If the latest message (result) from node reasoner is a not a tool call -> tools_condition routes to END\n",
    "    tools_condition,\n",
    ")\n",
    "\n",
    "builder.add_edge(\"tools\", \"reasoner\")\n",
    "react_graph = builder.compile()"
   ]
  },
  {
   "cell_type": "code",
   "execution_count": 14,
   "metadata": {},
   "outputs": [
    {
     "data": {
      "image/png": "[encoded data removed]",
      "text/plain": [
       "<IPython.core.display.Image object>"
      ]
     },
     "metadata": {},
     "output_type": "display_data"
    }
   ],
   "source": [
    "\n",
    "from IPython.display import Image, display\n",
    "# View\n",
    "display(Image(react_graph.get_graph().draw_mermaid_png()))"
   ]
  },
  {
   "cell_type": "code",
   "execution_count": 15,
   "metadata": {},
   "outputs": [],
   "source": [
    "message=[HumanMessage(content=\"What is 2 times of Narendra Modi's age ?\")]"
   ]
  },
  {
   "cell_type": "code",
   "execution_count": 16,
   "metadata": {},
   "outputs": [],
   "source": [
    "message=react_graph.invoke({\"messages\":message})"
   ]
  },
  {
   "cell_type": "code",
   "execution_count": 17,
   "metadata": {},
   "outputs": [
    {
     "data": {
      "text/plain": [
       "{'messages': [HumanMessage(content=\"What is 2 times of Narendra Modi's age ?\", additional_kwargs={}, response_metadata={}, id='c9ab597f-8ec7-4f5d-a805-db95e42bfc6e'),\n",
       "  AIMessage(content='', additional_kwargs={'tool_calls': [{'id': 'call_zc31', 'function': {'arguments': '{\"query\":\"Narendra Modi\\'s age\"}', 'name': 'duckduckgo_search'}, 'type': 'function'}]}, response_metadata={'token_usage': {'completion_tokens': 90, 'prompt_tokens': 1425, 'total_tokens': 1515, 'completion_time': 0.163636364, 'prompt_time': 0.045612129, 'queue_time': 0.003222560999999999, 'total_time': 0.209248493}, 'model_name': 'Gemma2-9b-It', 'system_fingerprint': 'fp_10c08bf97d', 'finish_reason': 'tool_calls', 'logprobs': None}, id='run-d77314bc-2dd0-4e8d-ae1e-5e6fbac4c57f-0', tool_calls=[{'name': 'duckduckgo_search', 'args': {'query': \"Narendra Modi's age\"}, 'id': 'call_zc31', 'type': 'tool_call'}], usage_metadata={'input_tokens': 1425, 'output_tokens': 90, 'total_tokens': 1515}),\n",
       "  ToolMessage(content=\"Error: RatelimitException('https://links.duckduckgo.com/d.js?q=Narendra+Modi%27s+age&kl=wt-wt&l=wt-wt&p=&s=0&df=y&vqd=4-32046552875406442514369222510966744572&bing_market=wt-WT&ex=-1 202 Ratelimit')\\n Please fix your mistakes.\", name='duckduckgo_search', id='e247da4d-d516-4c5b-83cb-b948079c8f35', tool_call_id='call_zc31', status='error'),\n",
       "  AIMessage(content='', additional_kwargs={'tool_calls': [{'id': 'call_7hbn', 'function': {'arguments': '{\"query\":\"Narendra Modi\\'s age\"}', 'name': 'duckduckgo_search'}, 'type': 'function'}]}, response_metadata={'token_usage': {'completion_tokens': 54, 'prompt_tokens': 1627, 'total_tokens': 1681, 'completion_time': 0.098181818, 'prompt_time': 0.066917273, 'queue_time': 0.0030706959999999978, 'total_time': 0.165099091}, 'model_name': 'Gemma2-9b-It', 'system_fingerprint': 'fp_10c08bf97d', 'finish_reason': 'tool_calls', 'logprobs': None}, id='run-f945784a-d568-4eb0-a350-7f6ca2cd002d-0', tool_calls=[{'name': 'duckduckgo_search', 'args': {'query': \"Narendra Modi's age\"}, 'id': 'call_7hbn', 'type': 'tool_call'}], usage_metadata={'input_tokens': 1627, 'output_tokens': 54, 'total_tokens': 1681}),\n",
       "  ToolMessage(content=\"Error: RatelimitException('https://links.duckduckgo.com/d.js?q=Narendra+Modi%27s+age&kl=wt-wt&l=wt-wt&p=&s=0&df=y&vqd=4-32046552875406442514369222510966744572&bing_market=wt-WT&ex=-1 202 Ratelimit')\\n Please fix your mistakes.\", name='duckduckgo_search', id='a93cbcd3-04e5-405f-83a9-f618017fa275', tool_call_id='call_7hbn', status='error'),\n",
       "  AIMessage(content='', additional_kwargs={'tool_calls': [{'id': 'call_zacy', 'function': {'arguments': '{\"query\":\"Narendra Modi\\'s age\"}', 'name': 'duckduckgo_search'}, 'type': 'function'}]}, response_metadata={'token_usage': {'completion_tokens': 54, 'prompt_tokens': 1829, 'total_tokens': 1883, 'completion_time': 0.098181818, 'prompt_time': 0.075178275, 'queue_time': 0.016215885, 'total_time': 0.173360093}, 'model_name': 'Gemma2-9b-It', 'system_fingerprint': 'fp_10c08bf97d', 'finish_reason': 'tool_calls', 'logprobs': None}, id='run-85e62d5c-8b0b-4208-8ac7-5e1ec0915196-0', tool_calls=[{'name': 'duckduckgo_search', 'args': {'query': \"Narendra Modi's age\"}, 'id': 'call_zacy', 'type': 'tool_call'}], usage_metadata={'input_tokens': 1829, 'output_tokens': 54, 'total_tokens': 1883}),\n",
       "  ToolMessage(content=\"Narendra Modi is the 14th prime minister of India. His Hindu nationalist policies and some of his economic reforms have proved controversial to many within and outside India. ... September 17, 1950, Vadnagar, India (age 74) (Show more) Also Known As: Narendra Damodardas Modi (Show more) Title / Office: prime minister (2014-), India (Show more ... PM Modi birthday is celebrated on September 17. He was the third child to be born to Hiraben and Damodardas Mulchand Modi. Narendra Modi Age. Narendra Modi, the present serving Prime Minister of India, was born on September 17, 1950. At present, in 2024, Narendra Modi age is 74. Facts About Narendra Modi: Know Narendra Modi's age, family background, political life, educational qualification, biography, achievements, assets, caste, contact ... PM Narendra Modi's birthday: Prime Minister Narendra Modi is celebrating his 74th birthday on Tuesday, September 17. President Droupadi Murmu, several chief ministers and Bharatiya Janata Party ... Narendra Modi Age: Narendra Modi is the 14th Prime Minister of India. He is a notable figure in global politics. He worked so hard to reach this position in the country. He never gave up and always tried to do his best. As of 2024; Narendra Modi's age going to be 74 years on 17th September. At this age, he is continuing his dynamic and ...\", name='duckduckgo_search', id='b06b1e30-6fe9-42f9-a5a0-5c5712e01dac', tool_call_id='call_zacy'),\n",
       "  AIMessage(content='', additional_kwargs={'tool_calls': [{'id': 'call_acyt', 'function': {'arguments': '{\"a\":74,\"b\":2}', 'name': 'multiply'}, 'type': 'function'}]}, response_metadata={'token_usage': {'completion_tokens': 49, 'prompt_tokens': 2235, 'total_tokens': 2284, 'completion_time': 0.089090909, 'prompt_time': 0.269101578, 'queue_time': 0.0036270800000000047, 'total_time': 0.358192487}, 'model_name': 'Gemma2-9b-It', 'system_fingerprint': 'fp_10c08bf97d', 'finish_reason': 'tool_calls', 'logprobs': None}, id='run-c4008fbb-e512-4401-bd32-4498de496e02-0', tool_calls=[{'name': 'multiply', 'args': {'a': 74, 'b': 2}, 'id': 'call_acyt', 'type': 'tool_call'}], usage_metadata={'input_tokens': 2235, 'output_tokens': 49, 'total_tokens': 2284}),\n",
       "  ToolMessage(content='148', name='multiply', id='e3344a9a-79f5-4e07-8dc1-1014df6b9b6f', tool_call_id='call_acyt'),\n",
       "  AIMessage(content=\"2 times Narendra Modi's age is 148. \", additional_kwargs={}, response_metadata={'token_usage': {'completion_tokens': 16, 'prompt_tokens': 2310, 'total_tokens': 2326, 'completion_time': 0.029090909, 'prompt_time': 0.127604089, 'queue_time': 0.0034622400000000053, 'total_time': 0.156694998}, 'model_name': 'Gemma2-9b-It', 'system_fingerprint': 'fp_10c08bf97d', 'finish_reason': 'stop', 'logprobs': None}, id='run-a6b67a16-7542-4332-be5e-b35376f7d933-0', usage_metadata={'input_tokens': 2310, 'output_tokens': 16, 'total_tokens': 2326})]}"
      ]
     },
     "execution_count": 17,
     "metadata": {},
     "output_type": "execute_result"
    }
   ],
   "source": [
    "message"
   ]
  },
  {
   "cell_type": "code",
   "execution_count": 36,
   "metadata": {},
   "outputs": [
    {
     "name": "stdout",
     "output_type": "stream",
     "text": [
      "================================\u001b[1m Human Message \u001b[0m=================================\n",
      "\n",
      "What is 2 times of Narendra Modi's age ?\n",
      "==================================\u001b[1m Ai Message \u001b[0m==================================\n",
      "Tool Calls:\n",
      "  duckduckgo_search (call_2wa6)\n",
      " Call ID: call_2wa6\n",
      "  Args:\n",
      "    query: Narendra Modi's age\n",
      "=================================\u001b[1m Tool Message \u001b[0m=================================\n",
      "Name: duckduckgo_search\n",
      "\n",
      "Narendra Modi is the 14th prime minister of India. His Hindu nationalist policies and some of his economic reforms have proved controversial to many within and outside India. ... September 17, 1950, Vadnagar, India (age 74) (Show more) Also Known As: Narendra Damodardas Modi (Show more) Title / Office: prime minister (2014-), India (Show more ... PM Modi birthday is celebrated on September 17. He was the third child to be born to Hiraben and Damodardas Mulchand Modi. Narendra Modi Age. Narendra Modi, the present serving Prime Minister of India, was born on September 17, 1950. At present, in 2024, Narendra Modi age is 74. Facts About Narendra Modi: Know Narendra Modi's age, family background, political life, educational qualification, biography, achievements, assets, caste, contact ... PM Narendra Modi's birthday: Prime Minister Narendra Modi is celebrating his 74th birthday on Tuesday, September 17. President Droupadi Murmu, several chief ministers and Bharatiya Janata Party ... Narendra Modi Age: Narendra Modi is the 14th Prime Minister of India. He is a notable figure in global politics. He worked so hard to reach this position in the country. He never gave up and always tried to do his best. As of 2024; Narendra Modi's age going to be 74 years on 17th September. At this age, he is continuing his dynamic and ...\n",
      "==================================\u001b[1m Ai Message \u001b[0m==================================\n",
      "Tool Calls:\n",
      "  multiply (call_mmdn)\n",
      " Call ID: call_mmdn\n",
      "  Args:\n",
      "    a: 2\n",
      "    b: 74\n",
      "=================================\u001b[1m Tool Message \u001b[0m=================================\n",
      "Name: multiply\n",
      "\n",
      "148\n",
      "==================================\u001b[1m Ai Message \u001b[0m==================================\n",
      "\n",
      "2 times Narendra Modi's age is 148.\n"
     ]
    }
   ],
   "source": [
    "for m in message['messages']:\n",
    "    m.pretty_print()"
   ]
  },
  {
   "cell_type": "code",
   "execution_count": 18,
   "metadata": {},
   "outputs": [],
   "source": [
    "messages = [HumanMessage(content=\"What is the result when you add 100 years to the current age of Elon Musk?\")]\n",
    "     "
   ]
  },
  {
   "cell_type": "code",
   "execution_count": 19,
   "metadata": {},
   "outputs": [],
   "source": [
    "\n",
    "messages = react_graph.invoke({\"messages\": messages})"
   ]
  },
  {
   "cell_type": "code",
   "execution_count": 39,
   "metadata": {},
   "outputs": [
    {
     "name": "stdout",
     "output_type": "stream",
     "text": [
      "================================\u001b[1m Human Message \u001b[0m=================================\n",
      "\n",
      "What is the result when you add 100 years to the current age of Elon Musk?\n",
      "==================================\u001b[1m Ai Message \u001b[0m==================================\n",
      "Tool Calls:\n",
      "  add (call_33az)\n",
      " Call ID: call_33az\n",
      "  Args:\n",
      "    a: 2023\n",
      "    b: 100\n",
      "=================================\u001b[1m Tool Message \u001b[0m=================================\n",
      "Name: add\n",
      "\n",
      "2123\n",
      "==================================\u001b[1m Ai Message \u001b[0m==================================\n",
      "\n",
      "The result when you add 100 years to the current age of Elon Musk is 2123.\n"
     ]
    }
   ],
   "source": [
    "for m in messages['messages']:\n",
    "    m.pretty_print()\n",
    "     "
   ]
  },
  {
   "cell_type": "code",
   "execution_count": null,
   "metadata": {},
   "outputs": [],
   "source": []
  }
 ],
 "metadata": {
  "kernelspec": {
   "display_name": "Python 3",
   "language": "python",
   "name": "python3"
  },
  "language_info": {
   "codemirror_mode": {
    "name": "ipython",
    "version": 3
   },
   "file_extension": ".py",
   "mimetype": "text/x-python",
   "name": "python",
   "nbconvert_exporter": "python",
   "pygments_lexer": "ipython3",
   "version": "3.10.14"
  }
 },
 "nbformat": 4,
 "nbformat_minor": 2
}
