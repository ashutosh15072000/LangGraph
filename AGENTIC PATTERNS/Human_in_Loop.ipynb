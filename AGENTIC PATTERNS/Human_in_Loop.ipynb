{
 "cells": [
  {
   "cell_type": "code",
   "execution_count": 1,
   "metadata": {},
   "outputs": [],
   "source": [
    "from typing import Annotated\n",
    "import operator,json\n",
    "from typing import TypedDict,Annotated,Sequence\n",
    "from typing_extensions import TypedDict\n",
    "from langchain_core.messages import BaseMessage\n",
    "from langgraph.checkpoint.memory import MemorySaver\n",
    "from langgraph.graph import StateGraph,END,START\n",
    "from langgraph.graph.message import add_messages\n",
    "from langgraph.prebuilt import ToolNode,tools_condition\n",
    "from langchain_core.tools import tool\n",
    "from langchain_community.tools.tavily_search import TavilySearchResults\n",
    "from langchain_groq import ChatGroq\n",
    "from dotenv import load_dotenv\n",
    "load_dotenv()\n",
    "import os"
   ]
  },
  {
   "cell_type": "code",
   "execution_count": 2,
   "metadata": {},
   "outputs": [],
   "source": [
    "os.environ[\"GROQ_API_KEY\"]=os.getenv(\"GROQ_API_KEY\")\n",
    "os.environ[\"TAVILY_API_KEY\"]=os.getenv(\"TANVILY_API_KEY\")"
   ]
  },
  {
   "cell_type": "code",
   "execution_count": 3,
   "metadata": {},
   "outputs": [
    {
     "data": {
      "text/plain": [
       "'Hello! 👋\\n\\nHow can I help you today? 😊\\n'"
      ]
     },
     "execution_count": 3,
     "metadata": {},
     "output_type": "execute_result"
    }
   ],
   "source": [
    "llm=ChatGroq(model_name=\"Gemma2-9b-It\")\n",
    "llm.invoke(\"hii\").content"
   ]
  },
  {
   "cell_type": "code",
   "execution_count": 4,
   "metadata": {},
   "outputs": [],
   "source": [
    "@tool\n",
    "def multiply(first_number:int,second_number:int)->int:\n",
    "    \"\"\"multiply two integer number\"\"\"\n",
    "    return first_number * second_number"
   ]
  },
  {
   "cell_type": "code",
   "execution_count": 5,
   "metadata": {},
   "outputs": [
    {
     "name": "stderr",
     "output_type": "stream",
     "text": [
      "C:\\Users\\ayush\\AppData\\Local\\Temp\\ipykernel_9392\\398343472.py:1: LangChainDeprecationWarning: The method `BaseTool.__call__` was deprecated in langchain-core 0.1.47 and will be removed in 1.0. Use :meth:`~invoke` instead.\n",
      "  multiply({\"first_number\":3,\"second_number\":5})\n"
     ]
    },
    {
     "data": {
      "text/plain": [
       "15"
      ]
     },
     "execution_count": 5,
     "metadata": {},
     "output_type": "execute_result"
    }
   ],
   "source": [
    "multiply({\"first_number\":3,\"second_number\":5})"
   ]
  },
  {
   "cell_type": "code",
   "execution_count": 6,
   "metadata": {},
   "outputs": [
    {
     "data": {
      "text/plain": [
       "15"
      ]
     },
     "execution_count": 6,
     "metadata": {},
     "output_type": "execute_result"
    }
   ],
   "source": [
    "multiply.invoke({\"first_number\":3,\"second_number\":5})"
   ]
  },
  {
   "cell_type": "code",
   "execution_count": 7,
   "metadata": {},
   "outputs": [],
   "source": [
    "@tool\n",
    "def search(query:str):\n",
    "    \"\"\"perform the web search on the user \"\"\"\n",
    "    tavily=TavilySearchResults()\n",
    "    result=tavily.invoke(query)\n",
    "    return result"
   ]
  },
  {
   "cell_type": "code",
   "execution_count": 8,
   "metadata": {},
   "outputs": [
    {
     "data": {
      "text/plain": [
       "[{'url': 'https://simple.wikipedia.org/wiki/President_of_the_United_States',\n",
       "  'content': 'The president is also the head of the executive branch of the federal government of the United States and is the chairman of the presidential cabinet.[10]\\nJoe Biden is the 46th and current president of the United States, in office since January 2021.[11]\\nEligibility and requirements[change | change source]\\nArticle II, Section 1, Clause 5 of the constitution states for a person to serve as president must:\\nElection process and presidential terms[change | change source]\\nThe president is elected by the people through the Electoral College to a four-year term, along with the vice presidential candidate or the incumbent vice president of the United States as their running mate.[12] Contents\\nPresident of the United States\\nThe president of the United States (POTUS)[9] is the head of state and head of government of the United States of America and the commander-in-chief of the United States Armed Forces. Executive Office of the President[change | change source]\\nThe Executive Office of the President consists of the offices and agencies that support the work of the president at the center of the executive branch of the United States federal government. President-elect of the United States[change | change source]\\nThe president-elect of the United States is the candidate who has won the United States presidential election and is awaiting inauguration to become the president.\\n The office consists of several offices and agencies, such as the White House Office, the staff working directly for and reporting to the president, including White House staff, the National Security Council, and the Office of Management and Budget.\\n'},\n",
       " {'url': 'https://www.britannica.com/biography/Joe-Biden',\n",
       "  'content': 'Significantly more Democrats voted in the 2020 election than in previous presidential contests, and the Democratic Party not only won the presidential election but also maintained its control of the U.S. House of Representatives and took control of the U.S. Senate from Republicans, though only by the slimmest of margins (the resulting Senate membership was evenly divided between the two parties at 50 senators each, but tie votes could be broken by Vice President Harris, acting in her constitutional role as president of the Senate). Biden supported three significant pieces of voting rights and electoral-reform legislation: the For the People Act, passed by the House in March 2021; the John Lewis Voting Rights Advancement Act, passed by the House in August; and the Freedom to Vote Act, introduced in the Senate in September. The failure of the electoral-reform measures, which Democrats viewed as essential to preserving American democracy, prompted progressive and even some moderate Democrats to urge the elimination of the filibuster, which is not established in the U.S. Constitution and can be ended by the Senate in a simple majority vote.\\n In early November, following important off-year elections in which Democrats suffered several unexpected defeats—signaling a likely loss of the House and Senate to Republicans in the 2022 election—Biden and Democratic House leaders intensified their efforts to reconcile the factions, arguing that some tangible legislative achievement was necessary to retain the support of swing voters. During and after the withdrawal, the Biden administration was criticized by Republican and some Democratic leaders for having misjudged the strength and resolve of both the Taliban and the Afghan government and security forces.'},\n",
       " {'url': 'https://www.usa.gov/presidents',\n",
       "  'content': 'Vice president of the United States\\nThe vice president of the United States presides over the U.S. Senate and takes over the role of president of the United States if the president is unable to perform his or her duties. President of the United States\\nThe president of the United States is the:\\nCurrent president\\nThe 46th and current president of the United States is Joseph R. Biden, Jr. First lady\\nThe First lady of the United States has traditionally been the wife or other close female relative of the president of the United States. Requirements to be eligible to become president\\nAccording to Article II of the U.S. Constitution, the president must:\\nLearn about the U.S. presidential election process.\\n If the vice president is not able to fulfill the duties of president, the role is passed to another leader in the order of presidential succession.\\n'},\n",
       " {'url': 'https://en.wikipedia.org/wiki/Presidency_of_Joe_Biden',\n",
       "  'content': 'On November 23, after Michigan certified its results, Murphy issued the letter of ascertainment, granting the Biden transition team access to federal funds and resources for an orderly transition.[29]\\nTwo days after becoming the projected winner of the 2020 election, Biden announced the formation of a task force to advise him on the COVID-19 pandemic during the transition, co-chaired by former Surgeon General Vivek Murthy, former FDA commissioner David A. Kessler, and Yale University\\'s Marcella Nunez-Smith.[30]\\nOn January 5, 2021, the Democratic Party won control of the United States Senate, effective January 20, as a result of electoral victories in Georgia by Jon Ossoff in a runoff election for a six-year term and Raphael Warnock in a special runoff election for a two-year term.[31][32] President-elect Biden had supported and campaigned for both candidates prior to the runoff elections on January 5.[33][34]\\nOn January 6, a mob of thousands of Trump supporters violently stormed the Capitol in the hope of overturning Biden\\'s election, forcing Congress to evacuate during the counting of the Electoral College votes.[35][36] More than 26,000 National Guard members were deployed to the capital for the inauguration, with thousands remaining into the spring.[37]\\nOn January 20, 2021, Biden was sworn in by U.S. Chief Justice John Roberts as the 46th president of the United States, completing the oath of office at 11:49\\xa0am EST, eleven minutes before the legal start of his term.[38][39]\\nInaugural address\\nBiden\\'s inaugural speech laid out his vision to unite the nation, prefaced by the various impacts of the COVID-19 pandemic, economic strife, climate change, political polarization, and racial injustice.[40] The union representing ICE agents signaled that its agents would not accept reversals of Trump policies.[232]\\nIn March 2021, the Biden administration granted temporary protected status to Venezuelans fleeing the country amidst the ongoing political and economic crisis.[234]\\nOn June 1, 2021, the\\xa0DHS officially terminated the\\xa0Trump-era \"Remain in Mexico\" policy, which mandated that all\\xa0asylum seekers\\xa0from\\xa0Central America\\xa0were to wait in\\xa0Mexico\\xa0pending their court cases; however, a health order from March 2020 allowed the border authorities to send migrants back for the duration of the\\xa0COVID-19 pandemic\\xa0have remained in place.[235][236] However, on August 14, 2021, a federal judge in Texas ordered the Biden administration to reimplement the policy; the Supreme Court placed a pause on the ruling to give the administration time for arguments.[237][238] On August 24, 2021, the Supreme Court ruled that the Biden administration must comply with the lower court\\'s ruling to reinstate the policy.[239][240]\\nEarly on in Biden\\'s tenure, a surge in unaccompanied minors at the U.S. border stirred controversy. The administration also expanded ties with West Africa, including support for infrastructure improvements at the Benin seaport of Cotonou, a key part of the West African economy.[372][376] Biden appointed longtime U.S. diplomat Johnnie Carson to coordinate implementation of U.S. actions following up from the summit.[377]\\nDuring the 2022 summit, Biden and senior administration officials also met privately with six African leaders facing elections in 2023, pushing them to ensure free and fair elections in their nations.[377]\\nSenator Bob Menendez, the Democratic chairman of the Senate Foreign Relations Committee, has criticized the Biden administration for hesitating to impose sanctions on the governments of Sudan and Ethiopia, where many atrocities and war crimes were committed in the Tigray War.[378]\\nArmenian genocide\\nOn April 24, 2021, the Biden administration declared that the Turkish killings of Armenians at the start of the 20th century were a genocide. Others criticize the CDC for implementing this change following lobbying by Delta Airlines, leading to social media backlash against the federal government.[117]\\nBiden gave a speech at the John F. Kennedy Presidential Library and Museum on September 12, 2022, the 60th anniversary of Kennedy\\'s We Choose to Go to the Moon speech, promoting his administration\\'s revival of the Beau Biden Cancer Moonshot, including the new Advanced Research Projects Agency for Health.[118]\\nEconomy\\nOn January 22, 2021, Biden signed an executive order that removed schedule F, overturning a number of Trump\\'s policies that limited the collective bargaining power of federal unions.[119][120][121] Biden\\'s executive order also promotes a $15 minimum wage for federal workers and repeals three of Trump\\'s executive orders which made the employee discipline process stricter and restricted union representatives\\' access to office space. Biden partly attributed the lack of early evacuation of Afghan civilians to the Afghan government\\'s opposition of a \"mass exodus\" which they thought would cause a \"crisis of confidence\".[360]\\nOn August 26, a suicide attack was carried out by the Islamic State of Iraq and the Levant - Khorasan Province at the Hamid Karzai International Airport, killing more than 170 people, including at least 62 Afghan civilians, 13 US service members, two British nationals and the child of a third British national.[361][362] Biden made a public address following the attack, in which he honored the American service members who were killed, calling them \"heroes\" and saying they lost their lives \"in the service of liberty\", and stated that the US had evacuated more than 100,000 Americans, Afghans, and others.'},\n",
       " {'url': 'https://www.biography.com/political-figures/joe-biden',\n",
       "  'content': 'Although he moved forward with the selection of Cabinet members and other staffers, Biden initially found his transition efforts thwarted by Emily Murphy, head of the General Services Administration, who refused to release federal funds for the process until November 23.\\nCapitol Siege and Inauguration\\nOn January 6, 2021, after the start of a congressional session to formalize the Electoral College results, a mob of Trump supporters stormed the Capitol building and overwhelmed the police, forcing lawmakers to evacuate for their safety.\\n Among those that reversed the policies of his predecessor, he recommitted the United States to the climate-related Paris Agreement, overturned the ban that targeted travelers from Muslim-majority nations, pulled funding for the construction of a wall along the Mexican border, revoked the permit for the Keystone XL pipeline, and allowed transgender people to again serve in the military.\\n He also again unloaded on the president for his coronavirus management and policy of separating migrant children from their parents at the border, drawing a clear distinction between their styles with the declaration that “America’s character is on the ballot.”\\n2020 Election Win\\nWith several states counting mail-in ballots well past the close of polling places on November 3, 2020, the race remained too tight to call into the next day. In the White House Rose Garden with his wife, Jill, and President Obama by his side, Biden made his announcement, referring to his son’s recent death in his decision making: “As my family and I have worked through the grieving process, I’ve said all along what I’ve said time and again to others, that it may very well be that the process by the time we get through it closes the window. I started my career fighting for civil rights, and to be a part of what is both a moment in American history where the best people, the best ideas, the how can I say it?—the single best reflection of the American people can be called upon—to be at that moment, with a guy who has such incredible talent and who is also a breakthrough figure in multiple ways—I genuinely find that exciting.'}]"
      ]
     },
     "execution_count": 8,
     "metadata": {},
     "output_type": "execute_result"
    }
   ],
   "source": [
    "search(\"who is s current president of USA?\")"
   ]
  },
  {
   "cell_type": "code",
   "execution_count": 9,
   "metadata": {},
   "outputs": [
    {
     "data": {
      "text/plain": [
       "[{'url': 'https://simple.wikipedia.org/wiki/President_of_the_United_States',\n",
       "  'content': 'The president is also the head of the executive branch of the federal government of the United States and is the chairman of the presidential cabinet.[10]\\nJoe Biden is the 46th and current president of the United States, in office since January 2021.[11]\\nEligibility and requirements[change | change source]\\nArticle II, Section 1, Clause 5 of the constitution states for a person to serve as president must:\\nElection process and presidential terms[change | change source]\\nThe president is elected by the people through the Electoral College to a four-year term, along with the vice presidential candidate or the incumbent vice president of the United States as their running mate.[12] Contents\\nPresident of the United States\\nThe president of the United States (POTUS)[9] is the head of state and head of government of the United States of America and the commander-in-chief of the United States Armed Forces. Executive Office of the President[change | change source]\\nThe Executive Office of the President consists of the offices and agencies that support the work of the president at the center of the executive branch of the United States federal government. President-elect of the United States[change | change source]\\nThe president-elect of the United States is the candidate who has won the United States presidential election and is awaiting inauguration to become the president.\\n The office consists of several offices and agencies, such as the White House Office, the staff working directly for and reporting to the president, including White House staff, the National Security Council, and the Office of Management and Budget.\\n'},\n",
       " {'url': 'https://www.britannica.com/biography/Joe-Biden',\n",
       "  'content': 'Significantly more Democrats voted in the 2020 election than in previous presidential contests, and the Democratic Party not only won the presidential election but also maintained its control of the U.S. House of Representatives and took control of the U.S. Senate from Republicans, though only by the slimmest of margins (the resulting Senate membership was evenly divided between the two parties at 50 senators each, but tie votes could be broken by Vice President Harris, acting in her constitutional role as president of the Senate). Biden supported three significant pieces of voting rights and electoral-reform legislation: the For the People Act, passed by the House in March 2021; the John Lewis Voting Rights Advancement Act, passed by the House in August; and the Freedom to Vote Act, introduced in the Senate in September. The failure of the electoral-reform measures, which Democrats viewed as essential to preserving American democracy, prompted progressive and even some moderate Democrats to urge the elimination of the filibuster, which is not established in the U.S. Constitution and can be ended by the Senate in a simple majority vote.\\n In early November, following important off-year elections in which Democrats suffered several unexpected defeats—signaling a likely loss of the House and Senate to Republicans in the 2022 election—Biden and Democratic House leaders intensified their efforts to reconcile the factions, arguing that some tangible legislative achievement was necessary to retain the support of swing voters. During and after the withdrawal, the Biden administration was criticized by Republican and some Democratic leaders for having misjudged the strength and resolve of both the Taliban and the Afghan government and security forces.'},\n",
       " {'url': 'https://www.usa.gov/presidents',\n",
       "  'content': 'Vice president of the United States\\nThe vice president of the United States presides over the U.S. Senate and takes over the role of president of the United States if the president is unable to perform his or her duties. President of the United States\\nThe president of the United States is the:\\nCurrent president\\nThe 46th and current president of the United States is Joseph R. Biden, Jr. First lady\\nThe First lady of the United States has traditionally been the wife or other close female relative of the president of the United States. Requirements to be eligible to become president\\nAccording to Article II of the U.S. Constitution, the president must:\\nLearn about the U.S. presidential election process.\\n If the vice president is not able to fulfill the duties of president, the role is passed to another leader in the order of presidential succession.\\n'},\n",
       " {'url': 'https://en.wikipedia.org/wiki/Presidency_of_Joe_Biden',\n",
       "  'content': 'On November 23, after Michigan certified its results, Murphy issued the letter of ascertainment, granting the Biden transition team access to federal funds and resources for an orderly transition.[29]\\nTwo days after becoming the projected winner of the 2020 election, Biden announced the formation of a task force to advise him on the COVID-19 pandemic during the transition, co-chaired by former Surgeon General Vivek Murthy, former FDA commissioner David A. Kessler, and Yale University\\'s Marcella Nunez-Smith.[30]\\nOn January 5, 2021, the Democratic Party won control of the United States Senate, effective January 20, as a result of electoral victories in Georgia by Jon Ossoff in a runoff election for a six-year term and Raphael Warnock in a special runoff election for a two-year term.[31][32] President-elect Biden had supported and campaigned for both candidates prior to the runoff elections on January 5.[33][34]\\nOn January 6, a mob of thousands of Trump supporters violently stormed the Capitol in the hope of overturning Biden\\'s election, forcing Congress to evacuate during the counting of the Electoral College votes.[35][36] More than 26,000 National Guard members were deployed to the capital for the inauguration, with thousands remaining into the spring.[37]\\nOn January 20, 2021, Biden was sworn in by U.S. Chief Justice John Roberts as the 46th president of the United States, completing the oath of office at 11:49\\xa0am EST, eleven minutes before the legal start of his term.[38][39]\\nInaugural address\\nBiden\\'s inaugural speech laid out his vision to unite the nation, prefaced by the various impacts of the COVID-19 pandemic, economic strife, climate change, political polarization, and racial injustice.[40] The union representing ICE agents signaled that its agents would not accept reversals of Trump policies.[232]\\nIn March 2021, the Biden administration granted temporary protected status to Venezuelans fleeing the country amidst the ongoing political and economic crisis.[234]\\nOn June 1, 2021, the\\xa0DHS officially terminated the\\xa0Trump-era \"Remain in Mexico\" policy, which mandated that all\\xa0asylum seekers\\xa0from\\xa0Central America\\xa0were to wait in\\xa0Mexico\\xa0pending their court cases; however, a health order from March 2020 allowed the border authorities to send migrants back for the duration of the\\xa0COVID-19 pandemic\\xa0have remained in place.[235][236] However, on August 14, 2021, a federal judge in Texas ordered the Biden administration to reimplement the policy; the Supreme Court placed a pause on the ruling to give the administration time for arguments.[237][238] On August 24, 2021, the Supreme Court ruled that the Biden administration must comply with the lower court\\'s ruling to reinstate the policy.[239][240]\\nEarly on in Biden\\'s tenure, a surge in unaccompanied minors at the U.S. border stirred controversy. The administration also expanded ties with West Africa, including support for infrastructure improvements at the Benin seaport of Cotonou, a key part of the West African economy.[372][376] Biden appointed longtime U.S. diplomat Johnnie Carson to coordinate implementation of U.S. actions following up from the summit.[377]\\nDuring the 2022 summit, Biden and senior administration officials also met privately with six African leaders facing elections in 2023, pushing them to ensure free and fair elections in their nations.[377]\\nSenator Bob Menendez, the Democratic chairman of the Senate Foreign Relations Committee, has criticized the Biden administration for hesitating to impose sanctions on the governments of Sudan and Ethiopia, where many atrocities and war crimes were committed in the Tigray War.[378]\\nArmenian genocide\\nOn April 24, 2021, the Biden administration declared that the Turkish killings of Armenians at the start of the 20th century were a genocide. Others criticize the CDC for implementing this change following lobbying by Delta Airlines, leading to social media backlash against the federal government.[117]\\nBiden gave a speech at the John F. Kennedy Presidential Library and Museum on September 12, 2022, the 60th anniversary of Kennedy\\'s We Choose to Go to the Moon speech, promoting his administration\\'s revival of the Beau Biden Cancer Moonshot, including the new Advanced Research Projects Agency for Health.[118]\\nEconomy\\nOn January 22, 2021, Biden signed an executive order that removed schedule F, overturning a number of Trump\\'s policies that limited the collective bargaining power of federal unions.[119][120][121] Biden\\'s executive order also promotes a $15 minimum wage for federal workers and repeals three of Trump\\'s executive orders which made the employee discipline process stricter and restricted union representatives\\' access to office space. Biden partly attributed the lack of early evacuation of Afghan civilians to the Afghan government\\'s opposition of a \"mass exodus\" which they thought would cause a \"crisis of confidence\".[360]\\nOn August 26, a suicide attack was carried out by the Islamic State of Iraq and the Levant - Khorasan Province at the Hamid Karzai International Airport, killing more than 170 people, including at least 62 Afghan civilians, 13 US service members, two British nationals and the child of a third British national.[361][362] Biden made a public address following the attack, in which he honored the American service members who were killed, calling them \"heroes\" and saying they lost their lives \"in the service of liberty\", and stated that the US had evacuated more than 100,000 Americans, Afghans, and others.'},\n",
       " {'url': 'https://www.biography.com/political-figures/joe-biden',\n",
       "  'content': 'Although he moved forward with the selection of Cabinet members and other staffers, Biden initially found his transition efforts thwarted by Emily Murphy, head of the General Services Administration, who refused to release federal funds for the process until November 23.\\nCapitol Siege and Inauguration\\nOn January 6, 2021, after the start of a congressional session to formalize the Electoral College results, a mob of Trump supporters stormed the Capitol building and overwhelmed the police, forcing lawmakers to evacuate for their safety.\\n Among those that reversed the policies of his predecessor, he recommitted the United States to the climate-related Paris Agreement, overturned the ban that targeted travelers from Muslim-majority nations, pulled funding for the construction of a wall along the Mexican border, revoked the permit for the Keystone XL pipeline, and allowed transgender people to again serve in the military.\\n He also again unloaded on the president for his coronavirus management and policy of separating migrant children from their parents at the border, drawing a clear distinction between their styles with the declaration that “America’s character is on the ballot.”\\n2020 Election Win\\nWith several states counting mail-in ballots well past the close of polling places on November 3, 2020, the race remained too tight to call into the next day. In the White House Rose Garden with his wife, Jill, and President Obama by his side, Biden made his announcement, referring to his son’s recent death in his decision making: “As my family and I have worked through the grieving process, I’ve said all along what I’ve said time and again to others, that it may very well be that the process by the time we get through it closes the window. I started my career fighting for civil rights, and to be a part of what is both a moment in American history where the best people, the best ideas, the how can I say it?—the single best reflection of the American people can be called upon—to be at that moment, with a guy who has such incredible talent and who is also a breakthrough figure in multiple ways—I genuinely find that exciting.'}]"
      ]
     },
     "execution_count": 9,
     "metadata": {},
     "output_type": "execute_result"
    }
   ],
   "source": [
    "search.invoke(\"who is s current president of USA?\")"
   ]
  },
  {
   "cell_type": "code",
   "execution_count": 10,
   "metadata": {},
   "outputs": [],
   "source": [
    "tools=[search,multiply]"
   ]
  },
  {
   "cell_type": "code",
   "execution_count": 11,
   "metadata": {},
   "outputs": [
    {
     "data": {
      "text/plain": [
       "RunnableBinding(bound=ChatGroq(client=<groq.resources.chat.completions.Completions object at 0x000001F187CE2CE0>, async_client=<groq.resources.chat.completions.AsyncCompletions object at 0x000001F187CE2020>, model_name='Gemma2-9b-It', model_kwargs={}, groq_api_key=SecretStr('**********')), kwargs={'tools': [{'type': 'function', 'function': {'name': 'search', 'description': 'perform the web search on the user', 'parameters': {'properties': {'query': {'type': 'string'}}, 'required': ['query'], 'type': 'object'}}}, {'type': 'function', 'function': {'name': 'multiply', 'description': 'multiply two integer number', 'parameters': {'properties': {'first_number': {'type': 'integer'}, 'second_number': {'type': 'integer'}}, 'required': ['first_number', 'second_number'], 'type': 'object'}}}]}, config={}, config_factories=[])"
      ]
     },
     "execution_count": 11,
     "metadata": {},
     "output_type": "execute_result"
    }
   ],
   "source": [
    "model_with_tools=llm.bind_tools(tools)\n",
    "model_with_tools"
   ]
  },
  {
   "cell_type": "code",
   "execution_count": 12,
   "metadata": {},
   "outputs": [],
   "source": [
    " tool_mapping={tool.name:tool for  tool in tools}"
   ]
  },
  {
   "cell_type": "code",
   "execution_count": 13,
   "metadata": {},
   "outputs": [
    {
     "data": {
      "text/plain": [
       "{'search': StructuredTool(name='search', description='perform the web search on the user', args_schema=<class 'langchain_core.utils.pydantic.search'>, func=<function search at 0x000001F187C59BD0>),\n",
       " 'multiply': StructuredTool(name='multiply', description='multiply two integer number', args_schema=<class 'langchain_core.utils.pydantic.multiply'>, func=<function multiply at 0x000001F185257BE0>)}"
      ]
     },
     "execution_count": 13,
     "metadata": {},
     "output_type": "execute_result"
    }
   ],
   "source": [
    "tool_mapping"
   ]
  },
  {
   "cell_type": "code",
   "execution_count": 14,
   "metadata": {},
   "outputs": [
    {
     "data": {
      "text/plain": [
       "AIMessage(content='', additional_kwargs={'tool_calls': [{'id': 'call_5dbj', 'function': {'arguments': '{\"query\":\"Who is the current president of the USA?\"}', 'name': 'search'}, 'type': 'function'}]}, response_metadata={'token_usage': {'completion_tokens': 87, 'prompt_tokens': 1075, 'total_tokens': 1162, 'completion_time': 0.158181818, 'prompt_time': 0.034222828, 'queue_time': 0.002850396000000005, 'total_time': 0.192404646}, 'model_name': 'Gemma2-9b-It', 'system_fingerprint': 'fp_10c08bf97d', 'finish_reason': 'tool_calls', 'logprobs': None}, id='run-7eb18374-11e7-4873-896e-c89486b8d180-0', tool_calls=[{'name': 'search', 'args': {'query': 'Who is the current president of the USA?'}, 'id': 'call_5dbj', 'type': 'tool_call'}], usage_metadata={'input_tokens': 1075, 'output_tokens': 87, 'total_tokens': 1162})"
      ]
     },
     "execution_count": 14,
     "metadata": {},
     "output_type": "execute_result"
    }
   ],
   "source": [
    "response=model_with_tools.invoke(\"Who is a current president of USA ?\")\n",
    "response"
   ]
  },
  {
   "cell_type": "code",
   "execution_count": 15,
   "metadata": {},
   "outputs": [
    {
     "data": {
      "text/plain": [
       "[{'id': 'call_5dbj',\n",
       "  'function': {'arguments': '{\"query\":\"Who is the current president of the USA?\"}',\n",
       "   'name': 'search'},\n",
       "  'type': 'function'}]"
      ]
     },
     "execution_count": 15,
     "metadata": {},
     "output_type": "execute_result"
    }
   ],
   "source": [
    "tool_details=response.additional_kwargs.get(\"tool_calls\")\n",
    "tool_details"
   ]
  },
  {
   "cell_type": "code",
   "execution_count": 16,
   "metadata": {},
   "outputs": [
    {
     "data": {
      "text/plain": [
       "'search'"
      ]
     },
     "execution_count": 16,
     "metadata": {},
     "output_type": "execute_result"
    }
   ],
   "source": [
    "tool_details[0]['function']['name']"
   ]
  },
  {
   "cell_type": "code",
   "execution_count": 17,
   "metadata": {},
   "outputs": [
    {
     "data": {
      "text/plain": [
       "'{\"query\":\"Who is the current president of the USA?\"}'"
      ]
     },
     "execution_count": 17,
     "metadata": {},
     "output_type": "execute_result"
    }
   ],
   "source": [
    "tool_details[0]['function']['arguments']"
   ]
  },
  {
   "cell_type": "code",
   "execution_count": 18,
   "metadata": {},
   "outputs": [
    {
     "data": {
      "text/plain": [
       "[{'url': 'https://en.wikipedia.org/wiki/Presidency_of_Joe_Biden',\n",
       "  'content': 'On November 23, after Michigan certified its results, Murphy issued the letter of ascertainment, granting the Biden transition team access to federal funds and resources for an orderly transition.[29]\\nTwo days after becoming the projected winner of the 2020 election, Biden announced the formation of a task force to advise him on the COVID-19 pandemic during the transition, co-chaired by former Surgeon General Vivek Murthy, former FDA commissioner David A. Kessler, and Yale University\\'s Marcella Nunez-Smith.[30]\\nOn January 5, 2021, the Democratic Party won control of the United States Senate, effective January 20, as a result of electoral victories in Georgia by Jon Ossoff in a runoff election for a six-year term and Raphael Warnock in a special runoff election for a two-year term.[31][32] President-elect Biden had supported and campaigned for both candidates prior to the runoff elections on January 5.[33][34]\\nOn January 6, a mob of thousands of Trump supporters violently stormed the Capitol in the hope of overturning Biden\\'s election, forcing Congress to evacuate during the counting of the Electoral College votes.[35][36] More than 26,000 National Guard members were deployed to the capital for the inauguration, with thousands remaining into the spring.[37]\\nOn January 20, 2021, Biden was sworn in by U.S. Chief Justice John Roberts as the 46th president of the United States, completing the oath of office at 11:49\\xa0am EST, eleven minutes before the legal start of his term.[38][39]\\nInaugural address\\nBiden\\'s inaugural speech laid out his vision to unite the nation, prefaced by the various impacts of the COVID-19 pandemic, economic strife, climate change, political polarization, and racial injustice.[40] The union representing ICE agents signaled that its agents would not accept reversals of Trump policies.[232]\\nIn March 2021, the Biden administration granted temporary protected status to Venezuelans fleeing the country amidst the ongoing political and economic crisis.[234]\\nOn June 1, 2021, the\\xa0DHS officially terminated the\\xa0Trump-era \"Remain in Mexico\" policy, which mandated that all\\xa0asylum seekers\\xa0from\\xa0Central America\\xa0were to wait in\\xa0Mexico\\xa0pending their court cases; however, a health order from March 2020 allowed the border authorities to send migrants back for the duration of the\\xa0COVID-19 pandemic\\xa0have remained in place.[235][236] However, on August 14, 2021, a federal judge in Texas ordered the Biden administration to reimplement the policy; the Supreme Court placed a pause on the ruling to give the administration time for arguments.[237][238] On August 24, 2021, the Supreme Court ruled that the Biden administration must comply with the lower court\\'s ruling to reinstate the policy.[239][240]\\nEarly on in Biden\\'s tenure, a surge in unaccompanied minors at the U.S. border stirred controversy. The administration also expanded ties with West Africa, including support for infrastructure improvements at the Benin seaport of Cotonou, a key part of the West African economy.[372][376] Biden appointed longtime U.S. diplomat Johnnie Carson to coordinate implementation of U.S. actions following up from the summit.[377]\\nDuring the 2022 summit, Biden and senior administration officials also met privately with six African leaders facing elections in 2023, pushing them to ensure free and fair elections in their nations.[377]\\nSenator Bob Menendez, the Democratic chairman of the Senate Foreign Relations Committee, has criticized the Biden administration for hesitating to impose sanctions on the governments of Sudan and Ethiopia, where many atrocities and war crimes were committed in the Tigray War.[378]\\nArmenian genocide\\nOn April 24, 2021, the Biden administration declared that the Turkish killings of Armenians at the start of the 20th century were a genocide. Others criticize the CDC for implementing this change following lobbying by Delta Airlines, leading to social media backlash against the federal government.[117]\\nBiden gave a speech at the John F. Kennedy Presidential Library and Museum on September 12, 2022, the 60th anniversary of Kennedy\\'s We Choose to Go to the Moon speech, promoting his administration\\'s revival of the Beau Biden Cancer Moonshot, including the new Advanced Research Projects Agency for Health.[118]\\nEconomy\\nOn January 22, 2021, Biden signed an executive order that removed schedule F, overturning a number of Trump\\'s policies that limited the collective bargaining power of federal unions.[119][120][121] Biden\\'s executive order also promotes a $15 minimum wage for federal workers and repeals three of Trump\\'s executive orders which made the employee discipline process stricter and restricted union representatives\\' access to office space. Biden partly attributed the lack of early evacuation of Afghan civilians to the Afghan government\\'s opposition of a \"mass exodus\" which they thought would cause a \"crisis of confidence\".[360]\\nOn August 26, a suicide attack was carried out by the Islamic State of Iraq and the Levant - Khorasan Province at the Hamid Karzai International Airport, killing more than 170 people, including at least 62 Afghan civilians, 13 US service members, two British nationals and the child of a third British national.[361][362] Biden made a public address following the attack, in which he honored the American service members who were killed, calling them \"heroes\" and saying they lost their lives \"in the service of liberty\", and stated that the US had evacuated more than 100,000 Americans, Afghans, and others.'},\n",
       " {'url': 'https://www.usa.gov/presidents',\n",
       "  'content': 'Vice president of the United States\\nThe vice president of the United States presides over the U.S. Senate and takes over the role of president of the United States if the president is unable to perform his or her duties. President of the United States\\nThe president of the United States is the:\\nCurrent president\\nThe 46th and current president of the United States is Joseph R. Biden, Jr. First lady\\nThe First lady of the United States has traditionally been the wife or other close female relative of the president of the United States. Requirements to be eligible to become president\\nAccording to Article II of the U.S. Constitution, the president must:\\nLearn about the U.S. presidential election process.\\n If the vice president is not able to fulfill the duties of president, the role is passed to another leader in the order of presidential succession.\\n'},\n",
       " {'url': 'https://www.britannica.com/biography/Joe-Biden',\n",
       "  'content': 'Significantly more Democrats voted in the 2020 election than in previous presidential contests, and the Democratic Party not only won the presidential election but also maintained its control of the U.S. House of Representatives and took control of the U.S. Senate from Republicans, though only by the slimmest of margins (the resulting Senate membership was evenly divided between the two parties at 50 senators each, but tie votes could be broken by Vice President Harris, acting in her constitutional role as president of the Senate). Biden supported three significant pieces of voting rights and electoral-reform legislation: the For the People Act, passed by the House in March 2021; the John Lewis Voting Rights Advancement Act, passed by the House in August; and the Freedom to Vote Act, introduced in the Senate in September. The failure of the electoral-reform measures, which Democrats viewed as essential to preserving American democracy, prompted progressive and even some moderate Democrats to urge the elimination of the filibuster, which is not established in the U.S. Constitution and can be ended by the Senate in a simple majority vote.\\n In early November, following important off-year elections in which Democrats suffered several unexpected defeats—signaling a likely loss of the House and Senate to Republicans in the 2022 election—Biden and Democratic House leaders intensified their efforts to reconcile the factions, arguing that some tangible legislative achievement was necessary to retain the support of swing voters. During and after the withdrawal, the Biden administration was criticized by Republican and some Democratic leaders for having misjudged the strength and resolve of both the Taliban and the Afghan government and security forces.'},\n",
       " {'url': 'https://www.biography.com/political-figures/joe-biden',\n",
       "  'content': 'Although he moved forward with the selection of Cabinet members and other staffers, Biden initially found his transition efforts thwarted by Emily Murphy, head of the General Services Administration, who refused to release federal funds for the process until November 23.\\nCapitol Siege and Inauguration\\nOn January 6, 2021, after the start of a congressional session to formalize the Electoral College results, a mob of Trump supporters stormed the Capitol building and overwhelmed the police, forcing lawmakers to evacuate for their safety.\\n Among those that reversed the policies of his predecessor, he recommitted the United States to the climate-related Paris Agreement, overturned the ban that targeted travelers from Muslim-majority nations, pulled funding for the construction of a wall along the Mexican border, revoked the permit for the Keystone XL pipeline, and allowed transgender people to again serve in the military.\\n He also again unloaded on the president for his coronavirus management and policy of separating migrant children from their parents at the border, drawing a clear distinction between their styles with the declaration that “America’s character is on the ballot.”\\n2020 Election Win\\nWith several states counting mail-in ballots well past the close of polling places on November 3, 2020, the race remained too tight to call into the next day. In the White House Rose Garden with his wife, Jill, and President Obama by his side, Biden made his announcement, referring to his son’s recent death in his decision making: “As my family and I have worked through the grieving process, I’ve said all along what I’ve said time and again to others, that it may very well be that the process by the time we get through it closes the window. I started my career fighting for civil rights, and to be a part of what is both a moment in American history where the best people, the best ideas, the how can I say it?—the single best reflection of the American people can be called upon—to be at that moment, with a guy who has such incredible talent and who is also a breakthrough figure in multiple ways—I genuinely find that exciting.'},\n",
       " {'url': 'https://en.wikipedia.org/wiki/List_of_Presidents_of_the_United_States',\n",
       "  'content': 'National Union[l]\\n1864\\nAndrew Johnson\\nDemocratic\\n1872\\nHenry Wilson[e]\\nVacant\\xa0afterNovember 22, 1875\\nVacant\\xa0afterNovember 25, 1885\\n1900\\nVacant\\xa0afterNovember 21, 1899\\nTheodore Roosevelt\\n1904\\nCharles W. Fairbanks\\nVacant\\xa0afterOctober 30, 1912\\n1916\\n1924\\nCharles G. Dawes\\n1936\\n1940\\n1944\\nHenry A. Wallace\\nHarry S. Truman\\n1948\\nAlben W. Barkley\\n1956\\n1964\\nHubert Humphrey\\n1972\\nVacant:October 10\\xa0– December 6, 1973\\nGerald Ford[t]\\nNelson Rockefeller[t]\\n1984\\n1996\\n2004\\n2012\\nSee also\\nNotes\\nReferences\\nWorks cited\\nGeneral\\nExpert studies\\nPresidential biographies\\nOnline sources\\nExternal links He was, and remains, the only U.S. president never affiliated with a political party.[13]\\nPresidents\\n1792\\n1804\\nGeorge Clinton\\n1812\\nVacant\\xa0afterApril 20, 1812\\nElbridge Gerry[e]\\nVacant\\xa0afterNovember 23, 1814\\n Contents\\nList of presidents of the United States\\nThe president of the United States is the head of state and head of government of the United States,[1] indirectly elected to a four-year term via the Electoral College.[2] Four presidents died in office of natural causes (William Henry Harrison, Zachary Taylor, Warren G. Harding, and Franklin D. Roosevelt), four were assassinated (Abraham Lincoln, James A. Garfield, William McKinley, and John F. Kennedy), and one resigned (Richard Nixon, facing impeachment and removal from office).[10] John Tyler was the first vice president to assume the presidency during a presidential term, and set the precedent that a vice president who does so becomes the fully functioning president with his presidency.[11]\\nThroughout most of its history, American politics has been dominated by political parties. 1820\\nNational Republican\\n1832\\nVacant\\xa0afterDecember 28, 1832\\nMartin Van Buren\\nUnaffiliated\\nVacant\\xa0afterApril 18, 1853\\n'}]"
      ]
     },
     "execution_count": 18,
     "metadata": {},
     "output_type": "execute_result"
    }
   ],
   "source": [
    "tool_mapping[tool_details[0]['function']['name']].invoke(json.loads(tool_details[0]['function']['arguments']))"
   ]
  },
  {
   "cell_type": "code",
   "execution_count": 19,
   "metadata": {},
   "outputs": [],
   "source": [
    "class AgentState(TypedDict):\n",
    "    messages:Annotated[Sequence[BaseMessage],operator.add]"
   ]
  },
  {
   "cell_type": "code",
   "execution_count": 20,
   "metadata": {},
   "outputs": [],
   "source": [
    "def invoke_model(state:AgentState):\n",
    "    messages=state['messages']\n",
    "    question=messages[-1]\n",
    "    return {\"messages\":[model_with_tools.invoke(question)]}"
   ]
  },
  {
   "cell_type": "code",
   "execution_count": 21,
   "metadata": {},
   "outputs": [],
   "source": [
    "\n",
    "def invoke_tool(state:AgentState):\n",
    "    tool_details= state['messages'][-1].additional_kwargs.get(\"tool_calls\", [])[0]\n",
    "    \n",
    "    if tool_details is None:\n",
    "        raise Exception(\"no tool call found\")\n",
    "    \n",
    "    print(f'Selected tool: {tool_details.get(\"function\").get(\"name\")}')\n",
    "    \n",
    "    if tool_details.get(\"function\").get(\"name\")==\"search\":\n",
    "        response = input(prompt=f\"[y/n] continue with expensive web search?\")\n",
    "        if response == \"n\":\n",
    "            raise Exception(\"web search discard\")\n",
    "        \n",
    "    response = tool_mapping[tool_details['function']['name']].invoke(json.loads(tool_details.get(\"function\").get(\"arguments\")))\n",
    "    return {\"messages\" : [response]}"
   ]
  },
  {
   "cell_type": "code",
   "execution_count": 22,
   "metadata": {},
   "outputs": [],
   "source": [
    "def router(state):\n",
    "    tool_calls=state['messages'][-1].additional_kwargs.get(\"tool_calls\",[])\n",
    "    if len(tool_calls):\n",
    "        return \"tool\"\n",
    "    else:\n",
    "        return \"end\""
   ]
  },
  {
   "cell_type": "code",
   "execution_count": 23,
   "metadata": {},
   "outputs": [],
   "source": [
    "# StateGrapg with Agentstate\n",
    "graph=StateGraph(AgentState)\n",
    "graph.add_node(\"ai_assistant\",invoke_model)\n",
    "graph.add_node(\"tool\",invoke_tool)\n",
    "graph.add_conditional_edges('ai_assistant',router,{\"tool\":\"tool\",\"end\":END})\n",
    "graph.add_edge(\"tool\",END)\n",
    "graph.set_entry_point(\"ai_assistant\")\n",
    "app=graph.compile()\n"
   ]
  },
  {
   "cell_type": "code",
   "execution_count": 24,
   "metadata": {},
   "outputs": [
    {
     "data": {
      "image/png": "[encoded data removed]",
      "text/plain": [
       "<IPython.core.display.Image object>"
      ]
     },
     "metadata": {},
     "output_type": "display_data"
    }
   ],
   "source": [
    "\n",
    "from IPython.display import Image, display\n",
    "# View\n",
    "display(Image(app.get_graph().draw_mermaid_png()))"
   ]
  },
  {
   "cell_type": "code",
   "execution_count": 24,
   "metadata": {},
   "outputs": [
    {
     "name": "stdout",
     "output_type": "stream",
     "text": [
      "{'messages': [AIMessage(content='', additional_kwargs={'tool_calls': [{'id': 'call_kc13', 'function': {'arguments': '{\"query\":\"who is the upcoming president of USA\"}', 'name': 'search'}, 'type': 'function'}]}, response_metadata={'token_usage': {'completion_tokens': 86, 'prompt_tokens': 1076, 'total_tokens': 1162, 'completion_time': 0.156363636, 'prompt_time': 0.034317727, 'queue_time': 0.0037715670000000034, 'total_time': 0.190681363}, 'model_name': 'Gemma2-9b-It', 'system_fingerprint': 'fp_10c08bf97d', 'finish_reason': 'tool_calls', 'logprobs': None}, id='run-bfe5c9ec-ab5f-45c0-8d08-1bdf50783c9e-0', tool_calls=[{'name': 'search', 'args': {'query': 'who is the upcoming president of USA'}, 'id': 'call_kc13', 'type': 'tool_call'}], usage_metadata={'input_tokens': 1076, 'output_tokens': 86, 'total_tokens': 1162})]}\n",
      "------\n",
      "Selected tool: search\n",
      "{'messages': [[{'url': 'https://www.nbcnews.com/politics/2024-election/trump-wins-election-president-harris-defeat-2024-race-rcna176107', 'content': 'Donald Trump defeats Kamala Harris to become the next U.S. president, NBC News projects BREAKING: Donald Trump is elected 47th president of the United States, NBC News projects Donald Trump defeats Kamala Harris to become the next U.S. president, NBC News projects Donald Trump defeats Kamala Harris to become the next U.S. president, NBC News projects Trump will make history as the 45th and now 47th president, NBC News projects, saying he will fix an ailing country and despite warnings he will rule as an authoritarian. NBC News projects Donald Trump is elected 47th president of the United States NBC News projected the Trump victory over Harris, who was the first woman of color to win a major party nomination for president, early Wednesday morning.'}, {'url': 'https://www.cnn.com/interactive/2024/politics/presidential-candidates-dg/', 'content': '2024 Presidential Candidates. By CNN Staff. Updated October 21, 2024. Former President Donald Trump is the Republican presidential nominee and Vice President Kamala Harris is the Democratic nominee.'}, {'url': 'https://www.usnews.com/news/elections/articles/who-is-running-for-president-in-2024', 'content': 'Former President Donald Trump is the nominee on the Republican side while Vice President Kamala Harris accepted the Democratic nomination following President Joe Biden’s withdrawal from the race. Bio: Biden announced in a letter on July 21 that it was “in the best interest of my party and the country for me to stand down and to focus solely on fulfilling my duties as President for the remainder of my term,” officially removing himself from contention for the Democratic nomination. Tags: 2024 presidential election, primaries, Kamala Harris, Donald Trump, Joe Biden, Mike Pence, Ron DeSantis, Nikki Haley, Asa Hutchinson, Tim Scott, Chris Christie, Marianne Williamson, Robert F.'}, {'url': 'https://www.nbcnews.com/politics/2024-elections/presidential-candidates-tracker', 'content': '[Source]\\nJoe Biden\\n81\\nScranton, PA\\nWashington, DC\\n1988, 2008, 2020\\n46th President of the United States (2021-present), 47th Vice President of the United States (2009-2017), U.S. Senator from Delaware (1973-2009)\\nUniversity of Delaware (BA), Syracuse University (JD)\\nAbout the candidate\\nPresident Joe Biden launched his re-election campaign by urging Americans to “finish the job,” making a case for allowing his administration to continue to press its agenda and asserting himself as the country’s best option against a field of Republican candidates. \"\\nJoe Biden\\n81\\nScranton, PA\\nWashington, DC\\n1988, 2008, 2020\\n46th President of the United States (2021-present), 47th Vice President of the United States (2009-2017), U.S. Senator from Delaware (1973-2009)\\nUniversity of Delaware (BA), Syracuse University (JD)\\nAbout the candidate\\nPresident Joe Biden launched his re-election campaign by urging Americans to “finish the job,” making a case for allowing his administration to continue to press its agenda and asserting himself as the country’s best option against a field of Republican candidates. [Source; source]\\nNikki Haley\\n51\\nBamberg, SC\\nKiawah Island, SC\\nNone\\nU.S. Ambassador to the United Nations (2017-2018), Governor of South Carolina (2011-2017)\\nClemson University (BA)\\nAbout the candidate\\nNikki Haley, the former governor of South Carolina who served as ambassador to the United Nations during the Trump administration, was the first candidate to challenge her former boss for the Republican nomination. [Source; source]\\nDonald Trump\\n77\\nQueens, NY\\nPalm Beach, FL\\n2000, 2016, 2020\\n45th President of the U.S. (2017-2021)\\nUniversity of Pennsylvania (BS)\\nAbout the candidate\\nFormer President Trump was the first candidate to declare his intent to run for the GOP nomination in 2024. [Source]\\nDean Phillips\\n54\\nSaint Paul, MN\\nWayzata, MN\\nN\\ufeffone\\nU.S. Representative from Minnesota\\'s 3rd district (2019-present)\\nBrown Univeristy (BA), University of Minnesota (MBA)\\nAbout the candidate\\nDean Phillips, a three-term congressman and former CEO, has been critical of Joe Biden’s bid for reelection and has raised concerns about the president’s age and his lackluster approval ratings.'}, {'url': 'https://abcnews.go.com/Politics/running-president-2024/story?id=96849127', 'content': '\"Our great American comeback starts by sending [President] Joe Biden back to his basement in Delaware,\" he declared then, going on to criticize the \"failed policies\" flowing out of Washington -- on crime, on the southern border, on energy production and on the state of the economy, including the cost of living, the \"dereliction of duty\" in the withdrawal from Afghanistan and more.\\n \"\\nChris Christie, Republican\\nFormer New Jersey Gov. Christie announced a 2024 Republican bid for the presidency on June 6.\\nChristie, 61, who also ran in 2016, has made the argument that he might very well be the only Republican willing and able to bring the force needed to knock Trump out of his top spot in the field.\\n The former governor emerged as a Trump skeptic within the Republican Party and indicated to Karl that he would seek to veer away from culture wars and return to a party centered around the idea of small government -- though he insisted he\\'s not \"anti-Trump,\" despite calling on the former president to drop out of the race.\\n \"The stakes are too high for a crowded field to hand the nomination to a candidate who earns just 35 percent of the vote, and I will help ensure this does not happen,\" Sununu wrote in a column in The Washington Post.\\nABC News\\' Gabriella Abdul-Hakim, Tal Axelrod, Chris Boccia, Libby Cathey, Adam Carlson, Hannah Demissie, Lalee Ibssa, Nicholas Kerr, Mariam Khan, Soo Rin Kim, Will McDuffie, Isabella Murray, Oren Oppenheim, Rachel Scott, Brittany Shepherd, Will Steakin, Leah Vredenbregt and Alisa Wiersema contributed to this report.\\n MORE: Tim Scott joins the 2024 Republican race for president\\n\"We live in the land where it is possible for a kid raised in poverty by a single mother in a small apartment to one day serve in the People\\'s House and maybe even the White House,\" Scott said.\\n'}]]}\n",
      "------\n"
     ]
    }
   ],
   "source": [
    "for s in app.stream({'messages': ['who is upcomming president of USA?']}):\n",
    "    print(list(s.values())[0])\n",
    "    print(\"------\")"
   ]
  },
  {
   "cell_type": "code",
   "execution_count": 25,
   "metadata": {},
   "outputs": [
    {
     "name": "stdout",
     "output_type": "stream",
     "text": [
      "{'messages': [AIMessage(content='', additional_kwargs={'tool_calls': [{'id': 'call_7vg6', 'function': {'arguments': '{\"first_number\":23,\"second_number\":46}', 'name': 'multiply'}, 'type': 'function'}]}, response_metadata={'token_usage': {'completion_tokens': 91, 'prompt_tokens': 1079, 'total_tokens': 1170, 'completion_time': 0.165454545, 'prompt_time': 0.058599708, 'queue_time': 0.002705362000000003, 'total_time': 0.224054253}, 'model_name': 'Gemma2-9b-It', 'system_fingerprint': 'fp_10c08bf97d', 'finish_reason': 'tool_calls', 'logprobs': None}, id='run-057a9916-502e-4db1-b6c7-2ace4e5e0762-0', tool_calls=[{'name': 'multiply', 'args': {'first_number': 23, 'second_number': 46}, 'id': 'call_7vg6', 'type': 'tool_call'}], usage_metadata={'input_tokens': 1079, 'output_tokens': 91, 'total_tokens': 1170})]}\n",
      "----\n",
      "Selected tool: multiply\n",
      "{'messages': [1058]}\n",
      "----\n"
     ]
    }
   ],
   "source": [
    "\n",
    "for s in app.stream({\"messages\": [\"what is multiplication of 23 and 46?\"]}):\n",
    "    print(list(s.values())[0])\n",
    "    print(\"----\")"
   ]
  },
  {
   "cell_type": "code",
   "execution_count": 26,
   "metadata": {},
   "outputs": [
    {
     "name": "stdout",
     "output_type": "stream",
     "text": [
      "{'messages': [AIMessage(content='', additional_kwargs={'tool_calls': [{'id': 'call_dg8x', 'function': {'arguments': '{\"query\":\"total amount of money exist over the earth\"}', 'name': 'search'}, 'type': 'function'}]}, response_metadata={'token_usage': {'completion_tokens': 87, 'prompt_tokens': 1079, 'total_tokens': 1166, 'completion_time': 0.158181818, 'prompt_time': 0.034339507, 'queue_time': 0.0027843530000000033, 'total_time': 0.192521325}, 'model_name': 'Gemma2-9b-It', 'system_fingerprint': 'fp_10c08bf97d', 'finish_reason': 'tool_calls', 'logprobs': None}, id='run-c04a8397-7552-4e66-9d78-d8d52789cb95-0', tool_calls=[{'name': 'search', 'args': {'query': 'total amount of money exist over the earth'}, 'id': 'call_dg8x', 'type': 'tool_call'}], usage_metadata={'input_tokens': 1079, 'output_tokens': 87, 'total_tokens': 1166})]}\n",
      "----\n",
      "Selected tool: search\n",
      "{'messages': [[{'url': 'https://www.ncesc.com/geographic-faq/how-much-money-has-exists-in-the-world/', 'content': 'According to a 2023 report, the total amount of money in the world is roughly $40 trillion in circulation. This includes physical money, as well as money in savings and checking accounts. ... How much money is there on Earth? ... there were only 336 $10,000 bills known to exist, along with 342 $5,000 bills, and 165,362 $1,000 bills.'}, {'url': 'https://worldpopulationreview.com/metrics/how-much-money-is-in-the-world', 'content': 'The US Dollar is the most popular currency in the world. Many countries around the world accept the US Dollar alongside their own currency and it can be easily exchanged everywhere else. Therefore, in Kuwaiti Dinar, the total value of all currency in the world is just 24.7 trillion KD. Therefore, in Iranian Rial, the total value of all currency in the world is an unfathomable 3.36 Quintillion IRR. Therefore if we equate the estimated $80 trillion that exists in the world today to the extinct Zimbabwean Dollar, the total value of all currency on Earth is about 20 octillion ZWD. So the short answer to the question “How much money is in the World?” is $80 trillion.'}, {'url': 'https://www.worldatlas.com/articles/how-much-money-is-there-in-the-world.html', 'content': 'The web page estimates the total amount of money in the world based on different classifications, such as physical money, accessible accounts, cryptocurrencies, and investments. It also discusses the future of money and the role of central banks and digital transactions.'}, {'url': 'https://www.under30ceo.com/how-much-money-is-there-in-the-world/', 'content': 'For instance, the total M1 supply worldwide was estimated at $48.9 trillion as of late 2022. When you add in M2, the total money supply can reach staggering amounts, showing just how much money is circulating in the economy. The Impact of Money Supply on the Economy. The amount of money in circulation can greatly affect our economy.'}, {'url': 'https://www.gobankingrates.com/money/economy/how-much-money-is-in-the-world/', 'content': \"Notable absences from the list of top 10 countries with populations over 10 million and the highest income requirements include major economies like Germany ($690,606), Canada ($684,560), the UK ($615,480) and China ($449,211). ... The total amount of money in the world can be measured and expressed in many different ways, so it's difficult\"}]]}\n",
      "----\n"
     ]
    }
   ],
   "source": [
    "\n",
    "\n",
    "for s in app.stream({\"messages\": [\"what is the total amount of money exist over the earth?\"]}):\n",
    "    print(list(s.values())[0])\n",
    "    print(\"----\")"
   ]
  },
  {
   "cell_type": "markdown",
   "metadata": {},
   "source": [
    "LangGraph supports human-in-the-loop workflows in a number of ways. In this section, we will use LangGraph's interrupt_before functionality to always break the tool node."
   ]
  },
  {
   "cell_type": "code",
   "execution_count": 109,
   "metadata": {},
   "outputs": [],
   "source": [
    "from langchain_groq import ChatGroq\n",
    "llm=ChatGroq(model_name=\"Gemma2-9b-It\")"
   ]
  },
  {
   "cell_type": "code",
   "execution_count": 110,
   "metadata": {},
   "outputs": [],
   "source": [
    "class AgentState(TypedDict):\n",
    "    messages: Annotated[list, add_messages]"
   ]
  },
  {
   "cell_type": "code",
   "execution_count": 111,
   "metadata": {},
   "outputs": [],
   "source": [
    "tavily=TavilySearchResults()"
   ]
  },
  {
   "cell_type": "code",
   "execution_count": 112,
   "metadata": {},
   "outputs": [],
   "source": [
    "tools = [tavily]"
   ]
  },
  {
   "cell_type": "code",
   "execution_count": 113,
   "metadata": {},
   "outputs": [],
   "source": [
    "llm_with_tools = llm.bind_tools(tools)"
   ]
  },
  {
   "cell_type": "code",
   "execution_count": 114,
   "metadata": {},
   "outputs": [],
   "source": [
    "def ai_assistant(state: AgentState):\n",
    "    return {\"messages\": [llm_with_tools.invoke(state[\"messages\"])]}"
   ]
  },
  {
   "cell_type": "code",
   "execution_count": 115,
   "metadata": {},
   "outputs": [],
   "source": [
    "memory = MemorySaver()"
   ]
  },
  {
   "cell_type": "code",
   "execution_count": 116,
   "metadata": {},
   "outputs": [
    {
     "data": {
      "text/plain": [
       "<langgraph.graph.state.StateGraph at 0x2a8170a23e0>"
      ]
     },
     "execution_count": 116,
     "metadata": {},
     "output_type": "execute_result"
    }
   ],
   "source": [
    "graph_builder = StateGraph(AgentState)\n",
    "graph_builder.add_node(\"ai_assistant\", ai_assistant)\n",
    "\n",
    "tool_node = ToolNode(tools=tools)\n",
    "graph_builder.add_node(\"tools\", tool_node)\n"
   ]
  },
  {
   "cell_type": "code",
   "execution_count": 117,
   "metadata": {},
   "outputs": [
    {
     "data": {
      "text/plain": [
       "<langgraph.graph.state.StateGraph at 0x2a8170a23e0>"
      ]
     },
     "execution_count": 117,
     "metadata": {},
     "output_type": "execute_result"
    }
   ],
   "source": [
    "graph_builder.add_edge(START, \"ai_assistant\")\n",
    "\n",
    "graph_builder.add_conditional_edges(\n",
    "    \"ai_assistant\",\n",
    "    tools_condition,\n",
    ")\n",
    "graph_builder.add_edge(\"tools\", \"ai_assistant\")"
   ]
  },
  {
   "cell_type": "code",
   "execution_count": 118,
   "metadata": {},
   "outputs": [],
   "source": [
    "app2 = graph_builder.compile(\n",
    "    checkpointer=memory,\n",
    "    # This is new!\n",
    "    interrupt_before=[\"tools\"],\n",
    "    # Note: can also interrupt __after__ tools, if desired.\n",
    "    # interrupt_after=[\"tools\"]\n",
    ")"
   ]
  },
  {
   "cell_type": "code",
   "execution_count": 119,
   "metadata": {},
   "outputs": [
    {
     "data": {
      "image/png": "[encoded data removed]",
      "text/plain": [
       "<IPython.core.display.Image object>"
      ]
     },
     "metadata": {},
     "output_type": "display_data"
    }
   ],
   "source": [
    "from IPython.display import Image, display\n",
    "display(Image(app2.get_graph().draw_mermaid_png()))"
   ]
  },
  {
   "cell_type": "code",
   "execution_count": 120,
   "metadata": {},
   "outputs": [],
   "source": [
    "user_input = \"what is a capital of india?\"\n",
    "config = {\"configurable\": {\"thread_id\": \"2\"}}"
   ]
  },
  {
   "cell_type": "code",
   "execution_count": 121,
   "metadata": {},
   "outputs": [],
   "source": [
    "# The config is the **second positional argument** to stream() or invoke()!\n",
    "events = app2.stream(\n",
    "    {\"messages\": [(\"user\", user_input)]}, config, stream_mode=\"values\"\n",
    ")"
   ]
  },
  {
   "cell_type": "code",
   "execution_count": 122,
   "metadata": {},
   "outputs": [
    {
     "name": "stdout",
     "output_type": "stream",
     "text": [
      "================================\u001b[1m Human Message \u001b[0m=================================\n",
      "\n",
      "what is a capital of india?\n",
      "==================================\u001b[1m Ai Message \u001b[0m==================================\n",
      "Tool Calls:\n",
      "  tavily_search_results_json (call_eakf)\n",
      " Call ID: call_eakf\n",
      "  Args:\n",
      "    query: capital of india\n"
     ]
    }
   ],
   "source": [
    "\n",
    "for event in events:\n",
    "    if \"messages\" in event:\n",
    "        event[\"messages\"][-1].pretty_print()"
   ]
  },
  {
   "cell_type": "code",
   "execution_count": 123,
   "metadata": {},
   "outputs": [],
   "source": [
    "snapshot=app2.get_state(config)"
   ]
  },
  {
   "cell_type": "code",
   "execution_count": 124,
   "metadata": {},
   "outputs": [
    {
     "data": {
      "text/plain": [
       "('tools',)"
      ]
     },
     "execution_count": 124,
     "metadata": {},
     "output_type": "execute_result"
    }
   ],
   "source": [
    "snapshot.next"
   ]
  },
  {
   "cell_type": "code",
   "execution_count": 125,
   "metadata": {},
   "outputs": [
    {
     "data": {
      "text/plain": [
       "AIMessage(content='', additional_kwargs={'tool_calls': [{'id': 'call_eakf', 'function': {'arguments': '{\"query\":\"capital of india\"}', 'name': 'tavily_search_results_json'}, 'type': 'function'}]}, response_metadata={'token_usage': {'completion_tokens': 88, 'prompt_tokens': 988, 'total_tokens': 1076, 'completion_time': 0.16, 'prompt_time': 0.031605952, 'queue_time': 0.0028499680000000013, 'total_time': 0.191605952}, 'model_name': 'Gemma2-9b-It', 'system_fingerprint': 'fp_10c08bf97d', 'finish_reason': 'tool_calls', 'logprobs': None}, id='run-7b1a23cd-a363-496c-a905-a4c94687d0d8-0', tool_calls=[{'name': 'tavily_search_results_json', 'args': {'query': 'capital of india'}, 'id': 'call_eakf', 'type': 'tool_call'}], usage_metadata={'input_tokens': 988, 'output_tokens': 88, 'total_tokens': 1076})"
      ]
     },
     "execution_count": 125,
     "metadata": {},
     "output_type": "execute_result"
    }
   ],
   "source": [
    "last_message=snapshot.values['messages'][-1]\n",
    "last_message"
   ]
  },
  {
   "cell_type": "code",
   "execution_count": 126,
   "metadata": {},
   "outputs": [
    {
     "data": {
      "text/plain": [
       "[{'name': 'tavily_search_results_json',\n",
       "  'args': {'query': 'capital of india'},\n",
       "  'id': 'call_eakf',\n",
       "  'type': 'tool_call'}]"
      ]
     },
     "execution_count": 126,
     "metadata": {},
     "output_type": "execute_result"
    }
   ],
   "source": [
    "last_message.tool_calls"
   ]
  },
  {
   "cell_type": "code",
   "execution_count": 127,
   "metadata": {},
   "outputs": [],
   "source": [
    "# `None` will append nothing new to the current state, letting it resume as if it had never been interrupted\n",
    "events = app2.stream(None, config, stream_mode=\"values\")"
   ]
  },
  {
   "cell_type": "code",
   "execution_count": 128,
   "metadata": {},
   "outputs": [
    {
     "name": "stdout",
     "output_type": "stream",
     "text": [
      "==================================\u001b[1m Ai Message \u001b[0m==================================\n",
      "Tool Calls:\n",
      "  tavily_search_results_json (call_eakf)\n",
      " Call ID: call_eakf\n",
      "  Args:\n",
      "    query: capital of india\n",
      "=================================\u001b[1m Tool Message \u001b[0m=================================\n",
      "Name: tavily_search_results_json\n",
      "\n",
      "[{\"url\": \"https://en.wikipedia.org/wiki/Delhi\", \"content\": \"New Delhi was officially declared as the capital of the Union of India after the country gained independence on 15 August 1947.[55] It has expanded since; the small part of it that was constructed during the British period has come to be informally known as Lutyens' Delhi.[56]\\nPartition and post-independence\\nDuring the partition of India, around five hundred thousand Hindu and Sikh refugees, mainly from West Punjab fled to Delhi, while around three hundred thousand Muslim residents of the city migrated to Pakistan.[59][60] Ethnic Punjabis are believed to account for at least 40% of Delhi's total population and are predominantly Hindi-speaking Punjabi Hindus.[61][62][63] Migration to Delhi from the rest of India continues (as of 2013[update]), contributing more to the rise of Delhi's population than the birth rate, which is declining.[64]\\nThe States Reorganisation Act, 1956 created the Union Territory of Delhi from its predecessor, the Chief Commissioner's Province of Delhi.[1][2] According to the 2011 census, Delhi's city proper population was over 11 million,[6][16] while the NCT's population was about 16.8 million.[7]\\nDelhi's urban agglomeration, which includes the satellite cities Ghaziabad, Faridabad, Gurgaon, Noida, Greater Noida, Meerut and YEIDA city in an area known as the National Capital Region (NCR), has an estimated population of over 28 million, making it the largest metropolitan area in India and the second-largest in the world (after Tokyo).[8]\\nThe topography of the medieval fort Purana Qila on the banks of the river Yamuna matches the literary description of the citadel Indraprastha in the Sanskrit epic Mahabharata; however, excavations in the area have revealed no signs of an ancient built environment. In addition to the wetlands formed by the Yamuna river, Delhi continues to retain over 500 ponds (wetlands < 5 ha (12 acres)), that in turn support considerable number of bird species.[76] Delhi's ponds, despite experiencing ecological deterioration due to garbage dumping and concretisation, support the largest number of bird species known to be using ponds anywhere in the world.[77] Existing policy in Delhi prevents the conversion of wetlands and, quite inadvertently, has led to the city's ponds becoming invaluable refugia for birds.[76][77]\\nThe National Capital Territory of Delhi covers an area of 1,483 km2 (573 sq mi), of which 783 km2 (302 sq mi) is designated rural, and 700 km2 (270 sq mi) urban therefore making it the largest city in terms of area in the country. The Mughal dynasty ruled Delhi for more than three centuries, with a sixteen-year hiatus during the reigns of Sher Shah Suri and Hemu from 1540 to 1556.[43] Shah Jahan built the seventh city of Delhi that bears his name Shahjahanabad, which served as the capital of the Mughal Empire from 1638 and is today known as the Old City or Old Delhi.[44]\\nAfter the death of Aurangzeb in 1707, the Mughal Empire's influence declined rapidly as the Hindu Maratha Empire from Deccan Plateau rose to prominence.[45] In 1737, Maratha forces led by Baji Rao I sacked Delhi following their victory against the Mughals in the First Battle of Delhi. Delhi hosted the inaugural 1951 Asian Games, the 1982 Asian Games, the 1983 Non-Aligned Movement summit, the 2010 Men's Hockey World Cup, the 2010 Commonwealth Games, and the 2012 BRICS summit and was one of the major host cities of the 2011 Cricket World Cup and 2023 Cricket World Cup\\nToponym\\nThere are a number of myths and legends associated with the origin of the name Delhi.\"}, {\"url\": \"https://en.wikipedia.org/wiki/List_of_capitals_of_India\", \"content\": \"Jump to content Personal tools Toggle the table of contents List of capitals of India Tools Find sources: \\\"List of capitals of India\\\" – news · newspapers · books · scholar · JSTOR (September 2012) (Learn how and when to remove this message) Vijayanagara: Capital of Vijayanagara Empire from early 14th Century until 1585, when it was abandoned, ostensibly due to lack of water. Pune: In 1730, Pune became the capital of the Marathas of the Maratha Empire.At this time Maratha Empire was at its peak, and became the only non-mughal capital. Retrieved 22 July 2020. Retrieved 21 March 2014. Categories: Lists of cities in IndiaCapitals by countryIndia history-related listsLists of capitals By using this site, you agree to the Terms of Use and Privacy Policy.\"}, {\"url\": \"https://www.britannica.com/place/Delhi\", \"content\": \"The city of Delhi actually consists of two components: Old Delhi, in the north, the historic city; and New Delhi, in the south, since 1947 the capital of India, built in the first part of the 20th century as the capital of British India.\\n Two sides of the triangle are articulated by the rocky hills of the Aravalli Range—one to the south of the city, the other on its western edge, where it is known as the Delhi Ridge. To the east the territory is bounded by the state of Uttar Pradesh, and to the north, west, and south it is bounded by the state of Haryana.\\n One of the country’s largest urban agglomerations, Delhi sits astride (but primarily on the west bank of) the Yamuna River, a tributary of the Ganges (Ganga) River, about 100 miles (160 km) south of the Himalayas. The summer season lasts from mid-March to the end of June, with maximum temperatures typically reaching about 100 °F (about 37 °C) and minimum temperatures falling into the high 70s F (about 25 °C); it is characterized by frequent thunderstorms and squalls, especially in April and May.\"}, {\"url\": \"https://www.worldatlas.com/articles/what-is-the-capital-of-india.html\", \"content\": \"Related\\nThe Largest Empires In The History Of India\\nBiggest Ethnic Groups In India\\nMore in World Facts\\nThe Largest Countries In Asia By Area\\n Also, the durbar was held in Delhi so as to welcome the Prince of Wales; hence the British associated Delhi with royal heritage.\\n What is the Capital of India?\\nIndia, also known as the Republic of India is located in South Asia. For historical reasons, Red Fort which is located in New Delhi is a reminder to the British when they defeated the Mughal ruler in 1857. Initially, the capital city was in Kolkata when King George V of Britain ordered that the capital be moved to Delhi in 1911.\"}, {\"url\": \"https://www.britannica.com/place/New-Delhi\", \"content\": \"Where is New Delhi?\\nNew Delhi is situated in the north-central part of India on the west bank of the Yamuna River, adjacent to and just south of Old Delhi, the historic centre of Delhi, and within the Delhi national capital territory.\\n It is situated in the north-central part of the country on the west bank of the Yamuna River, adjacent to and just south of Delhi city (Old Delhi) and within the Delhi national capital territory.\\n The straight and diagonal pattern of the broad tree-lined avenues in New Delhi, with extensive green spaces and wide vistas, contrasts sharply with the crowded, narrow, and winding streets characteristic of Old Delhi. Construction began in 1912 at a site about 3 miles (5 km), south of the Delhi city centre, and the new capital was formally dedicated in 1931.\\n Recent News\\nWhat is New Delhi?\\nNew Delhi is the national capital of India.\\n\"}]\n",
      "==================================\u001b[1m Ai Message \u001b[0m==================================\n",
      "Tool Calls:\n",
      "  tavily_search_results_json (call_jpyv)\n",
      " Call ID: call_jpyv\n",
      "  Args:\n",
      "    query: capital of india\n"
     ]
    }
   ],
   "source": [
    "\n",
    "for event in events:\n",
    "    if \"messages\" in event:\n",
    "        event[\"messages\"][-1].pretty_print()"
   ]
  },
  {
   "cell_type": "code",
   "execution_count": 129,
   "metadata": {},
   "outputs": [],
   "source": [
    "\n",
    "user_input = \"what is a weather there?\"\n",
    "\n",
    "config = {\"configurable\": {\"thread_id\": \"2\"}}"
   ]
  },
  {
   "cell_type": "code",
   "execution_count": 130,
   "metadata": {},
   "outputs": [],
   "source": [
    "\n",
    "\n",
    "# The config is the **second positional argument** to stream() or invoke()!\n",
    "events = app2.stream(\n",
    "    {\"messages\": [(\"user\", user_input)]}, config, stream_mode=\"values\")"
   ]
  },
  {
   "cell_type": "code",
   "execution_count": 131,
   "metadata": {},
   "outputs": [
    {
     "name": "stdout",
     "output_type": "stream",
     "text": [
      "================================\u001b[1m Human Message \u001b[0m=================================\n",
      "\n",
      "what is a weather there?\n",
      "==================================\u001b[1m Ai Message \u001b[0m==================================\n",
      "Tool Calls:\n",
      "  tavily_search_results_json (call_v63n)\n",
      " Call ID: call_v63n\n",
      "  Args:\n",
      "    query: weather in delhi\n"
     ]
    }
   ],
   "source": [
    "\n",
    "\n",
    "for event in events:\n",
    "    if \"messages\" in event:\n",
    "        event[\"messages\"][-1].pretty_print()"
   ]
  },
  {
   "cell_type": "code",
   "execution_count": 132,
   "metadata": {},
   "outputs": [],
   "source": [
    "snapshot = app2.get_state(config)"
   ]
  },
  {
   "cell_type": "code",
   "execution_count": 133,
   "metadata": {},
   "outputs": [
    {
     "data": {
      "text/plain": [
       "('tools',)"
      ]
     },
     "execution_count": 133,
     "metadata": {},
     "output_type": "execute_result"
    }
   ],
   "source": [
    "\n",
    "snapshot.next"
   ]
  },
  {
   "cell_type": "code",
   "execution_count": 134,
   "metadata": {},
   "outputs": [],
   "source": [
    "last_message=snapshot.values[\"messages\"][-1]"
   ]
  },
  {
   "cell_type": "code",
   "execution_count": 135,
   "metadata": {},
   "outputs": [
    {
     "data": {
      "text/plain": [
       "[{'name': 'tavily_search_results_json',\n",
       "  'args': {'query': 'weather in delhi'},\n",
       "  'id': 'call_v63n',\n",
       "  'type': 'tool_call'}]"
      ]
     },
     "execution_count": 135,
     "metadata": {},
     "output_type": "execute_result"
    }
   ],
   "source": [
    "\n",
    "last_message.tool_calls"
   ]
  },
  {
   "cell_type": "code",
   "execution_count": 136,
   "metadata": {},
   "outputs": [],
   "source": [
    "\n",
    "# `None` will append nothing new to the current state, letting it resume as if it had never been interrupted\n",
    "events = app2.stream(None, config, stream_mode=\"values\")"
   ]
  },
  {
   "cell_type": "code",
   "execution_count": 137,
   "metadata": {},
   "outputs": [
    {
     "name": "stdout",
     "output_type": "stream",
     "text": [
      "==================================\u001b[1m Ai Message \u001b[0m==================================\n",
      "Tool Calls:\n",
      "  tavily_search_results_json (call_v63n)\n",
      " Call ID: call_v63n\n",
      "  Args:\n",
      "    query: weather in delhi\n",
      "=================================\u001b[1m Tool Message \u001b[0m=================================\n",
      "Name: tavily_search_results_json\n",
      "\n",
      "[{\"url\": \"https://www.weatherapi.com/\", \"content\": \"{'location': {'name': 'Delhi', 'region': 'Ontario', 'country': 'Canada', 'lat': 42.85, 'lon': -80.5, 'tz_id': 'America/Toronto', 'localtime_epoch': 1733126734, 'localtime': '2024-12-02 03:05'}, 'current': {'last_updated_epoch': 1733126400, 'last_updated': '2024-12-02 03:00', 'temp_c': -3.5, 'temp_f': 25.7, 'is_day': 0, 'condition': {'text': 'Clear', 'icon': '//cdn.weatherapi.com/weather/64x64/night/113.png', 'code': 1000}, 'wind_mph': 13.2, 'wind_kph': 21.2, 'wind_degree': 268, 'wind_dir': 'W', 'pressure_mb': 1020.0, 'pressure_in': 30.13, 'precip_mm': 0.0, 'precip_in': 0.0, 'humidity': 86, 'cloud': 0, 'feelslike_c': -9.9, 'feelslike_f': 14.3, 'windchill_c': -7.8, 'windchill_f': 18.0, 'heatindex_c': -1.6, 'heatindex_f': 29.1, 'dewpoint_c': -4.6, 'dewpoint_f': 23.7, 'vis_km': 7.0, 'vis_miles': 4.0, 'uv': 0.0, 'gust_mph': 19.0, 'gust_kph': 30.5}}\"}, {\"url\": \"https://www.hindustantimes.com/cities/delhi-news/delhi-weather-today-aqi-and-rain-forecast-updates-december-2-2024-101733103003673.html\", \"content\": \"The temperature in Delhi today, on December 2, 2024, is 21.83 °C. The day's forecast indicates a minimum and maximum temperature of 14.05 °C and 27.15 °C, respectively. The relative humidity is\"}, {\"url\": \"https://mausam.imd.gov.in/delhiums/\", \"content\": \"Urban Meteorological Services for Delhi - NCR India Meteorological Department Ministry of Earth Sciences Government of India ... 2024. Nov 30, 2024. Dec 1, 2024 ... Dec 2, 2024. Dec 3, 2024. Interactive Display of weather and Thunderstorm warnings. Current Weather Across Delhi - NCR. Delhi; Gurugram; Faridabad; Gautam Budh Nagar; Ghaziabad; New\"}, {\"url\": \"https://www.timeanddate.com/weather/india/delhi\", \"content\": \"Weather 57 °F Forecast: 75 / 57 °F Current Time:   Nov 19, 2024 at 5:46:57 am See more hour-by-hour weather Forecast for the next 48 hours * Updated Tuesday, November 19, 2024 12:32:54 am Delhi time - Weather by CustomWeather, © 2024 Fog. 73 / 59 °F Wind: 2 mph ↑ from Northwest 57 °F Fog. 54 °F 54 °F 75 / 58 °F 75 / 57 °F 75 / 54 °F 76 / 53 °F 77 / 54 °F 82 / 58 °F 82 / 60 °F 84 / 60 °F 84 / 66 °F 83 / 63 °F 84 / 64 °F 86 / 66 °F 85 / 66 °F 86 / 66 °F Privacy Policy Weather\"}, {\"url\": \"https://www.timeanddate.com/weather/india/new-delhi/ext\", \"content\": \"New Delhi, Delhi, India 14 day weather forecast Time Zone News Calendar & Holiday News Time Zones Time Zones Home Time Zone Converter Time Zone Map Time Changes Worldwide Time Zone News Calendar Calendars Home Calendar & Holiday News Weather Sun & Moon Home Sun Calculator Moon Calculator Calculators Calculators Home Home   Weather   India   New Delhi   Two-week forecast New Delhi 14 Day Extended Forecast Weather Time Zone Last 2 weeks of weather 2 Week Extended Forecast in New Delhi, Delhi, India | * Updated Tuesday, November 19, 2024 2:54:29 am New Delhi time - Weather by CustomWeather, © 2024 | Hour-by-hour weather for New Delhi next 7 days Sun & Moon times precise to the second. Time Zones Weather Calculators\"}]\n",
      "==================================\u001b[1m Ai Message \u001b[0m==================================\n",
      "Tool Calls:\n",
      "  tavily_search_results_json (call_wtfm)\n",
      " Call ID: call_wtfm\n",
      "  Args:\n",
      "    query: weather in Delhi right now\n"
     ]
    }
   ],
   "source": [
    "\n",
    "for event in events:\n",
    "    if \"messages\" in event:\n",
    "        event[\"messages\"][-1].pretty_print()"
   ]
  },
  {
   "cell_type": "code",
   "execution_count": 138,
   "metadata": {},
   "outputs": [],
   "source": [
    "snapshot=app2.get_state(config)"
   ]
  },
  {
   "cell_type": "code",
   "execution_count": 139,
   "metadata": {},
   "outputs": [
    {
     "data": {
      "text/plain": [
       "('tools',)"
      ]
     },
     "execution_count": 139,
     "metadata": {},
     "output_type": "execute_result"
    }
   ],
   "source": [
    "snapshot.next"
   ]
  },
  {
   "cell_type": "code",
   "execution_count": 140,
   "metadata": {},
   "outputs": [],
   "source": [
    "user_input = \"give me the recent news of it?\"\n",
    "\n",
    "config = {\"configurable\": {\"thread_id\": \"2\"}}"
   ]
  },
  {
   "cell_type": "code",
   "execution_count": 141,
   "metadata": {},
   "outputs": [],
   "source": [
    "\n",
    "# The config is the **second positional argument** to stream() or invoke()!\n",
    "events = app2.stream(\n",
    "    {\"messages\": [(\"user\", user_input)]}, config, stream_mode=\"values\"\n",
    ")\n",
    "   "
   ]
  },
  {
   "cell_type": "code",
   "execution_count": 142,
   "metadata": {},
   "outputs": [
    {
     "name": "stdout",
     "output_type": "stream",
     "text": [
      "================================\u001b[1m Human Message \u001b[0m=================================\n",
      "\n",
      "give me the recent news of it?\n",
      "==================================\u001b[1m Ai Message \u001b[0m==================================\n",
      "Tool Calls:\n",
      "  tavily_search_results_json (call_mke7)\n",
      " Call ID: call_mke7\n",
      "  Args:\n",
      "    query: recent news delhi\n"
     ]
    }
   ],
   "source": [
    "for event in events:\n",
    "    if \"messages\" in event:\n",
    "        event[\"messages\"][-1].pretty_print()"
   ]
  },
  {
   "cell_type": "code",
   "execution_count": 143,
   "metadata": {},
   "outputs": [
    {
     "data": {
      "text/plain": [
       "StateSnapshot(values={'messages': [HumanMessage(content='what is a capital of india?', additional_kwargs={}, response_metadata={}, id='9119719e-4524-49ca-b833-1f6cd1274ebe'), AIMessage(content='', additional_kwargs={'tool_calls': [{'id': 'call_eakf', 'function': {'arguments': '{\"query\":\"capital of india\"}', 'name': 'tavily_search_results_json'}, 'type': 'function'}]}, response_metadata={'token_usage': {'completion_tokens': 88, 'prompt_tokens': 988, 'total_tokens': 1076, 'completion_time': 0.16, 'prompt_time': 0.031605952, 'queue_time': 0.0028499680000000013, 'total_time': 0.191605952}, 'model_name': 'Gemma2-9b-It', 'system_fingerprint': 'fp_10c08bf97d', 'finish_reason': 'tool_calls', 'logprobs': None}, id='run-7b1a23cd-a363-496c-a905-a4c94687d0d8-0', tool_calls=[{'name': 'tavily_search_results_json', 'args': {'query': 'capital of india'}, 'id': 'call_eakf', 'type': 'tool_call'}], usage_metadata={'input_tokens': 988, 'output_tokens': 88, 'total_tokens': 1076}), ToolMessage(content='[{\"url\": \"https://en.wikipedia.org/wiki/Delhi\", \"content\": \"New Delhi was officially declared as the capital of the Union of India after the country gained independence on 15 August 1947.[55] It has expanded since; the small part of it that was constructed during the British period has come to be informally known as Lutyens\\' Delhi.[56]\\\\nPartition and post-independence\\\\nDuring the partition of India, around five hundred thousand Hindu and Sikh refugees, mainly from West Punjab fled to Delhi, while around three hundred thousand Muslim residents of the city migrated to Pakistan.[59][60] Ethnic Punjabis are believed to account for at least 40% of Delhi\\'s total population and are predominantly Hindi-speaking Punjabi Hindus.[61][62][63] Migration to Delhi from the rest of India continues (as of 2013[update]), contributing more to the rise of Delhi\\'s population than the birth rate, which is declining.[64]\\\\nThe States Reorganisation Act, 1956 created the Union Territory of Delhi from its predecessor, the Chief Commissioner\\'s Province of Delhi.[1][2] According to the 2011 census, Delhi\\'s city proper population was over 11\\xa0million,[6][16] while the NCT\\'s population was about 16.8\\xa0million.[7]\\\\nDelhi\\'s urban agglomeration, which includes the satellite cities Ghaziabad, Faridabad, Gurgaon, Noida, Greater Noida, Meerut and YEIDA city in an area known as the National Capital Region (NCR), has an estimated population of over 28\\xa0million, making it the largest metropolitan area in India and the second-largest in the world (after Tokyo).[8]\\\\nThe topography of the medieval fort Purana Qila on the banks of the river Yamuna matches the literary description of the citadel Indraprastha in the Sanskrit epic Mahabharata; however, excavations in the area have revealed no signs of an ancient built environment. In addition to the wetlands formed by the Yamuna river, Delhi continues to retain over 500 ponds (wetlands < 5\\xa0ha (12 acres)), that in turn support considerable number of bird species.[76] Delhi\\'s ponds, despite experiencing ecological deterioration due to garbage dumping and concretisation, support the largest number of bird species known to be using ponds anywhere in the world.[77] Existing policy in Delhi prevents the conversion of wetlands and, quite inadvertently, has led to the city\\'s ponds becoming invaluable refugia for birds.[76][77]\\\\nThe National Capital Territory of Delhi covers an area of 1,483\\xa0km2 (573\\xa0sq\\xa0mi), of which 783\\xa0km2 (302\\xa0sq\\xa0mi) is designated rural, and 700\\xa0km2 (270\\xa0sq\\xa0mi) urban therefore making it the largest city in terms of area in the country. The Mughal dynasty ruled Delhi for more than three centuries, with a sixteen-year hiatus during the reigns of Sher Shah Suri and Hemu from 1540 to 1556.[43] Shah Jahan built the seventh city of Delhi that bears his name Shahjahanabad, which served as the capital of the Mughal Empire from 1638 and is today known as the Old City or Old Delhi.[44]\\\\nAfter the death of Aurangzeb in 1707, the Mughal Empire\\'s influence declined rapidly as the Hindu Maratha Empire from Deccan Plateau rose to prominence.[45] In 1737, Maratha forces led by Baji Rao I sacked Delhi following their victory against the Mughals in the First Battle of Delhi. Delhi hosted the inaugural 1951 Asian Games, the 1982 Asian Games, the 1983 Non-Aligned Movement summit, the 2010 Men\\'s Hockey World Cup, the 2010 Commonwealth Games, and the 2012 BRICS summit and was one of the major host cities of the 2011 Cricket World Cup and 2023 Cricket World Cup\\\\nToponym\\\\nThere are a number of myths and legends associated with the origin of the name Delhi.\"}, {\"url\": \"https://en.wikipedia.org/wiki/List_of_capitals_of_India\", \"content\": \"Jump to content Personal tools Toggle the table of contents List of capitals of India Tools Find sources:\\xa0\\\\\"List of capitals of India\\\\\"\\xa0–\\xa0news\\xa0· newspapers\\xa0· books\\xa0· scholar\\xa0· JSTOR (September 2012) (Learn how and when to remove this message) Vijayanagara: Capital of Vijayanagara Empire from early 14th Century until 1585, when it was abandoned, ostensibly due to lack of water. Pune: In 1730, Pune became the capital of the Marathas of the Maratha Empire.At this time Maratha Empire was at its peak, and became the only non-mughal capital. Retrieved 22 July 2020. Retrieved 21 March 2014. Categories: Lists of cities in IndiaCapitals by countryIndia history-related listsLists of capitals By using this site, you agree to the Terms of Use and Privacy Policy.\"}, {\"url\": \"https://www.britannica.com/place/Delhi\", \"content\": \"The city of Delhi actually consists of two components: Old Delhi, in the north, the historic city; and New Delhi, in the south, since 1947 the capital of India, built in the first part of the 20th century as the capital of British India.\\\\n Two sides of the triangle are articulated by the rocky hills of the Aravalli Range—one to the south of the city, the other on its western edge, where it is known as the Delhi Ridge. To the east the territory is bounded by the state of Uttar Pradesh, and to the north, west, and south it is bounded by the state of Haryana.\\\\n One of the country’s largest urban agglomerations, Delhi sits astride (but primarily on the west bank of) the Yamuna River, a tributary of the Ganges (Ganga) River, about 100 miles (160 km) south of the Himalayas. The summer season lasts from mid-March to the end of June, with maximum temperatures typically reaching about 100 °F (about 37 °C) and minimum temperatures falling into the high 70s F (about 25 °C); it is characterized by frequent thunderstorms and squalls, especially in April and May.\"}, {\"url\": \"https://www.worldatlas.com/articles/what-is-the-capital-of-india.html\", \"content\": \"Related\\\\nThe Largest Empires In The History Of India\\\\nBiggest Ethnic Groups In India\\\\nMore in World Facts\\\\nThe Largest Countries In Asia By Area\\\\n Also, the durbar was held in Delhi so as to welcome the Prince of Wales; hence the British associated Delhi with royal heritage.\\\\n What is the Capital of India?\\\\nIndia, also known as the Republic of India is located in South Asia. For historical reasons, Red Fort which is located in New Delhi is a reminder to the British when they defeated the Mughal ruler in 1857. Initially, the capital city was in Kolkata when King George V of Britain ordered that the capital be moved to Delhi in 1911.\"}, {\"url\": \"https://www.britannica.com/place/New-Delhi\", \"content\": \"Where is New Delhi?\\\\nNew Delhi is situated in the north-central part of India on the west bank of the Yamuna River, adjacent to and just south of Old Delhi, the historic centre of Delhi, and within the Delhi national capital territory.\\\\n It is situated in the north-central part of the country on the west bank of the Yamuna River, adjacent to and just south of Delhi city (Old Delhi) and within the Delhi national capital territory.\\\\n The straight and diagonal pattern of the broad tree-lined avenues in New Delhi, with extensive green spaces and wide vistas, contrasts sharply with the crowded, narrow, and winding streets characteristic of Old Delhi. Construction began in 1912 at a site about 3 miles (5 km), south of the Delhi city centre, and the new capital was formally dedicated in 1931.\\\\n Recent News\\\\nWhat is New Delhi?\\\\nNew Delhi is the national capital of India.\\\\n\"}]', name='tavily_search_results_json', id='b0561a85-da21-4312-b50a-1b334402b922', tool_call_id='call_eakf', artifact={'query': 'capital of india', 'follow_up_questions': None, 'answer': None, 'images': [], 'results': [{'title': 'Delhi - Wikipedia', 'url': 'https://en.wikipedia.org/wiki/Delhi', 'content': \"New Delhi was officially declared as the capital of the Union of India after the country gained independence on 15 August 1947.[55] It has expanded since; the small part of it that was constructed during the British period has come to be informally known as Lutyens' Delhi.[56]\\nPartition and post-independence\\nDuring the partition of India, around five hundred thousand Hindu and Sikh refugees, mainly from West Punjab fled to Delhi, while around three hundred thousand Muslim residents of the city migrated to Pakistan.[59][60] Ethnic Punjabis are believed to account for at least 40% of Delhi's total population and are predominantly Hindi-speaking Punjabi Hindus.[61][62][63] Migration to Delhi from the rest of India continues (as of 2013[update]), contributing more to the rise of Delhi's population than the birth rate, which is declining.[64]\\nThe States Reorganisation Act, 1956 created the Union Territory of Delhi from its predecessor, the Chief Commissioner's Province of Delhi.[1][2] According to the 2011 census, Delhi's city proper population was over 11\\xa0million,[6][16] while the NCT's population was about 16.8\\xa0million.[7]\\nDelhi's urban agglomeration, which includes the satellite cities Ghaziabad, Faridabad, Gurgaon, Noida, Greater Noida, Meerut and YEIDA city in an area known as the National Capital Region (NCR), has an estimated population of over 28\\xa0million, making it the largest metropolitan area in India and the second-largest in the world (after Tokyo).[8]\\nThe topography of the medieval fort Purana Qila on the banks of the river Yamuna matches the literary description of the citadel Indraprastha in the Sanskrit epic Mahabharata; however, excavations in the area have revealed no signs of an ancient built environment. In addition to the wetlands formed by the Yamuna river, Delhi continues to retain over 500 ponds (wetlands < 5\\xa0ha (12 acres)), that in turn support considerable number of bird species.[76] Delhi's ponds, despite experiencing ecological deterioration due to garbage dumping and concretisation, support the largest number of bird species known to be using ponds anywhere in the world.[77] Existing policy in Delhi prevents the conversion of wetlands and, quite inadvertently, has led to the city's ponds becoming invaluable refugia for birds.[76][77]\\nThe National Capital Territory of Delhi covers an area of 1,483\\xa0km2 (573\\xa0sq\\xa0mi), of which 783\\xa0km2 (302\\xa0sq\\xa0mi) is designated rural, and 700\\xa0km2 (270\\xa0sq\\xa0mi) urban therefore making it the largest city in terms of area in the country. The Mughal dynasty ruled Delhi for more than three centuries, with a sixteen-year hiatus during the reigns of Sher Shah Suri and Hemu from 1540 to 1556.[43] Shah Jahan built the seventh city of Delhi that bears his name Shahjahanabad, which served as the capital of the Mughal Empire from 1638 and is today known as the Old City or Old Delhi.[44]\\nAfter the death of Aurangzeb in 1707, the Mughal Empire's influence declined rapidly as the Hindu Maratha Empire from Deccan Plateau rose to prominence.[45] In 1737, Maratha forces led by Baji Rao I sacked Delhi following their victory against the Mughals in the First Battle of Delhi. Delhi hosted the inaugural 1951 Asian Games, the 1982 Asian Games, the 1983 Non-Aligned Movement summit, the 2010 Men's Hockey World Cup, the 2010 Commonwealth Games, and the 2012 BRICS summit and was one of the major host cities of the 2011 Cricket World Cup and 2023 Cricket World Cup\\nToponym\\nThere are a number of myths and legends associated with the origin of the name Delhi.\", 'score': 0.9954615, 'raw_content': None}, {'title': 'List of capitals of India - Wikipedia', 'url': 'https://en.wikipedia.org/wiki/List_of_capitals_of_India', 'content': 'Jump to content Personal tools Toggle the table of contents List of capitals of India Tools Find sources:\\xa0\"List of capitals of India\"\\xa0–\\xa0news\\xa0· newspapers\\xa0· books\\xa0· scholar\\xa0· JSTOR (September 2012) (Learn how and when to remove this message) Vijayanagara: Capital of Vijayanagara Empire from early 14th Century until 1585, when it was abandoned, ostensibly due to lack of water. Pune: In 1730, Pune became the capital of the Marathas of the Maratha Empire.At this time Maratha Empire was at its peak, and became the only non-mughal capital. Retrieved 22 July 2020. Retrieved 21 March 2014. Categories: Lists of cities in IndiaCapitals by countryIndia history-related listsLists of capitals By using this site, you agree to the Terms of Use and Privacy Policy.', 'score': 0.9939261, 'raw_content': None}, {'title': 'Delhi | History, Population, Map, & Facts | Britannica', 'url': 'https://www.britannica.com/place/Delhi', 'content': 'The city of Delhi actually consists of two components: Old Delhi, in the north, the historic city; and New Delhi, in the south, since 1947 the capital of India, built in the first part of the 20th century as the capital of British India.\\n Two sides of the triangle are articulated by the rocky hills of the Aravalli Range—one to the south of the city, the other on its western edge, where it is known as the Delhi Ridge. To the east the territory is bounded by the state of Uttar Pradesh, and to the north, west, and south it is bounded by the state of Haryana.\\n One of the country’s largest urban agglomerations, Delhi sits astride (but primarily on the west bank of) the Yamuna River, a tributary of the Ganges (Ganga) River, about 100 miles (160 km) south of the Himalayas. The summer season lasts from mid-March to the end of June, with maximum temperatures typically reaching about 100 °F (about 37 °C) and minimum temperatures falling into the high 70s F (about 25 °C); it is characterized by frequent thunderstorms and squalls, especially in April and May.', 'score': 0.9723097, 'raw_content': None}, {'title': 'What is the Capital of India? - WorldAtlas', 'url': 'https://www.worldatlas.com/articles/what-is-the-capital-of-india.html', 'content': 'Related\\nThe Largest Empires In The History Of India\\nBiggest Ethnic Groups In India\\nMore in World Facts\\nThe Largest Countries In Asia By Area\\n Also, the durbar was held in Delhi so as to welcome the Prince of Wales; hence the British associated Delhi with royal heritage.\\n What is the Capital of India?\\nIndia, also known as the Republic of India is located in South Asia. For historical reasons, Red Fort which is located in New Delhi is a reminder to the British when they defeated the Mughal ruler in 1857. Initially, the capital city was in Kolkata when King George V of Britain ordered that the capital be moved to Delhi in 1911.', 'score': 0.9695556, 'raw_content': None}, {'title': 'New Delhi | History, Population, Map, & Facts | Britannica', 'url': 'https://www.britannica.com/place/New-Delhi', 'content': 'Where is New Delhi?\\nNew Delhi is situated in the north-central part of India on the west bank of the Yamuna River, adjacent to and just south of Old Delhi, the historic centre of Delhi, and within the Delhi national capital territory.\\n It is situated in the north-central part of the country on the west bank of the Yamuna River, adjacent to and just south of Delhi city (Old Delhi) and within the Delhi national capital territory.\\n The straight and diagonal pattern of the broad tree-lined avenues in New Delhi, with extensive green spaces and wide vistas, contrasts sharply with the crowded, narrow, and winding streets characteristic of Old Delhi. Construction began in 1912 at a site about 3 miles (5 km), south of the Delhi city centre, and the new capital was formally dedicated in 1931.\\n Recent News\\nWhat is New Delhi?\\nNew Delhi is the national capital of India.\\n', 'score': 0.9680808, 'raw_content': None}], 'response_time': 1.41}), AIMessage(content='', additional_kwargs={'tool_calls': [{'id': 'call_jpyv', 'function': {'arguments': '{\"query\":\"capital of india\"}', 'name': 'tavily_search_results_json'}, 'type': 'function'}]}, response_metadata={'token_usage': {'completion_tokens': 50, 'prompt_tokens': 2888, 'total_tokens': 2938, 'completion_time': 0.090909091, 'prompt_time': 0.092670331, 'queue_time': 0.0037718680000000115, 'total_time': 0.183579422}, 'model_name': 'Gemma2-9b-It', 'system_fingerprint': 'fp_10c08bf97d', 'finish_reason': 'tool_calls', 'logprobs': None}, id='run-40ad5cd6-aea0-4a3b-9bc6-0d194983e15e-0', tool_calls=[{'name': 'tavily_search_results_json', 'args': {'query': 'capital of india'}, 'id': 'call_jpyv', 'type': 'tool_call'}], usage_metadata={'input_tokens': 2888, 'output_tokens': 50, 'total_tokens': 2938}), HumanMessage(content='what is a weather there?', additional_kwargs={}, response_metadata={}, id='937d3174-23fd-4cd3-85f9-3419648d583f'), AIMessage(content='', additional_kwargs={'tool_calls': [{'id': 'call_v63n', 'function': {'arguments': '{\"query\":\"weather in delhi\"}', 'name': 'tavily_search_results_json'}, 'type': 'function'}]}, response_metadata={'token_usage': {'completion_tokens': 52, 'prompt_tokens': 2953, 'total_tokens': 3005, 'completion_time': 0.094545455, 'prompt_time': 0.095115024, 'queue_time': 0.003941795999999997, 'total_time': 0.189660479}, 'model_name': 'Gemma2-9b-It', 'system_fingerprint': 'fp_10c08bf97d', 'finish_reason': 'tool_calls', 'logprobs': None}, id='run-3e1a3898-6501-42ba-8263-627ab1f67ef7-0', tool_calls=[{'name': 'tavily_search_results_json', 'args': {'query': 'weather in delhi'}, 'id': 'call_v63n', 'type': 'tool_call'}], usage_metadata={'input_tokens': 2953, 'output_tokens': 52, 'total_tokens': 3005}), ToolMessage(content='[{\"url\": \"https://www.weatherapi.com/\", \"content\": \"{\\'location\\': {\\'name\\': \\'Delhi\\', \\'region\\': \\'Ontario\\', \\'country\\': \\'Canada\\', \\'lat\\': 42.85, \\'lon\\': -80.5, \\'tz_id\\': \\'America/Toronto\\', \\'localtime_epoch\\': 1733126734, \\'localtime\\': \\'2024-12-02 03:05\\'}, \\'current\\': {\\'last_updated_epoch\\': 1733126400, \\'last_updated\\': \\'2024-12-02 03:00\\', \\'temp_c\\': -3.5, \\'temp_f\\': 25.7, \\'is_day\\': 0, \\'condition\\': {\\'text\\': \\'Clear\\', \\'icon\\': \\'//cdn.weatherapi.com/weather/64x64/night/113.png\\', \\'code\\': 1000}, \\'wind_mph\\': 13.2, \\'wind_kph\\': 21.2, \\'wind_degree\\': 268, \\'wind_dir\\': \\'W\\', \\'pressure_mb\\': 1020.0, \\'pressure_in\\': 30.13, \\'precip_mm\\': 0.0, \\'precip_in\\': 0.0, \\'humidity\\': 86, \\'cloud\\': 0, \\'feelslike_c\\': -9.9, \\'feelslike_f\\': 14.3, \\'windchill_c\\': -7.8, \\'windchill_f\\': 18.0, \\'heatindex_c\\': -1.6, \\'heatindex_f\\': 29.1, \\'dewpoint_c\\': -4.6, \\'dewpoint_f\\': 23.7, \\'vis_km\\': 7.0, \\'vis_miles\\': 4.0, \\'uv\\': 0.0, \\'gust_mph\\': 19.0, \\'gust_kph\\': 30.5}}\"}, {\"url\": \"https://www.hindustantimes.com/cities/delhi-news/delhi-weather-today-aqi-and-rain-forecast-updates-december-2-2024-101733103003673.html\", \"content\": \"The temperature in Delhi today, on December 2, 2024, is 21.83 °C. The day\\'s forecast indicates a minimum and maximum temperature of 14.05 °C and 27.15 °C, respectively. The relative humidity is\"}, {\"url\": \"https://mausam.imd.gov.in/delhiums/\", \"content\": \"Urban Meteorological Services for Delhi - NCR India Meteorological Department Ministry of Earth Sciences Government of India ... 2024. Nov 30, 2024. Dec 1, 2024 ... Dec 2, 2024. Dec 3, 2024. Interactive Display of weather and Thunderstorm warnings. Current Weather Across Delhi - NCR. Delhi; Gurugram; Faridabad; Gautam Budh Nagar; Ghaziabad; New\"}, {\"url\": \"https://www.timeanddate.com/weather/india/delhi\", \"content\": \"Weather 57\\xa0°F Forecast: 75 / 57\\xa0°F Current Time:   Nov 19, 2024 at 5:46:57 am See more hour-by-hour weather Forecast for the next 48 hours * Updated Tuesday, November 19, 2024 12:32:54 am Delhi time - Weather by CustomWeather, © 2024 Fog. 73 / 59\\xa0°F Wind: 2 mph ↑ from Northwest 57\\xa0°F Fog. 54\\xa0°F 54\\xa0°F 75 / 58\\xa0°F 75 / 57\\xa0°F 75 / 54\\xa0°F 76 / 53\\xa0°F 77 / 54\\xa0°F 82 / 58\\xa0°F 82 / 60\\xa0°F 84 / 60\\xa0°F 84 / 66\\xa0°F 83 / 63\\xa0°F 84 / 64\\xa0°F 86 / 66\\xa0°F 85 / 66\\xa0°F 86 / 66\\xa0°F Privacy Policy Weather\"}, {\"url\": \"https://www.timeanddate.com/weather/india/new-delhi/ext\", \"content\": \"New Delhi, Delhi, India 14 day weather forecast Time Zone News Calendar & Holiday News Time Zones Time Zones Home Time Zone Converter Time Zone Map Time Changes Worldwide Time Zone News Calendar Calendars Home Calendar & Holiday News Weather Sun & Moon Home Sun Calculator Moon Calculator Calculators Calculators Home Home \\xa0 Weather \\xa0 India \\xa0 New Delhi \\xa0 Two-week forecast New Delhi 14 Day Extended Forecast Weather Time Zone Last 2 weeks of weather 2 Week Extended Forecast in New Delhi, Delhi, India | * Updated Tuesday, November 19, 2024 2:54:29 am New Delhi time - Weather by CustomWeather, © 2024 | Hour-by-hour weather for New Delhi next 7 days Sun & Moon times precise to the second. Time Zones Weather Calculators\"}]', name='tavily_search_results_json', id='be2a4867-0a85-4e9f-8bab-a7af3327be5e', tool_call_id='call_v63n', artifact={'query': 'weather in delhi', 'follow_up_questions': None, 'answer': None, 'images': [], 'results': [{'title': 'Weather in Delhi', 'url': 'https://www.weatherapi.com/', 'content': \"{'location': {'name': 'Delhi', 'region': 'Ontario', 'country': 'Canada', 'lat': 42.85, 'lon': -80.5, 'tz_id': 'America/Toronto', 'localtime_epoch': 1733126734, 'localtime': '2024-12-02 03:05'}, 'current': {'last_updated_epoch': 1733126400, 'last_updated': '2024-12-02 03:00', 'temp_c': -3.5, 'temp_f': 25.7, 'is_day': 0, 'condition': {'text': 'Clear', 'icon': '//cdn.weatherapi.com/weather/64x64/night/113.png', 'code': 1000}, 'wind_mph': 13.2, 'wind_kph': 21.2, 'wind_degree': 268, 'wind_dir': 'W', 'pressure_mb': 1020.0, 'pressure_in': 30.13, 'precip_mm': 0.0, 'precip_in': 0.0, 'humidity': 86, 'cloud': 0, 'feelslike_c': -9.9, 'feelslike_f': 14.3, 'windchill_c': -7.8, 'windchill_f': 18.0, 'heatindex_c': -1.6, 'heatindex_f': 29.1, 'dewpoint_c': -4.6, 'dewpoint_f': 23.7, 'vis_km': 7.0, 'vis_miles': 4.0, 'uv': 0.0, 'gust_mph': 19.0, 'gust_kph': 30.5}}\", 'score': 0.9998113, 'raw_content': None}, {'title': 'Delhi Weather and AQI Today: Check weather forecast for December 2, 2024', 'url': 'https://www.hindustantimes.com/cities/delhi-news/delhi-weather-today-aqi-and-rain-forecast-updates-december-2-2024-101733103003673.html', 'content': \"The temperature in Delhi today, on December 2, 2024, is 21.83 °C. The day's forecast indicates a minimum and maximum temperature of 14.05 °C and 27.15 °C, respectively. The relative humidity is\", 'score': 0.9973374, 'raw_content': None}, {'title': 'Delhi/NCR | IMD Weather Forecast - India Meteorological Department', 'url': 'https://mausam.imd.gov.in/delhiums/', 'content': 'Urban Meteorological Services for Delhi - NCR India Meteorological Department Ministry of Earth Sciences Government of India ... 2024. Nov 30, 2024. Dec 1, 2024 ... Dec 2, 2024. Dec 3, 2024. Interactive Display of weather and Thunderstorm warnings. Current Weather Across Delhi - NCR. Delhi; Gurugram; Faridabad; Gautam Budh Nagar; Ghaziabad; New', 'score': 0.9789956, 'raw_content': None}, {'title': 'Weather in Delhi, Delhi, India - timeanddate.com', 'url': 'https://www.timeanddate.com/weather/india/delhi', 'content': 'Weather 57\\xa0°F Forecast: 75 / 57\\xa0°F Current Time:   Nov 19, 2024 at 5:46:57 am See more hour-by-hour weather Forecast for the next 48 hours * Updated Tuesday, November 19, 2024 12:32:54 am Delhi time - Weather by CustomWeather, © 2024 Fog. 73 / 59\\xa0°F Wind: 2 mph ↑ from Northwest 57\\xa0°F Fog. 54\\xa0°F 54\\xa0°F 75 / 58\\xa0°F 75 / 57\\xa0°F 75 / 54\\xa0°F 76 / 53\\xa0°F 77 / 54\\xa0°F 82 / 58\\xa0°F 82 / 60\\xa0°F 84 / 60\\xa0°F 84 / 66\\xa0°F 83 / 63\\xa0°F 84 / 64\\xa0°F 86 / 66\\xa0°F 85 / 66\\xa0°F 86 / 66\\xa0°F Privacy Policy Weather', 'score': 0.8191712, 'raw_content': None}, {'title': 'New Delhi, Delhi, India 14 day weather forecast - timeanddate.com', 'url': 'https://www.timeanddate.com/weather/india/new-delhi/ext', 'content': 'New Delhi, Delhi, India 14 day weather forecast Time Zone News Calendar & Holiday News Time Zones Time Zones Home Time Zone Converter Time Zone Map Time Changes Worldwide Time Zone News Calendar Calendars Home Calendar & Holiday News Weather Sun & Moon Home Sun Calculator Moon Calculator Calculators Calculators Home Home \\xa0 Weather \\xa0 India \\xa0 New Delhi \\xa0 Two-week forecast New Delhi 14 Day Extended Forecast Weather Time Zone Last 2 weeks of weather 2 Week Extended Forecast in New Delhi, Delhi, India | * Updated Tuesday, November 19, 2024 2:54:29 am New Delhi time - Weather by CustomWeather, © 2024 | Hour-by-hour weather for New Delhi next 7 days Sun & Moon times precise to the second. Time Zones Weather Calculators', 'score': 0.59625685, 'raw_content': None}], 'response_time': 2.48}), AIMessage(content='', additional_kwargs={'tool_calls': [{'id': 'call_wtfm', 'function': {'arguments': '{\"query\":\"weather in Delhi right now\"}', 'name': 'tavily_search_results_json'}, 'type': 'function'}]}, response_metadata={'token_usage': {'completion_tokens': 54, 'prompt_tokens': 4263, 'total_tokens': 4317, 'completion_time': 0.098181818, 'prompt_time': 0.137050999, 'queue_time': 0.003877637999999989, 'total_time': 0.235232817}, 'model_name': 'Gemma2-9b-It', 'system_fingerprint': 'fp_10c08bf97d', 'finish_reason': 'tool_calls', 'logprobs': None}, id='run-8ba20225-34dc-4f3e-a1c7-4ed95416d8f6-0', tool_calls=[{'name': 'tavily_search_results_json', 'args': {'query': 'weather in Delhi right now'}, 'id': 'call_wtfm', 'type': 'tool_call'}], usage_metadata={'input_tokens': 4263, 'output_tokens': 54, 'total_tokens': 4317}), HumanMessage(content='give me the recent news of it?', additional_kwargs={}, response_metadata={}, id='3c91a42f-fcee-49c0-a669-8b5ff71b1445'), AIMessage(content='', additional_kwargs={'tool_calls': [{'id': 'call_mke7', 'function': {'arguments': '{\"query\":\"recent news delhi\"}', 'name': 'tavily_search_results_json'}, 'type': 'function'}]}, response_metadata={'token_usage': {'completion_tokens': 53, 'prompt_tokens': 4331, 'total_tokens': 4384, 'completion_time': 0.096363636, 'prompt_time': 0.13932515, 'queue_time': 0.004727219000000005, 'total_time': 0.235688786}, 'model_name': 'Gemma2-9b-It', 'system_fingerprint': 'fp_10c08bf97d', 'finish_reason': 'tool_calls', 'logprobs': None}, id='run-557aa813-7a28-4ed3-af14-cee9cfdce5a3-0', tool_calls=[{'name': 'tavily_search_results_json', 'args': {'query': 'recent news delhi'}, 'id': 'call_mke7', 'type': 'tool_call'}], usage_metadata={'input_tokens': 4331, 'output_tokens': 53, 'total_tokens': 4384})]}, next=('tools',), config={'configurable': {'thread_id': '2', 'checkpoint_ns': '', 'checkpoint_id': '1efb0843-a680-6e88-800b-b8247b0e2fb5'}}, metadata={'source': 'loop', 'writes': {'ai_assistant': {'messages': [AIMessage(content='', additional_kwargs={'tool_calls': [{'id': 'call_mke7', 'function': {'arguments': '{\"query\":\"recent news delhi\"}', 'name': 'tavily_search_results_json'}, 'type': 'function'}]}, response_metadata={'token_usage': {'completion_tokens': 53, 'prompt_tokens': 4331, 'total_tokens': 4384, 'completion_time': 0.096363636, 'prompt_time': 0.13932515, 'queue_time': 0.004727219000000005, 'total_time': 0.235688786}, 'model_name': 'Gemma2-9b-It', 'system_fingerprint': 'fp_10c08bf97d', 'finish_reason': 'tool_calls', 'logprobs': None}, id='run-557aa813-7a28-4ed3-af14-cee9cfdce5a3-0', tool_calls=[{'name': 'tavily_search_results_json', 'args': {'query': 'recent news delhi'}, 'id': 'call_mke7', 'type': 'tool_call'}], usage_metadata={'input_tokens': 4331, 'output_tokens': 53, 'total_tokens': 4384})]}}, 'thread_id': '2', 'step': 11, 'parents': {}}, created_at='2024-12-02T08:05:43.384436+00:00', parent_config={'configurable': {'thread_id': '2', 'checkpoint_ns': '', 'checkpoint_id': '1efb0843-9f26-686f-800a-563b8395fa23'}}, tasks=(PregelTask(id='02d238a2-9add-62e4-52e1-6c5d9a1ec3ce', name='tools', path=('__pregel_pull', 'tools'), error=None, interrupts=(), state=None, result=None),))"
      ]
     },
     "execution_count": 143,
     "metadata": {},
     "output_type": "execute_result"
    }
   ],
   "source": [
    "snapshot=app2.get_state(config)\n",
    "snapshot"
   ]
  },
  {
   "cell_type": "code",
   "execution_count": 144,
   "metadata": {},
   "outputs": [
    {
     "data": {
      "text/plain": [
       "AIMessage(content='', additional_kwargs={'tool_calls': [{'id': 'call_mke7', 'function': {'arguments': '{\"query\":\"recent news delhi\"}', 'name': 'tavily_search_results_json'}, 'type': 'function'}]}, response_metadata={'token_usage': {'completion_tokens': 53, 'prompt_tokens': 4331, 'total_tokens': 4384, 'completion_time': 0.096363636, 'prompt_time': 0.13932515, 'queue_time': 0.004727219000000005, 'total_time': 0.235688786}, 'model_name': 'Gemma2-9b-It', 'system_fingerprint': 'fp_10c08bf97d', 'finish_reason': 'tool_calls', 'logprobs': None}, id='run-557aa813-7a28-4ed3-af14-cee9cfdce5a3-0', tool_calls=[{'name': 'tavily_search_results_json', 'args': {'query': 'recent news delhi'}, 'id': 'call_mke7', 'type': 'tool_call'}], usage_metadata={'input_tokens': 4331, 'output_tokens': 53, 'total_tokens': 4384})"
      ]
     },
     "execution_count": 144,
     "metadata": {},
     "output_type": "execute_result"
    }
   ],
   "source": [
    "current_message = snapshot.values[\"messages\"][-1]\n",
    "current_message"
   ]
  },
  {
   "cell_type": "code",
   "execution_count": 145,
   "metadata": {},
   "outputs": [
    {
     "name": "stdout",
     "output_type": "stream",
     "text": [
      "==================================\u001b[1m Ai Message \u001b[0m==================================\n",
      "Tool Calls:\n",
      "  tavily_search_results_json (call_mke7)\n",
      " Call ID: call_mke7\n",
      "  Args:\n",
      "    query: recent news delhi\n"
     ]
    }
   ],
   "source": [
    "current_message.pretty_print()"
   ]
  },
  {
   "cell_type": "code",
   "execution_count": 146,
   "metadata": {},
   "outputs": [
    {
     "data": {
      "text/plain": [
       "'call_mke7'"
      ]
     },
     "execution_count": 146,
     "metadata": {},
     "output_type": "execute_result"
    }
   ],
   "source": [
    "tool_call_id = current_message.tool_calls[0][\"id\"] \n",
    "tool_call_id"
   ]
  },
  {
   "cell_type": "code",
   "execution_count": 148,
   "metadata": {},
   "outputs": [],
   "source": [
    "from langchain_core.messages import AIMessage, ToolMessage"
   ]
  },
  {
   "cell_type": "code",
   "execution_count": null,
   "metadata": {},
   "outputs": [],
   "source": [
    "answer = \"it is just related to raining which is happing on daily basis\""
   ]
  },
  {
   "cell_type": "code",
   "execution_count": 150,
   "metadata": {},
   "outputs": [],
   "source": [
    "new_messages = [\n",
    "    ToolMessage(content=answer, tool_call_id=tool_call_id),\n",
    "    AIMessage(content=answer),\n",
    "]"
   ]
  },
  {
   "cell_type": "code",
   "execution_count": 151,
   "metadata": {},
   "outputs": [
    {
     "data": {
      "text/plain": [
       "{'configurable': {'thread_id': '2',\n",
       "  'checkpoint_ns': '',\n",
       "  'checkpoint_id': '1efb0848-6b2d-670f-800c-8b02dbacfaff'}}"
      ]
     },
     "execution_count": 151,
     "metadata": {},
     "output_type": "execute_result"
    }
   ],
   "source": [
    "\n",
    "app2.update_state(\n",
    "    config,\n",
    "    {\"messages\": new_messages},\n",
    ")\n",
    "  "
   ]
  },
  {
   "cell_type": "code",
   "execution_count": 152,
   "metadata": {},
   "outputs": [
    {
     "name": "stdout",
     "output_type": "stream",
     "text": [
      "[AIMessage(content='it is just related to raining which is happing on daily basis', additional_kwargs={}, response_metadata={}, id='fe7ab2a9-3e7a-4f80-bf8c-4cbb49950d2a')]\n"
     ]
    }
   ],
   "source": [
    "print(app2.get_state(config).values[\"messages\"][-1:])"
   ]
  },
  {
   "cell_type": "code",
   "execution_count": null,
   "metadata": {},
   "outputs": [],
   "source": []
  }
 ],
 "metadata": {
  "kernelspec": {
   "display_name": "Python 3",
   "language": "python",
   "name": "python3"
  },
  "language_info": {
   "codemirror_mode": {
    "name": "ipython",
    "version": 3
   },
   "file_extension": ".py",
   "mimetype": "text/x-python",
   "name": "python",
   "nbconvert_exporter": "python",
   "pygments_lexer": "ipython3",
   "version": "3.10.14"
  }
 },
 "nbformat": 4,
 "nbformat_minor": 2
}
