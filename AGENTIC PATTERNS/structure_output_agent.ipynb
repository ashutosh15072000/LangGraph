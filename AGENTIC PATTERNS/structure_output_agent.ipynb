{
 "cells": [
  {
   "cell_type": "markdown",
   "metadata": {},
   "source": [
    "A `Structured Output Agent` in LangChain (or other LLM frameworks) refers to an agent that produces responses in a specific structured format, such as JSON, dictionaries, or other structured data types. These agents are particularly useful when you want to ensure that your responses conform to a defined schema, making it easier to parse, validate, and utilize in downstream applications.\n",
    "\n",
    "`Why Use a Structured Output Agent?`\n",
    "\n",
    "`Controlled Responses:` Ensures that the outputs follow a specific format, reducing ambiguity.\n",
    "\n",
    "`Data Validation:` Useful when you want the model output to fit predefined structures, like for APIs or database entries.\n",
    "\n",
    "`Automation:` Makes integration with systems like dashboards, ETL pipelines, or business workflows easier"
   ]
  },
  {
   "cell_type": "code",
   "execution_count": 33,
   "metadata": {},
   "outputs": [],
   "source": [
    "from langchain_community.tools.tavily_search import TavilySearchResults\n",
    "from langchain_core.tools import tool\n",
    "from pydantic import BaseModel,Field\n",
    "from langgraph.graph import MessagesState,StateGraph,START,END\n",
    "from langgraph.prebuilt import ToolNode\n",
    "from langchain_core.messages import HumanMessage"
   ]
  },
  {
   "cell_type": "code",
   "execution_count": 34,
   "metadata": {},
   "outputs": [],
   "source": [
    "from dotenv import load_dotenv\n",
    "load_dotenv\n",
    "import os\n",
    "GROQ_API_KEY=os.getenv('GROQ_API_KEY')"
   ]
  },
  {
   "cell_type": "code",
   "execution_count": 35,
   "metadata": {},
   "outputs": [],
   "source": [
    "os.environ['GROQ_API_KEY']=GROQ_API_KEY"
   ]
  },
  {
   "cell_type": "code",
   "execution_count": 36,
   "metadata": {},
   "outputs": [
    {
     "data": {
      "text/plain": [
       "'Hello! 👋 \\n\\nWhat can I do for you today? 😊\\n'"
      ]
     },
     "execution_count": 36,
     "metadata": {},
     "output_type": "execute_result"
    }
   ],
   "source": [
    "from langchain_groq import ChatGroq\n",
    "llm=ChatGroq(model_name=\"Gemma2-9b-It\")\n",
    "llm.invoke(\"hii\").content"
   ]
  },
  {
   "cell_type": "code",
   "execution_count": 37,
   "metadata": {},
   "outputs": [],
   "source": [
    "tavily_tool=TavilySearchResults()"
   ]
  },
  {
   "cell_type": "code",
   "execution_count": 38,
   "metadata": {},
   "outputs": [],
   "source": [
    "@tool\n",
    "def get_city_details(prompt):\n",
    "    \"Should do a web search to find the required city details\"\n",
    "    response=tavily_tool.invoke(prompt)\n",
    "    return response"
   ]
  },
  {
   "cell_type": "code",
   "execution_count": 39,
   "metadata": {},
   "outputs": [],
   "source": [
    "tools=[get_city_details]"
   ]
  },
  {
   "cell_type": "code",
   "execution_count": 40,
   "metadata": {},
   "outputs": [],
   "source": [
    "model_with_tools=llm.bind_tools(tools)"
   ]
  },
  {
   "cell_type": "markdown",
   "metadata": {},
   "source": [
    "The `BaseModel class` is a core component of Pydantic, which is used extensively in Python applications for data validation, type checking, and parsing. It's particularly useful when working with APIs, web frameworks like FastAPI, and other scenarios where you need to enforce data structure and ensure data integrity.\n",
    "Here's an overview of the BaseModel class, along with some examples to demonstrate how you can use it effectively.\n",
    "\n",
    "This code defines a Pydantic model called CityDetails using the BaseModel class. Let's break it down:\n",
    "\n",
    "`Explanation:`\n",
    "\n",
    "`Class Definition:`\n",
    "\n",
    "CityDetails inherits from BaseModel, making it a data validation model.\n",
    "\n",
    "`Fields with Type Annotations:`\n",
    "\n",
    "- state_name: A string representing the state name of a city.\n",
    "\n",
    "-  state_capital: A string representing the capital of that state.\n",
    "\n",
    "- country_name: A string representing the country name where the city is located.\n",
    "\n",
    "- country_capital: A string representing the capital of that country.\n",
    "\n",
    "`Field Descriptions:`\n",
    "\n",
    "Each field uses Field() to provide a description that helps clarify what information each attribute represents.\n",
    "\n",
    "Purpose:\n",
    "- The model validates and structures data related to cities.\n",
    "- Useful for ensuring that any data related to cities has the correct structure before processing.\n",
    "- Helpful in APIs (like FastAPI) to generate self-documenting endpoints."
   ]
  },
  {
   "cell_type": "code",
   "execution_count": 41,
   "metadata": {},
   "outputs": [],
   "source": [
    "class CityDetails(BaseModel):\n",
    "    \"\"\"Response to the user with this\"\"\"\n",
    "    state_name: str=Field(description=\"State name of the city\")\n",
    "    state_capital: str=Field(description=\"state capital of the city\")\n",
    "    country_name: str=Field(description=\"Country name of the city\")\n",
    "    country_capital: str=Field(description=\"Country capital of the city\")"
   ]
  },
  {
   "cell_type": "code",
   "execution_count": 42,
   "metadata": {},
   "outputs": [],
   "source": [
    "# Inherit \"messages\" key from MessageState, Which is a list of chat messages\n",
    "class AgentState(MessagesState):\n",
    "    # Final Structured response from the agent\n",
    "    final_response:CityDetails"
   ]
  },
  {
   "cell_type": "code",
   "execution_count": 43,
   "metadata": {},
   "outputs": [],
   "source": [
    "model_with_structured_output=llm.with_structured_output(CityDetails)"
   ]
  },
  {
   "cell_type": "code",
   "execution_count": 44,
   "metadata": {},
   "outputs": [],
   "source": [
    "def call_model(state:AgentState):\n",
    "    print(f\"This is 01 input from call model {state}\")\n",
    "    response=model_with_tools.invoke(state['messages'])\n",
    "    print(f\"This is 02 response from call model {response}\")\n",
    "    # We return a list because this will get added to the existing list\n",
    "    return{\"messages\": [response]}\n"
   ]
  },
  {
   "cell_type": "code",
   "execution_count": 45,
   "metadata": {},
   "outputs": [],
   "source": [
    "def should_continue(state:AgentState):\n",
    "    messages=state['messages']\n",
    "    last_message=messages[-1]\n",
    "\n",
    "    # If there is no function call then we respond to the user\n",
    "    if not last_message.tool_calls:\n",
    "        return \"respond\"\n",
    "    # Otherwise if there us, we contine with the tool\n",
    "    else:\n",
    "        return \"continue\""
   ]
  },
  {
   "cell_type": "code",
   "execution_count": 46,
   "metadata": {},
   "outputs": [],
   "source": [
    "def respond(state: AgentState):\n",
    "    print(f\"Here us 03 state from repond {state}\")\n",
    "    response=model_with_structured_output.invoke([HumanMessage(content=state['messages'][-1].content)])\n",
    "    # We return the final answer\n",
    "    print(f\"This is 04 response from respond {response}\")\n",
    "    return {\"final_response\":response}"
   ]
  },
  {
   "cell_type": "code",
   "execution_count": 47,
   "metadata": {},
   "outputs": [],
   "source": [
    "# define a new graph\n",
    "workflow=StateGraph(AgentState)\n",
    "\n",
    "#  Define the two nodes we will cycle between\n",
    "workflow.add_node(\"llm\",call_model)\n",
    "workflow.add_node(\"tools\",ToolNode(tools))\n",
    "workflow.add_node(\"respond\",respond)\n",
    "\n",
    "# set the entry point as agent\n",
    "# this means that this node is the first one called\n",
    "workflow.set_entry_point(\"llm\")\n",
    "\n",
    "# we now add a conditional edge \n",
    "workflow.add_conditional_edges(\n",
    "    \"llm\",\n",
    "    should_continue,\n",
    "    {\n",
    "        \"continue\": \"tools\",\n",
    "        \"respond\":\"respond\"\n",
    "\n",
    "    }\n",
    ")\n",
    "\n",
    "workflow.add_edge(\"tools\",\"llm\")\n",
    "workflow.add_edge(\"respond\",END)\n",
    "graph=workflow.compile()\n"
   ]
  },
  {
   "cell_type": "code",
   "execution_count": 48,
   "metadata": {},
   "outputs": [
    {
     "data": {
      "image/png": "[encoded data removed]",
      "text/plain": [
       "<IPython.core.display.Image object>"
      ]
     },
     "metadata": {},
     "output_type": "display_data"
    }
   ],
   "source": [
    "\n",
    "from IPython.display import Image, display\n",
    "# View\n",
    "display(Image(graph.get_graph().draw_mermaid_png()))"
   ]
  },
  {
   "cell_type": "code",
   "execution_count": 49,
   "metadata": {},
   "outputs": [
    {
     "name": "stdout",
     "output_type": "stream",
     "text": [
      "This is 01 input from call model {'messages': [HumanMessage(content='Tell me about the city details for gwalior?', additional_kwargs={}, response_metadata={}, id='ac102e74-53ab-48b5-85d5-9c744cd5d502')]}\n",
      "This is 02 response from call model content='' additional_kwargs={'tool_calls': [{'id': 'call_32d9', 'function': {'arguments': '{\"prompt\":\"gwalior\"}', 'name': 'get_city_details'}, 'type': 'function'}]} response_metadata={'token_usage': {'completion_tokens': 84, 'prompt_tokens': 946, 'total_tokens': 1030, 'completion_time': 0.152727273, 'prompt_time': 0.029909782, 'queue_time': 0.002749017000000003, 'total_time': 0.182637055}, 'model_name': 'Gemma2-9b-It', 'system_fingerprint': 'fp_10c08bf97d', 'finish_reason': 'tool_calls', 'logprobs': None} id='run-236d5108-ae2e-4fe7-ba6b-f87ebacdf663-0' tool_calls=[{'name': 'get_city_details', 'args': {'prompt': 'gwalior'}, 'id': 'call_32d9', 'type': 'tool_call'}] usage_metadata={'input_tokens': 946, 'output_tokens': 84, 'total_tokens': 1030}\n",
      "This is 01 input from call model {'messages': [HumanMessage(content='Tell me about the city details for gwalior?', additional_kwargs={}, response_metadata={}, id='ac102e74-53ab-48b5-85d5-9c744cd5d502'), AIMessage(content='', additional_kwargs={'tool_calls': [{'id': 'call_32d9', 'function': {'arguments': '{\"prompt\":\"gwalior\"}', 'name': 'get_city_details'}, 'type': 'function'}]}, response_metadata={'token_usage': {'completion_tokens': 84, 'prompt_tokens': 946, 'total_tokens': 1030, 'completion_time': 0.152727273, 'prompt_time': 0.029909782, 'queue_time': 0.002749017000000003, 'total_time': 0.182637055}, 'model_name': 'Gemma2-9b-It', 'system_fingerprint': 'fp_10c08bf97d', 'finish_reason': 'tool_calls', 'logprobs': None}, id='run-236d5108-ae2e-4fe7-ba6b-f87ebacdf663-0', tool_calls=[{'name': 'get_city_details', 'args': {'prompt': 'gwalior'}, 'id': 'call_32d9', 'type': 'tool_call'}], usage_metadata={'input_tokens': 946, 'output_tokens': 84, 'total_tokens': 1030}), ToolMessage(content='AttributeError(\"\\'FieldInfo\\' object has no attribute \\'results\\'\")', name='get_city_details', id='b5017682-8886-435c-aa6d-7f148dd352e9', tool_call_id='call_32d9')]}\n",
      "This is 02 response from call model content='' additional_kwargs={'tool_calls': [{'id': 'call_ag6x', 'function': {'arguments': '{\"prompt\":\"gwalior\"}', 'name': 'get_city_details'}, 'type': 'function'}]} response_metadata={'token_usage': {'completion_tokens': 53, 'prompt_tokens': 1034, 'total_tokens': 1087, 'completion_time': 0.096363636, 'prompt_time': 0.033222708, 'queue_time': 0.0031499920000000042, 'total_time': 0.129586344}, 'model_name': 'Gemma2-9b-It', 'system_fingerprint': 'fp_10c08bf97d', 'finish_reason': 'tool_calls', 'logprobs': None} id='run-5c166121-ce3c-4832-bffb-05d3f3829681-0' tool_calls=[{'name': 'get_city_details', 'args': {'prompt': 'gwalior'}, 'id': 'call_ag6x', 'type': 'tool_call'}] usage_metadata={'input_tokens': 1034, 'output_tokens': 53, 'total_tokens': 1087}\n",
      "This is 01 input from call model {'messages': [HumanMessage(content='Tell me about the city details for gwalior?', additional_kwargs={}, response_metadata={}, id='ac102e74-53ab-48b5-85d5-9c744cd5d502'), AIMessage(content='', additional_kwargs={'tool_calls': [{'id': 'call_32d9', 'function': {'arguments': '{\"prompt\":\"gwalior\"}', 'name': 'get_city_details'}, 'type': 'function'}]}, response_metadata={'token_usage': {'completion_tokens': 84, 'prompt_tokens': 946, 'total_tokens': 1030, 'completion_time': 0.152727273, 'prompt_time': 0.029909782, 'queue_time': 0.002749017000000003, 'total_time': 0.182637055}, 'model_name': 'Gemma2-9b-It', 'system_fingerprint': 'fp_10c08bf97d', 'finish_reason': 'tool_calls', 'logprobs': None}, id='run-236d5108-ae2e-4fe7-ba6b-f87ebacdf663-0', tool_calls=[{'name': 'get_city_details', 'args': {'prompt': 'gwalior'}, 'id': 'call_32d9', 'type': 'tool_call'}], usage_metadata={'input_tokens': 946, 'output_tokens': 84, 'total_tokens': 1030}), ToolMessage(content='AttributeError(\"\\'FieldInfo\\' object has no attribute \\'results\\'\")', name='get_city_details', id='b5017682-8886-435c-aa6d-7f148dd352e9', tool_call_id='call_32d9'), AIMessage(content='', additional_kwargs={'tool_calls': [{'id': 'call_ag6x', 'function': {'arguments': '{\"prompt\":\"gwalior\"}', 'name': 'get_city_details'}, 'type': 'function'}]}, response_metadata={'token_usage': {'completion_tokens': 53, 'prompt_tokens': 1034, 'total_tokens': 1087, 'completion_time': 0.096363636, 'prompt_time': 0.033222708, 'queue_time': 0.0031499920000000042, 'total_time': 0.129586344}, 'model_name': 'Gemma2-9b-It', 'system_fingerprint': 'fp_10c08bf97d', 'finish_reason': 'tool_calls', 'logprobs': None}, id='run-5c166121-ce3c-4832-bffb-05d3f3829681-0', tool_calls=[{'name': 'get_city_details', 'args': {'prompt': 'gwalior'}, 'id': 'call_ag6x', 'type': 'tool_call'}], usage_metadata={'input_tokens': 1034, 'output_tokens': 53, 'total_tokens': 1087}), ToolMessage(content='AttributeError(\"\\'FieldInfo\\' object has no attribute \\'results\\'\")', name='get_city_details', id='b7ffe32f-0a54-4421-b62e-51c27f2a6906', tool_call_id='call_ag6x')]}\n",
      "This is 02 response from call model content='' additional_kwargs={'tool_calls': [{'id': 'call_acyj', 'function': {'arguments': '{\"prompt\":\"gwalior\"}', 'name': 'get_city_details'}, 'type': 'function'}]} response_metadata={'token_usage': {'completion_tokens': 58, 'prompt_tokens': 1120, 'total_tokens': 1178, 'completion_time': 0.105454545, 'prompt_time': 0.03789951, 'queue_time': 0.061223713, 'total_time': 0.143354055}, 'model_name': 'Gemma2-9b-It', 'system_fingerprint': 'fp_10c08bf97d', 'finish_reason': 'tool_calls', 'logprobs': None} id='run-f99f2e3b-d4e5-409c-b728-b806d4119f89-0' tool_calls=[{'name': 'get_city_details', 'args': {'prompt': 'gwalior'}, 'id': 'call_acyj', 'type': 'tool_call'}] usage_metadata={'input_tokens': 1120, 'output_tokens': 58, 'total_tokens': 1178}\n",
      "This is 01 input from call model {'messages': [HumanMessage(content='Tell me about the city details for gwalior?', additional_kwargs={}, response_metadata={}, id='ac102e74-53ab-48b5-85d5-9c744cd5d502'), AIMessage(content='', additional_kwargs={'tool_calls': [{'id': 'call_32d9', 'function': {'arguments': '{\"prompt\":\"gwalior\"}', 'name': 'get_city_details'}, 'type': 'function'}]}, response_metadata={'token_usage': {'completion_tokens': 84, 'prompt_tokens': 946, 'total_tokens': 1030, 'completion_time': 0.152727273, 'prompt_time': 0.029909782, 'queue_time': 0.002749017000000003, 'total_time': 0.182637055}, 'model_name': 'Gemma2-9b-It', 'system_fingerprint': 'fp_10c08bf97d', 'finish_reason': 'tool_calls', 'logprobs': None}, id='run-236d5108-ae2e-4fe7-ba6b-f87ebacdf663-0', tool_calls=[{'name': 'get_city_details', 'args': {'prompt': 'gwalior'}, 'id': 'call_32d9', 'type': 'tool_call'}], usage_metadata={'input_tokens': 946, 'output_tokens': 84, 'total_tokens': 1030}), ToolMessage(content='AttributeError(\"\\'FieldInfo\\' object has no attribute \\'results\\'\")', name='get_city_details', id='b5017682-8886-435c-aa6d-7f148dd352e9', tool_call_id='call_32d9'), AIMessage(content='', additional_kwargs={'tool_calls': [{'id': 'call_ag6x', 'function': {'arguments': '{\"prompt\":\"gwalior\"}', 'name': 'get_city_details'}, 'type': 'function'}]}, response_metadata={'token_usage': {'completion_tokens': 53, 'prompt_tokens': 1034, 'total_tokens': 1087, 'completion_time': 0.096363636, 'prompt_time': 0.033222708, 'queue_time': 0.0031499920000000042, 'total_time': 0.129586344}, 'model_name': 'Gemma2-9b-It', 'system_fingerprint': 'fp_10c08bf97d', 'finish_reason': 'tool_calls', 'logprobs': None}, id='run-5c166121-ce3c-4832-bffb-05d3f3829681-0', tool_calls=[{'name': 'get_city_details', 'args': {'prompt': 'gwalior'}, 'id': 'call_ag6x', 'type': 'tool_call'}], usage_metadata={'input_tokens': 1034, 'output_tokens': 53, 'total_tokens': 1087}), ToolMessage(content='AttributeError(\"\\'FieldInfo\\' object has no attribute \\'results\\'\")', name='get_city_details', id='b7ffe32f-0a54-4421-b62e-51c27f2a6906', tool_call_id='call_ag6x'), AIMessage(content='', additional_kwargs={'tool_calls': [{'id': 'call_acyj', 'function': {'arguments': '{\"prompt\":\"gwalior\"}', 'name': 'get_city_details'}, 'type': 'function'}]}, response_metadata={'token_usage': {'completion_tokens': 58, 'prompt_tokens': 1120, 'total_tokens': 1178, 'completion_time': 0.105454545, 'prompt_time': 0.03789951, 'queue_time': 0.061223713, 'total_time': 0.143354055}, 'model_name': 'Gemma2-9b-It', 'system_fingerprint': 'fp_10c08bf97d', 'finish_reason': 'tool_calls', 'logprobs': None}, id='run-f99f2e3b-d4e5-409c-b728-b806d4119f89-0', tool_calls=[{'name': 'get_city_details', 'args': {'prompt': 'gwalior'}, 'id': 'call_acyj', 'type': 'tool_call'}], usage_metadata={'input_tokens': 1120, 'output_tokens': 58, 'total_tokens': 1178}), ToolMessage(content='AttributeError(\"\\'FieldInfo\\' object has no attribute \\'results\\'\")', name='get_city_details', id='a2a05d9d-535d-46de-ac49-96a6d9405f69', tool_call_id='call_acyj')]}\n",
      "This is 02 response from call model content='Let me try rephrasing the request.  Could you tell me about Gwalior, India? \\n' additional_kwargs={} response_metadata={'token_usage': {'completion_tokens': 25, 'prompt_tokens': 1202, 'total_tokens': 1227, 'completion_time': 0.045454545, 'prompt_time': 0.042012564, 'queue_time': 0.077964326, 'total_time': 0.087467109}, 'model_name': 'Gemma2-9b-It', 'system_fingerprint': 'fp_10c08bf97d', 'finish_reason': 'stop', 'logprobs': None} id='run-1b14442c-3c87-4f60-aa5e-69dce3c17821-0' usage_metadata={'input_tokens': 1202, 'output_tokens': 25, 'total_tokens': 1227}\n",
      "Here us 03 state from repond {'messages': [HumanMessage(content='Tell me about the city details for gwalior?', additional_kwargs={}, response_metadata={}, id='ac102e74-53ab-48b5-85d5-9c744cd5d502'), AIMessage(content='', additional_kwargs={'tool_calls': [{'id': 'call_32d9', 'function': {'arguments': '{\"prompt\":\"gwalior\"}', 'name': 'get_city_details'}, 'type': 'function'}]}, response_metadata={'token_usage': {'completion_tokens': 84, 'prompt_tokens': 946, 'total_tokens': 1030, 'completion_time': 0.152727273, 'prompt_time': 0.029909782, 'queue_time': 0.002749017000000003, 'total_time': 0.182637055}, 'model_name': 'Gemma2-9b-It', 'system_fingerprint': 'fp_10c08bf97d', 'finish_reason': 'tool_calls', 'logprobs': None}, id='run-236d5108-ae2e-4fe7-ba6b-f87ebacdf663-0', tool_calls=[{'name': 'get_city_details', 'args': {'prompt': 'gwalior'}, 'id': 'call_32d9', 'type': 'tool_call'}], usage_metadata={'input_tokens': 946, 'output_tokens': 84, 'total_tokens': 1030}), ToolMessage(content='AttributeError(\"\\'FieldInfo\\' object has no attribute \\'results\\'\")', name='get_city_details', id='b5017682-8886-435c-aa6d-7f148dd352e9', tool_call_id='call_32d9'), AIMessage(content='', additional_kwargs={'tool_calls': [{'id': 'call_ag6x', 'function': {'arguments': '{\"prompt\":\"gwalior\"}', 'name': 'get_city_details'}, 'type': 'function'}]}, response_metadata={'token_usage': {'completion_tokens': 53, 'prompt_tokens': 1034, 'total_tokens': 1087, 'completion_time': 0.096363636, 'prompt_time': 0.033222708, 'queue_time': 0.0031499920000000042, 'total_time': 0.129586344}, 'model_name': 'Gemma2-9b-It', 'system_fingerprint': 'fp_10c08bf97d', 'finish_reason': 'tool_calls', 'logprobs': None}, id='run-5c166121-ce3c-4832-bffb-05d3f3829681-0', tool_calls=[{'name': 'get_city_details', 'args': {'prompt': 'gwalior'}, 'id': 'call_ag6x', 'type': 'tool_call'}], usage_metadata={'input_tokens': 1034, 'output_tokens': 53, 'total_tokens': 1087}), ToolMessage(content='AttributeError(\"\\'FieldInfo\\' object has no attribute \\'results\\'\")', name='get_city_details', id='b7ffe32f-0a54-4421-b62e-51c27f2a6906', tool_call_id='call_ag6x'), AIMessage(content='', additional_kwargs={'tool_calls': [{'id': 'call_acyj', 'function': {'arguments': '{\"prompt\":\"gwalior\"}', 'name': 'get_city_details'}, 'type': 'function'}]}, response_metadata={'token_usage': {'completion_tokens': 58, 'prompt_tokens': 1120, 'total_tokens': 1178, 'completion_time': 0.105454545, 'prompt_time': 0.03789951, 'queue_time': 0.061223713, 'total_time': 0.143354055}, 'model_name': 'Gemma2-9b-It', 'system_fingerprint': 'fp_10c08bf97d', 'finish_reason': 'tool_calls', 'logprobs': None}, id='run-f99f2e3b-d4e5-409c-b728-b806d4119f89-0', tool_calls=[{'name': 'get_city_details', 'args': {'prompt': 'gwalior'}, 'id': 'call_acyj', 'type': 'tool_call'}], usage_metadata={'input_tokens': 1120, 'output_tokens': 58, 'total_tokens': 1178}), ToolMessage(content='AttributeError(\"\\'FieldInfo\\' object has no attribute \\'results\\'\")', name='get_city_details', id='a2a05d9d-535d-46de-ac49-96a6d9405f69', tool_call_id='call_acyj'), AIMessage(content='Let me try rephrasing the request.  Could you tell me about Gwalior, India? \\n', additional_kwargs={}, response_metadata={'token_usage': {'completion_tokens': 25, 'prompt_tokens': 1202, 'total_tokens': 1227, 'completion_time': 0.045454545, 'prompt_time': 0.042012564, 'queue_time': 0.077964326, 'total_time': 0.087467109}, 'model_name': 'Gemma2-9b-It', 'system_fingerprint': 'fp_10c08bf97d', 'finish_reason': 'stop', 'logprobs': None}, id='run-1b14442c-3c87-4f60-aa5e-69dce3c17821-0', usage_metadata={'input_tokens': 1202, 'output_tokens': 25, 'total_tokens': 1227})]}\n",
      "This is 04 response from respond state_name='Madhya Pradesh' state_capital='Gwalior' country_name='India' country_capital='New Delhi'\n"
     ]
    }
   ],
   "source": [
    "answer = graph.invoke(input={\"messages\": [(\"human\", \"Tell me about the city details for gwalior?\")]})['final_response']"
   ]
  },
  {
   "cell_type": "code",
   "execution_count": 50,
   "metadata": {},
   "outputs": [
    {
     "data": {
      "text/plain": [
       "CityDetails(state_name='Madhya Pradesh', state_capital='Gwalior', country_name='India', country_capital='New Delhi')"
      ]
     },
     "execution_count": 50,
     "metadata": {},
     "output_type": "execute_result"
    }
   ],
   "source": [
    "answer"
   ]
  },
  {
   "cell_type": "code",
   "execution_count": null,
   "metadata": {},
   "outputs": [],
   "source": []
  }
 ],
 "metadata": {
  "kernelspec": {
   "display_name": "Python 3",
   "language": "python",
   "name": "python3"
  },
  "language_info": {
   "codemirror_mode": {
    "name": "ipython",
    "version": 3
   },
   "file_extension": ".py",
   "mimetype": "text/x-python",
   "name": "python",
   "nbconvert_exporter": "python",
   "pygments_lexer": "ipython3",
   "version": "3.9.18"
  }
 },
 "nbformat": 4,
 "nbformat_minor": 2
}
