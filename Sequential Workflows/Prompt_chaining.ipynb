{
 "cells": [
  {
   "cell_type": "code",
   "execution_count": 1,
   "id": "b68b4a1f",
   "metadata": {},
   "outputs": [],
   "source": [
    "from langgraph.graph import StateGraph,START,END\n",
    "from langchain_google_genai import ChatGoogleGenerativeAI\n",
    "from typing import TypedDict\n",
    "from dotenv import load_dotenv\n",
    "import os"
   ]
  },
  {
   "cell_type": "code",
   "execution_count": 2,
   "id": "100c8f07",
   "metadata": {},
   "outputs": [
    {
     "data": {
      "text/plain": [
       "True"
      ]
     },
     "execution_count": 2,
     "metadata": {},
     "output_type": "execute_result"
    }
   ],
   "source": [
    "load_dotenv()"
   ]
  },
  {
   "cell_type": "code",
   "execution_count": 4,
   "id": "c348493e",
   "metadata": {},
   "outputs": [],
   "source": [
    "api_key=os.getenv(\"GOOGLE_API_KEY\")"
   ]
  },
  {
   "cell_type": "code",
   "execution_count": 5,
   "id": "29cb3959",
   "metadata": {},
   "outputs": [],
   "source": [
    "model=ChatGoogleGenerativeAI(model=\"gemini-2.5-pro\",google_api_key=api_key)"
   ]
  },
  {
   "cell_type": "code",
   "execution_count": 6,
   "id": "7de156ea",
   "metadata": {},
   "outputs": [],
   "source": [
    "class BlogState(TypedDict):\n",
    "    title: str\n",
    "    outline: str\n",
    "    content: str"
   ]
  },
  {
   "cell_type": "code",
   "execution_count": 10,
   "id": "988b3f52",
   "metadata": {},
   "outputs": [],
   "source": [
    "def create_outline(state: BlogState) -> BlogState:\n",
    "\n",
    "    ## Fetch title\n",
    "    title = state['title']\n",
    "\n",
    "    ## Call LLM and generare outline\n",
    "    prompt=f\"generate a outline for a blog on the topic {title}\"\n",
    "    outline=model.invoke(prompt).content\n",
    "\n",
    "    ## Update state\n",
    "    state['outline'] = outline\n",
    "\n",
    "    return state"
   ]
  },
  {
   "cell_type": "code",
   "execution_count": 11,
   "id": "210a13d8",
   "metadata": {},
   "outputs": [],
   "source": [
    "def create_blog(state: BlogState)-> BlogState:\n",
    "\n",
    "    title=state['title']\n",
    "    outline=state['outline']\n",
    "\n",
    "    prompt=f\"Write a detail blog on the title using the following outline \\n {outline}\"\n",
    "\n",
    "    content=model.invoke(prompt).content\n",
    "\n",
    "    state['content']=content\n",
    "\n",
    "    return state"
   ]
  },
  {
   "cell_type": "code",
   "execution_count": 13,
   "id": "2274133f",
   "metadata": {},
   "outputs": [],
   "source": [
    "graph=StateGraph(BlogState)\n",
    "\n",
    "## Add nodes\n",
    "graph.add_node('create_outline',create_outline)\n",
    "graph.add_node('create_blog',create_blog)\n",
    "\n",
    "## Add Edges\n",
    "graph.add_edge(START,'create_outline')\n",
    "graph.add_edge('create_outline','create_blog')\n",
    "graph.add_edge('create_blog',END)\n",
    "\n",
    "## Compile\n",
    "workflow=graph.compile()"
   ]
  },
  {
   "cell_type": "code",
   "execution_count": 14,
   "id": "3243b7a6",
   "metadata": {},
   "outputs": [
    {
     "data": {
      "image/png": "[encoded data removed]",
      "text/plain": [
       "<IPython.core.display.Image object>"
      ]
     },
     "execution_count": 14,
     "metadata": {},
     "output_type": "execute_result"
    }
   ],
   "source": [
    "from IPython.display import Image\n",
    "Image(workflow.get_graph().draw_mermaid_png())"
   ]
  },
  {
   "cell_type": "code",
   "execution_count": 15,
   "id": "abde1f60",
   "metadata": {},
   "outputs": [
    {
     "name": "stdout",
     "output_type": "stream",
     "text": [
      "{'title': 'Rise of  AI in india', 'outline': 'Of course! Here is a comprehensive outline for a blog post on the topic \"The Rise of AI in India.\" This structure is designed to be logical, engaging, and easy for a writer to flesh out into a full article.\\n\\n---\\n\\n### **Blog Post Outline: The Rise of AI in India**\\n\\n**Target Audience:** Tech enthusiasts, business leaders, policymakers, students, and the general public interested in India\\'s growth story.\\n\\n**Goal:** To provide a comprehensive overview of the AI landscape in India, covering its drivers, applications, key players, challenges, and future potential.\\n\\n---\\n\\n### **1. Title (Choose one or create a variation):**\\n\\n*   India\\'s AI Ascent: From Code to a Trillion-Dollar Dream\\n*   Decoding the Rise of AI in India: A New Digital Dawn\\n*   The AI Revolution: How India is Building its Intelligent Future\\n*   Beyond the Hype: The Real Impact of AI in India\\n\\n---\\n\\n### **2. Introduction (The Hook)**\\n\\n*   **Opening:** Start with a powerful statistic or a relatable anecdote.\\n    *   *Example Stat:* \"India\\'s AI market is projected to reach over $11 billion by 2028. But this is more than just a number; it\\'s a story of a nation on the cusp of a technological revolution.\"\\n    *   *Example Anecdote:* \"From the UPI payment you just made to the movie recommendation on your screen, AI is already woven into the fabric of modern India. But this is just the beginning.\"\\n*   **Thesis Statement:** Briefly state the blog\\'s purpose. \"This post will explore the key forces driving India\\'s AI boom, showcase its transformative impact across key sectors, and look at the road ahead—both the opportunities and the challenges.\"\\n*   **Roadmap:** Briefly mention what the article will cover (drivers, applications, future).\\n\\n---\\n\\n### **3. Section 1: The Perfect Storm: Why AI is Booming in India *Now***\\n\\n*   **Subtitle:** *The Catalysts for India\\'s AI Revolution*\\n*   **Point A: The Data Deluge:**\\n    *   Massive internet and smartphone penetration (the \"Jio Effect\").\\n    *   World\\'s largest digitally-connected population generating vast, diverse datasets—the fuel for AI.\\n*   **Point B: The Talent Powerhouse:**\\n    *   Strong foundation in STEM education and a massive pool of engineers and IT professionals.\\n    *   Transitioning from an IT services hub to an AI innovation hub.\\n*   **Point C: The Government Push & Policy Support:**\\n    *   Mention key initiatives: **NITI Aayog\\'s #AIforAll** strategy, the **National AI Mission (IndiaAI)**, and the **Digital India** program.\\n    *   Focus on the government\\'s role in creating a favorable ecosystem.\\n*   **Point D: The Thriving Startup Ecosystem:**\\n    *   Explosion of AI-focused startups securing funding and solving niche problems.\\n    *   A culture of innovation and risk-taking.\\n\\n---\\n\\n### **4. Section 2: AI in Action: Transforming Indian Sectors**\\n\\n*   **Subtitle:** *From Farm to Pharma: Where AI is Making a Difference*\\n*   **(Use 3-4 of these examples with specific use cases)**\\n*   **Healthcare:**\\n    *   AI for affordable diagnostics (e.g., detecting diabetic retinopathy from retinal scans).\\n    *   Predictive models for disease outbreaks.\\n    *   Personalized medicine and drug discovery.\\n*   **Agriculture (AgriTech):**\\n    *   Precision farming: AI-powered drones for crop monitoring and soil health analysis.\\n    *   Pest prediction and supply chain optimization to reduce waste.\\n    *   A uniquely impactful area for India\\'s large agrarian population.\\n*   **Finance (FinTech):**\\n    *   Powering the UPI ecosystem with fraud detection.\\n    *   AI for credit scoring for the underbanked population.\\n    *   Customer service chatbots and algorithmic trading.\\n*   **E-commerce & Retail:**\\n    *   Hyper-personalization of recommendations.\\n    *   AI-driven supply chain and inventory management.\\n    *   Vernacular language chatbots for a diverse customer base.\\n*   **Governance & Public Services:**\\n    *   AI-based language translation tools to bridge India\\'s linguistic diversity.\\n    *   Smart city initiatives: traffic management and public safety.\\n\\n---\\n\\n### **5. Section 3: The Architects of India\\'s AI Future**\\n\\n*   **Subtitle:** *The Key Players in the Ecosystem*\\n*   **The Government & Policymakers:** NITI Aayog, Ministry of Electronics and IT (MeitY). Role: Strategy, funding, and regulation.\\n*   **The Tech Giants & IT Services:**\\n    *   Indian majors like TCS, Infosys, Wipro integrating AI into their offerings.\\n    *   Global MNCs (Google, Microsoft, Amazon) with large R&D centers in India.\\n*   **The Startup Brigade:**\\n    *   Mention a few innovative startups as examples (e.g., Haptik, Locus, GreyOrange).\\n    *   Highlight their agility and focus on solving specific Indian problems.\\n*   **Academia & Research:**\\n    *   Premier institutes like the IITs, IIITs, and IISc producing top talent and cutting-edge research.\\n\\n---\\n\\n### **6. Section 4: Navigating the Road Ahead: Challenges and Opportunities**\\n\\n*   **Subtitle:** *Balancing Promise with Pragmatism*\\n*   **The Challenges (The Hurdles):**\\n    *   **Skill Gap:** Need for specialized AI/ML talent beyond general engineering.\\n    *   **Infrastructure:** Uneven access to high-speed internet and computing power, especially in rural areas.\\n    *   **Data Privacy & Ethics:** Need for robust regulations (mention the Digital Personal Data Protection Act) and ethical frameworks to prevent bias.\\n    *   **Inclusivity:** Ensuring AI solutions don\\'t widen the digital divide.\\n*   **The Opportunities (The Prize):**\\n    *   **Economic Engine:** Potential to add nearly a trillion dollars to India\\'s economy by 2035.\\n    *   **Leapfrogging Development:** Solving core challenges in health, education, and agriculture.\\n    *   **Global AI Hub:** Positioning India as a world leader in responsible and human-centric AI development.\\n\\n---\\n\\n### **7. Section 5: Conclusion: The Future is Intelligent**\\n\\n*   **Recap:** Briefly summarize the main points—India\\'s unique drivers (data, talent, government support), its widespread application, and the key players shaping its journey.\\n*   **Final Thought:** End with a powerful, forward-looking statement. \"The rise of AI in India is not merely a technological trend; it\\'s a socio-economic transformation. By harnessing its potential responsibly, India has the opportunity to not only build a prosperous future for its citizens but also to offer a model for human-centric AI to the world.\"\\n\\n---\\n\\n### **8. Call to Action (CTA)**\\n\\n*   **Engage:** \"What are your thoughts on the rise of AI in India? Which sector do you think will be most impacted? Share your views in the comments below!\"\\n*   **Share:** \"If you found this article insightful, share it with your network!\"', 'content': 'Of course! Here is a detailed blog post written based on the provided outline.\\n\\n---\\n\\n## India\\'s AI Ascent: From Code to a Trillion-Dollar Dream\\n\\nFrom the UPI payment you just made to the movie recommendation that popped up on your screen, Artificial Intelligence is no longer a futuristic concept in India—it\\'s already woven into the fabric of our daily lives. But this is just the beginning. India\\'s AI market is projected to soar past **$11 billion by 2028**, and this isn\\'t just a number; it\\'s the story of a nation on the cusp of a technological revolution.\\n\\nThis deep dive will explore the key forces driving India\\'s AI boom, showcase its transformative impact across critical sectors, and look at the road ahead—both the monumental opportunities and the significant challenges.\\n\\n### The Perfect Storm: The Catalysts for India\\'s AI Revolution\\n\\nWhy is AI booming in India *now*? It\\'s not a single factor but a convergence of powerful forces creating the perfect environment for innovation.\\n\\n**1. The Data Deluge:**\\nData is the fuel for AI, and India is generating it on an unprecedented scale. The \"Jio Effect\" triggered a paradigm shift, making mobile data among the cheapest in the world. This led to a massive surge in internet and smartphone penetration, creating one of the world\\'s largest digitally-connected populations. Every click, every online transaction, and every social media post contributes to a vast, diverse dataset that is essential for training sophisticated AI models.\\n\\n**2. The Talent Powerhouse:**\\nIndia has long been celebrated for its strong foundation in STEM education and its massive pool of engineers and IT professionals. For decades, the country has been the world\\'s back office. Now, that same talent pool is upskilling and pivoting, transitioning India from an IT services hub to a global AI innovation hub.\\n\\n**3. The Government Push & Policy Support:**\\nThe Indian government has recognized AI\\'s strategic importance. Landmark initiatives like NITI Aayog\\'s **#AIforAll** strategy, the ambitious **National AI Mission (IndiaAI)**, and the foundational **Digital India** program are not just policy documents. They represent a concerted effort to build a robust ecosystem through funding, infrastructure development, and a clear national vision.\\n\\n**4. The Thriving Startup Ecosystem:**\\nA vibrant culture of innovation and risk-taking has led to an explosion of AI-focused startups. These agile companies are attracting significant venture capital and are laser-focused on solving uniquely Indian problems—from simplifying logistics to bringing cutting-edge healthcare to remote villages.\\n\\n### AI in Action: From Farm to Pharma, Where AI is Making a Difference\\n\\nBeyond the hype, AI is delivering tangible results across India\\'s most vital sectors.\\n\\n**Healthcare:**\\nAI is democratizing access to quality healthcare. Startups and research labs are developing AI algorithms that can detect **diabetic retinopathy** from simple retinal scans with high accuracy, a game-changer for a country with a high diabetic population. Furthermore, AI is being used to create predictive models for disease outbreaks and to accelerate drug discovery, making medicine more personalized and affordable.\\n\\n**Agriculture (AgriTech):**\\nFor a nation where over half the population depends on agriculture, AI is a powerful ally. **Precision farming** is becoming a reality with AI-powered drones that monitor crop health, analyze soil conditions, and optimize water usage. AI models can predict pest attacks and help streamline the supply chain, drastically reducing the post-harvest waste that has long plagued the sector.\\n\\n**Finance (FinTech):**\\nIndia\\'s Unified Payments Interface (UPI) is a global success story, and AI is its silent guardian. Sophisticated AI algorithms work behind the scenes to **detect and prevent fraudulent transactions** in real-time. AI is also revolutionizing lending by creating alternative credit scoring models for the underbanked, bringing millions into the formal financial system.\\n\\n**E-commerce & Retail:**\\nAI is the engine behind the hyper-personalization that defines modern e-commerce. It powers everything from product recommendations to dynamic pricing. Crucially, in a country with immense linguistic diversity, companies are deploying **vernacular language chatbots** to provide customer support in multiple regional languages, breaking down barriers to access.\\n\\n### The Architects of India\\'s AI Future\\n\\nA complex ecosystem of players is working in concert to build India\\'s intelligent future.\\n\\n*   **The Government & Policymakers:** Institutions like **NITI Aayog** and the **Ministry of Electronics and IT (MeitY)** are the strategic architects, setting the national agenda, allocating funds, and crafting regulations.\\n*   **The Tech Giants & IT Services:** Indian behemoths like **TCS, Infosys, and Wipro** are integrating AI deep into their service offerings for global clients. Simultaneously, global MNCs like **Google, Microsoft, and Amazon** have established massive R&D centers in India, turning the country into a global hub for AI research.\\n*   **The Startup Brigade:** Innovative startups like **Haptik** (conversational AI), **Locus** (logistics optimization), and **GreyOrange** (warehouse robotics) are the nimble foot soldiers of this revolution, tackling specific challenges with cutting-edge solutions.\\n*   **Academia & Research:** Premier institutes like the **IITs, IIITs, and IISc** are the bedrock of the ecosystem, producing world-class talent and conducting foundational research that pushes the boundaries of what\\'s possible.\\n\\n### Navigating the Road Ahead: Balancing Promise with Pragmatism\\n\\nThe path to becoming an AI superpower is not without its obstacles. India must navigate several key challenges while seizing its historic opportunities.\\n\\n**The Challenges:**\\n\\n*   **The Skill Gap:** While India has many engineers, there is a pressing need for specialized AI/ML talent with expertise in areas like deep learning, natural language processing, and AI ethics.\\n*   **Infrastructure Disparity:** Access to high-speed internet and the immense computing power needed for AI development remains uneven, particularly between urban and rural areas.\\n*   **Data Privacy & Ethics:** With the new **Digital Personal Data Protection Act**, India has a framework, but the real test lies in its implementation. Ensuring AI models are free from bias and used ethically is a critical, ongoing challenge.\\n*   **Inclusivity:** The ultimate goal is #AIforAll. We must ensure that AI-driven growth doesn\\'t widen the digital divide but instead serves as a tool for empowerment for all sections of society.\\n\\n**The Opportunities:**\\n\\n*   **An Economic Engine:** NASSCOM estimates that AI has the potential to add nearly **half a trillion dollars** to India\\'s economy by 2025, a figure that will only grow.\\n*   **Leapfrogging Development:** AI offers India the chance to \"leapfrog\" traditional, slower stages of development by solving core challenges in health, education, and agriculture more efficiently.\\n*   **A Global AI Hub:** By focusing on its strengths, India can position itself as a world leader in developing responsible, scalable, and human-centric AI solutions for the developing world.\\n\\n### The Future is Intelligent\\n\\nThe rise of AI in India is not merely a technological trend; it is a profound socio-economic transformation. The confluence of massive data, immense talent, government support, and a dynamic startup culture has set the stage for an unprecedented leap forward.\\n\\nBy harnessing AI\\'s potential responsibly and inclusively, India has the opportunity to not only build a prosperous, intelligent future for its 1.4 billion citizens but also to offer a compelling model for human-centric AI to the entire world.\\n\\n---\\n\\n**What are your thoughts on the rise of AI in India? Which sector do you think will be most impacted? Share your views in the comments below!**\\n\\n**If you found this article insightful, please share it with your network!**'}\n"
     ]
    }
   ],
   "source": [
    "initial_state={'title':\"Rise of  AI in india\"}\n",
    "final_state=workflow.invoke(initial_state)\n",
    "print(final_state)"
   ]
  },
  {
   "cell_type": "code",
   "execution_count": 16,
   "id": "c401d160",
   "metadata": {},
   "outputs": [
    {
     "name": "stdout",
     "output_type": "stream",
     "text": [
      "Of course! Here is a comprehensive outline for a blog post on the topic \"The Rise of AI in India.\" This structure is designed to be logical, engaging, and easy for a writer to flesh out into a full article.\n",
      "\n",
      "---\n",
      "\n",
      "### **Blog Post Outline: The Rise of AI in India**\n",
      "\n",
      "**Target Audience:** Tech enthusiasts, business leaders, policymakers, students, and the general public interested in India's growth story.\n",
      "\n",
      "**Goal:** To provide a comprehensive overview of the AI landscape in India, covering its drivers, applications, key players, challenges, and future potential.\n",
      "\n",
      "---\n",
      "\n",
      "### **1. Title (Choose one or create a variation):**\n",
      "\n",
      "*   India's AI Ascent: From Code to a Trillion-Dollar Dream\n",
      "*   Decoding the Rise of AI in India: A New Digital Dawn\n",
      "*   The AI Revolution: How India is Building its Intelligent Future\n",
      "*   Beyond the Hype: The Real Impact of AI in India\n",
      "\n",
      "---\n",
      "\n",
      "### **2. Introduction (The Hook)**\n",
      "\n",
      "*   **Opening:** Start with a powerful statistic or a relatable anecdote.\n",
      "    *   *Example Stat:* \"India's AI market is projected to reach over $11 billion by 2028. But this is more than just a number; it's a story of a nation on the cusp of a technological revolution.\"\n",
      "    *   *Example Anecdote:* \"From the UPI payment you just made to the movie recommendation on your screen, AI is already woven into the fabric of modern India. But this is just the beginning.\"\n",
      "*   **Thesis Statement:** Briefly state the blog's purpose. \"This post will explore the key forces driving India's AI boom, showcase its transformative impact across key sectors, and look at the road ahead—both the opportunities and the challenges.\"\n",
      "*   **Roadmap:** Briefly mention what the article will cover (drivers, applications, future).\n",
      "\n",
      "---\n",
      "\n",
      "### **3. Section 1: The Perfect Storm: Why AI is Booming in India *Now***\n",
      "\n",
      "*   **Subtitle:** *The Catalysts for India's AI Revolution*\n",
      "*   **Point A: The Data Deluge:**\n",
      "    *   Massive internet and smartphone penetration (the \"Jio Effect\").\n",
      "    *   World's largest digitally-connected population generating vast, diverse datasets—the fuel for AI.\n",
      "*   **Point B: The Talent Powerhouse:**\n",
      "    *   Strong foundation in STEM education and a massive pool of engineers and IT professionals.\n",
      "    *   Transitioning from an IT services hub to an AI innovation hub.\n",
      "*   **Point C: The Government Push & Policy Support:**\n",
      "    *   Mention key initiatives: **NITI Aayog's #AIforAll** strategy, the **National AI Mission (IndiaAI)**, and the **Digital India** program.\n",
      "    *   Focus on the government's role in creating a favorable ecosystem.\n",
      "*   **Point D: The Thriving Startup Ecosystem:**\n",
      "    *   Explosion of AI-focused startups securing funding and solving niche problems.\n",
      "    *   A culture of innovation and risk-taking.\n",
      "\n",
      "---\n",
      "\n",
      "### **4. Section 2: AI in Action: Transforming Indian Sectors**\n",
      "\n",
      "*   **Subtitle:** *From Farm to Pharma: Where AI is Making a Difference*\n",
      "*   **(Use 3-4 of these examples with specific use cases)**\n",
      "*   **Healthcare:**\n",
      "    *   AI for affordable diagnostics (e.g., detecting diabetic retinopathy from retinal scans).\n",
      "    *   Predictive models for disease outbreaks.\n",
      "    *   Personalized medicine and drug discovery.\n",
      "*   **Agriculture (AgriTech):**\n",
      "    *   Precision farming: AI-powered drones for crop monitoring and soil health analysis.\n",
      "    *   Pest prediction and supply chain optimization to reduce waste.\n",
      "    *   A uniquely impactful area for India's large agrarian population.\n",
      "*   **Finance (FinTech):**\n",
      "    *   Powering the UPI ecosystem with fraud detection.\n",
      "    *   AI for credit scoring for the underbanked population.\n",
      "    *   Customer service chatbots and algorithmic trading.\n",
      "*   **E-commerce & Retail:**\n",
      "    *   Hyper-personalization of recommendations.\n",
      "    *   AI-driven supply chain and inventory management.\n",
      "    *   Vernacular language chatbots for a diverse customer base.\n",
      "*   **Governance & Public Services:**\n",
      "    *   AI-based language translation tools to bridge India's linguistic diversity.\n",
      "    *   Smart city initiatives: traffic management and public safety.\n",
      "\n",
      "---\n",
      "\n",
      "### **5. Section 3: The Architects of India's AI Future**\n",
      "\n",
      "*   **Subtitle:** *The Key Players in the Ecosystem*\n",
      "*   **The Government & Policymakers:** NITI Aayog, Ministry of Electronics and IT (MeitY). Role: Strategy, funding, and regulation.\n",
      "*   **The Tech Giants & IT Services:**\n",
      "    *   Indian majors like TCS, Infosys, Wipro integrating AI into their offerings.\n",
      "    *   Global MNCs (Google, Microsoft, Amazon) with large R&D centers in India.\n",
      "*   **The Startup Brigade:**\n",
      "    *   Mention a few innovative startups as examples (e.g., Haptik, Locus, GreyOrange).\n",
      "    *   Highlight their agility and focus on solving specific Indian problems.\n",
      "*   **Academia & Research:**\n",
      "    *   Premier institutes like the IITs, IIITs, and IISc producing top talent and cutting-edge research.\n",
      "\n",
      "---\n",
      "\n",
      "### **6. Section 4: Navigating the Road Ahead: Challenges and Opportunities**\n",
      "\n",
      "*   **Subtitle:** *Balancing Promise with Pragmatism*\n",
      "*   **The Challenges (The Hurdles):**\n",
      "    *   **Skill Gap:** Need for specialized AI/ML talent beyond general engineering.\n",
      "    *   **Infrastructure:** Uneven access to high-speed internet and computing power, especially in rural areas.\n",
      "    *   **Data Privacy & Ethics:** Need for robust regulations (mention the Digital Personal Data Protection Act) and ethical frameworks to prevent bias.\n",
      "    *   **Inclusivity:** Ensuring AI solutions don't widen the digital divide.\n",
      "*   **The Opportunities (The Prize):**\n",
      "    *   **Economic Engine:** Potential to add nearly a trillion dollars to India's economy by 2035.\n",
      "    *   **Leapfrogging Development:** Solving core challenges in health, education, and agriculture.\n",
      "    *   **Global AI Hub:** Positioning India as a world leader in responsible and human-centric AI development.\n",
      "\n",
      "---\n",
      "\n",
      "### **7. Section 5: Conclusion: The Future is Intelligent**\n",
      "\n",
      "*   **Recap:** Briefly summarize the main points—India's unique drivers (data, talent, government support), its widespread application, and the key players shaping its journey.\n",
      "*   **Final Thought:** End with a powerful, forward-looking statement. \"The rise of AI in India is not merely a technological trend; it's a socio-economic transformation. By harnessing its potential responsibly, India has the opportunity to not only build a prosperous future for its citizens but also to offer a model for human-centric AI to the world.\"\n",
      "\n",
      "---\n",
      "\n",
      "### **8. Call to Action (CTA)**\n",
      "\n",
      "*   **Engage:** \"What are your thoughts on the rise of AI in India? Which sector do you think will be most impacted? Share your views in the comments below!\"\n",
      "*   **Share:** \"If you found this article insightful, share it with your network!\"\n"
     ]
    }
   ],
   "source": [
    "print(final_state['outline'])"
   ]
  },
  {
   "cell_type": "code",
   "execution_count": 17,
   "id": "f67df349",
   "metadata": {},
   "outputs": [
    {
     "name": "stdout",
     "output_type": "stream",
     "text": [
      "Of course! Here is a detailed blog post written based on the provided outline.\n",
      "\n",
      "---\n",
      "\n",
      "## India's AI Ascent: From Code to a Trillion-Dollar Dream\n",
      "\n",
      "From the UPI payment you just made to the movie recommendation that popped up on your screen, Artificial Intelligence is no longer a futuristic concept in India—it's already woven into the fabric of our daily lives. But this is just the beginning. India's AI market is projected to soar past **$11 billion by 2028**, and this isn't just a number; it's the story of a nation on the cusp of a technological revolution.\n",
      "\n",
      "This deep dive will explore the key forces driving India's AI boom, showcase its transformative impact across critical sectors, and look at the road ahead—both the monumental opportunities and the significant challenges.\n",
      "\n",
      "### The Perfect Storm: The Catalysts for India's AI Revolution\n",
      "\n",
      "Why is AI booming in India *now*? It's not a single factor but a convergence of powerful forces creating the perfect environment for innovation.\n",
      "\n",
      "**1. The Data Deluge:**\n",
      "Data is the fuel for AI, and India is generating it on an unprecedented scale. The \"Jio Effect\" triggered a paradigm shift, making mobile data among the cheapest in the world. This led to a massive surge in internet and smartphone penetration, creating one of the world's largest digitally-connected populations. Every click, every online transaction, and every social media post contributes to a vast, diverse dataset that is essential for training sophisticated AI models.\n",
      "\n",
      "**2. The Talent Powerhouse:**\n",
      "India has long been celebrated for its strong foundation in STEM education and its massive pool of engineers and IT professionals. For decades, the country has been the world's back office. Now, that same talent pool is upskilling and pivoting, transitioning India from an IT services hub to a global AI innovation hub.\n",
      "\n",
      "**3. The Government Push & Policy Support:**\n",
      "The Indian government has recognized AI's strategic importance. Landmark initiatives like NITI Aayog's **#AIforAll** strategy, the ambitious **National AI Mission (IndiaAI)**, and the foundational **Digital India** program are not just policy documents. They represent a concerted effort to build a robust ecosystem through funding, infrastructure development, and a clear national vision.\n",
      "\n",
      "**4. The Thriving Startup Ecosystem:**\n",
      "A vibrant culture of innovation and risk-taking has led to an explosion of AI-focused startups. These agile companies are attracting significant venture capital and are laser-focused on solving uniquely Indian problems—from simplifying logistics to bringing cutting-edge healthcare to remote villages.\n",
      "\n",
      "### AI in Action: From Farm to Pharma, Where AI is Making a Difference\n",
      "\n",
      "Beyond the hype, AI is delivering tangible results across India's most vital sectors.\n",
      "\n",
      "**Healthcare:**\n",
      "AI is democratizing access to quality healthcare. Startups and research labs are developing AI algorithms that can detect **diabetic retinopathy** from simple retinal scans with high accuracy, a game-changer for a country with a high diabetic population. Furthermore, AI is being used to create predictive models for disease outbreaks and to accelerate drug discovery, making medicine more personalized and affordable.\n",
      "\n",
      "**Agriculture (AgriTech):**\n",
      "For a nation where over half the population depends on agriculture, AI is a powerful ally. **Precision farming** is becoming a reality with AI-powered drones that monitor crop health, analyze soil conditions, and optimize water usage. AI models can predict pest attacks and help streamline the supply chain, drastically reducing the post-harvest waste that has long plagued the sector.\n",
      "\n",
      "**Finance (FinTech):**\n",
      "India's Unified Payments Interface (UPI) is a global success story, and AI is its silent guardian. Sophisticated AI algorithms work behind the scenes to **detect and prevent fraudulent transactions** in real-time. AI is also revolutionizing lending by creating alternative credit scoring models for the underbanked, bringing millions into the formal financial system.\n",
      "\n",
      "**E-commerce & Retail:**\n",
      "AI is the engine behind the hyper-personalization that defines modern e-commerce. It powers everything from product recommendations to dynamic pricing. Crucially, in a country with immense linguistic diversity, companies are deploying **vernacular language chatbots** to provide customer support in multiple regional languages, breaking down barriers to access.\n",
      "\n",
      "### The Architects of India's AI Future\n",
      "\n",
      "A complex ecosystem of players is working in concert to build India's intelligent future.\n",
      "\n",
      "*   **The Government & Policymakers:** Institutions like **NITI Aayog** and the **Ministry of Electronics and IT (MeitY)** are the strategic architects, setting the national agenda, allocating funds, and crafting regulations.\n",
      "*   **The Tech Giants & IT Services:** Indian behemoths like **TCS, Infosys, and Wipro** are integrating AI deep into their service offerings for global clients. Simultaneously, global MNCs like **Google, Microsoft, and Amazon** have established massive R&D centers in India, turning the country into a global hub for AI research.\n",
      "*   **The Startup Brigade:** Innovative startups like **Haptik** (conversational AI), **Locus** (logistics optimization), and **GreyOrange** (warehouse robotics) are the nimble foot soldiers of this revolution, tackling specific challenges with cutting-edge solutions.\n",
      "*   **Academia & Research:** Premier institutes like the **IITs, IIITs, and IISc** are the bedrock of the ecosystem, producing world-class talent and conducting foundational research that pushes the boundaries of what's possible.\n",
      "\n",
      "### Navigating the Road Ahead: Balancing Promise with Pragmatism\n",
      "\n",
      "The path to becoming an AI superpower is not without its obstacles. India must navigate several key challenges while seizing its historic opportunities.\n",
      "\n",
      "**The Challenges:**\n",
      "\n",
      "*   **The Skill Gap:** While India has many engineers, there is a pressing need for specialized AI/ML talent with expertise in areas like deep learning, natural language processing, and AI ethics.\n",
      "*   **Infrastructure Disparity:** Access to high-speed internet and the immense computing power needed for AI development remains uneven, particularly between urban and rural areas.\n",
      "*   **Data Privacy & Ethics:** With the new **Digital Personal Data Protection Act**, India has a framework, but the real test lies in its implementation. Ensuring AI models are free from bias and used ethically is a critical, ongoing challenge.\n",
      "*   **Inclusivity:** The ultimate goal is #AIforAll. We must ensure that AI-driven growth doesn't widen the digital divide but instead serves as a tool for empowerment for all sections of society.\n",
      "\n",
      "**The Opportunities:**\n",
      "\n",
      "*   **An Economic Engine:** NASSCOM estimates that AI has the potential to add nearly **half a trillion dollars** to India's economy by 2025, a figure that will only grow.\n",
      "*   **Leapfrogging Development:** AI offers India the chance to \"leapfrog\" traditional, slower stages of development by solving core challenges in health, education, and agriculture more efficiently.\n",
      "*   **A Global AI Hub:** By focusing on its strengths, India can position itself as a world leader in developing responsible, scalable, and human-centric AI solutions for the developing world.\n",
      "\n",
      "### The Future is Intelligent\n",
      "\n",
      "The rise of AI in India is not merely a technological trend; it is a profound socio-economic transformation. The confluence of massive data, immense talent, government support, and a dynamic startup culture has set the stage for an unprecedented leap forward.\n",
      "\n",
      "By harnessing AI's potential responsibly and inclusively, India has the opportunity to not only build a prosperous, intelligent future for its 1.4 billion citizens but also to offer a compelling model for human-centric AI to the entire world.\n",
      "\n",
      "---\n",
      "\n",
      "**What are your thoughts on the rise of AI in India? Which sector do you think will be most impacted? Share your views in the comments below!**\n",
      "\n",
      "**If you found this article insightful, please share it with your network!**\n"
     ]
    }
   ],
   "source": [
    "print(final_state['content'])"
   ]
  }
 ],
 "metadata": {
  "kernelspec": {
   "display_name": "langchainenv",
   "language": "python",
   "name": "python3"
  },
  "language_info": {
   "codemirror_mode": {
    "name": "ipython",
    "version": 3
   },
   "file_extension": ".py",
   "mimetype": "text/x-python",
   "name": "python",
   "nbconvert_exporter": "python",
   "pygments_lexer": "ipython3",
   "version": "3.9.18"
  }
 },
 "nbformat": 4,
 "nbformat_minor": 5
}
