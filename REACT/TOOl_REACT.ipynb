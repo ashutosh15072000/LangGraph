{
 "cells": [
  {
   "cell_type": "markdown",
   "metadata": {},
   "source": [
    "A Tool Calling Agent refers to an AI system\n",
    "or framework that dynamically invokes external tools or APIs to accomplish\n",
    "tasks as part of its decision making process.Instead of relying soley on internal reasoning or knowledge,the agent calls specific tools to perform actions like calculations,searches, or other operations.This type of agent is often used in realworld applications where tasks \n",
    "require interaction with external systems."
   ]
  },
  {
   "cell_type": "code",
   "execution_count": 34,
   "metadata": {},
   "outputs": [
    {
     "data": {
      "text/plain": [
       "True"
      ]
     },
     "execution_count": 34,
     "metadata": {},
     "output_type": "execute_result"
    }
   ],
   "source": [
    "from dotenv import load_dotenv\n",
    "import os\n",
    "load_dotenv()"
   ]
  },
  {
   "cell_type": "code",
   "execution_count": 44,
   "metadata": {},
   "outputs": [],
   "source": [
    "tanvily_api_key=os.getenv(\"TANVILY_API_KEY\")\n",
    "GOOGLE_API_KEY=os.getenv(\"GOOGLE_API_KEY\")\n",
    "os.environ['google_api_key']=GOOGLE_API_KEY\n",
    "os.environ['tavily_api_key']=tanvily_api_key"
   ]
  },
  {
   "cell_type": "code",
   "execution_count": 45,
   "metadata": {},
   "outputs": [],
   "source": [
    "from langchain_community.tools.tavily_search import TavilySearchResults"
   ]
  },
  {
   "cell_type": "code",
   "execution_count": 46,
   "metadata": {},
   "outputs": [],
   "source": [
    "search=TavilySearchResults()"
   ]
  },
  {
   "cell_type": "code",
   "execution_count": 47,
   "metadata": {},
   "outputs": [
    {
     "data": {
      "text/plain": [
       "[{'url': 'https://www.weatherapi.com/',\n",
       "  'content': \"{'location': {'name': 'Lucknow', 'region': 'Uttar Pradesh', 'country': 'India', 'lat': 26.85, 'lon': 80.917, 'tz_id': 'Asia/Kolkata', 'localtime_epoch': 1731650211, 'localtime': '2024-11-15 11:26'}, 'current': {'last_updated_epoch': 1731649500, 'last_updated': '2024-11-15 11:15', 'temp_c': 28.7, 'temp_f': 83.6, 'is_day': 1, 'condition': {'text': 'Sunny', 'icon': '//cdn.weatherapi.com/weather/64x64/day/113.png', 'code': 1000}, 'wind_mph': 7.6, 'wind_kph': 12.2, 'wind_degree': 289, 'wind_dir': 'WNW', 'pressure_mb': 1014.0, 'pressure_in': 29.96, 'precip_mm': 0.0, 'precip_in': 0.0, 'humidity': 25, 'cloud': 0, 'feelslike_c': 27.1, 'feelslike_f': 80.7, 'windchill_c': 28.7, 'windchill_f': 83.6, 'heatindex_c': 27.1, 'heatindex_f': 80.7, 'dewpoint_c': 6.7, 'dewpoint_f': 44.1, 'vis_km': 10.0, 'vis_miles': 6.0, 'uv': 4.6, 'gust_mph': 8.7, 'gust_kph': 14.1}}\"},\n",
       " {'url': 'https://www.hindustantimes.com/cities/lucknow-news/lucknow-weather-today-aqi-and-rain-forecast-updates-november-15-2024-101731634218338.html',\n",
       "  'content': \"The temperature in Lucknow today, on November 15, 2024, is 25.24 °C. The day's forecast indicates a minimum and maximum temperature of 16.99 °C and 30.24 °C, respectively. The relative humidity\"},\n",
       " {'url': 'https://www.meteoprog.com/weather/Lucknow/month/november/',\n",
       "  'content': 'Lucknow (India) weather in November 2024 ☀️ Accurate weather forecast for Lucknow in November ⛅ Detailed forecast By month Current temperature \"near me\" Weather news ⊳ Widget of weather ⊳ Water temperature | METEOPROG. ... +27°+15 ° 20 November +28°'},\n",
       " {'url': 'https://www.easeweather.com/asia/india/uttar-pradesh/lucknow-district/lucknow/november',\n",
       "  'content': 'Until now, November 2024 in Lucknow has been nearly identical to the historical average, with a temperature of 32.1 °C (showing only a slight deviation of 0.4 °C). Expect cooler weather in the next days in Lucknow with the forecast suggesting a temperature of 29.4 °C, lower than the historical average. In general, the average temperature in'},\n",
       " {'url': 'https://www.weathertab.com/en/c/e/11/republic-of-india/uttar-pradesh/lucknow/',\n",
       "  'content': 'Temperature Forecast. Explore comprehensive November 2024 weather forecasts for Lucknow, including daily high and low temperatures, precipitation risks, and monthly temperature trends. Featuring detailed day-by-day forecasts, dynamic graphs of daily rain probabilities, and temperature trends to help you plan ahead.'}]"
      ]
     },
     "execution_count": 47,
     "metadata": {},
     "output_type": "execute_result"
    }
   ],
   "source": [
    "search.invoke(\"What is weather in lucknow?\")"
   ]
  },
  {
   "cell_type": "code",
   "execution_count": 48,
   "metadata": {},
   "outputs": [],
   "source": [
    "tools=[search]"
   ]
  },
  {
   "cell_type": "code",
   "execution_count": 52,
   "metadata": {},
   "outputs": [],
   "source": [
    "from langchain import hub"
   ]
  },
  {
   "cell_type": "code",
   "execution_count": 55,
   "metadata": {},
   "outputs": [
    {
     "name": "stderr",
     "output_type": "stream",
     "text": [
      "a:\\LANGCHAIN\\langchainenv\\lib\\site-packages\\langchain\\hub.py:86: DeprecationWarning: The `langchainhub sdk` is deprecated.\n",
      "Please use the `langsmith sdk` instead:\n",
      "  pip install langsmith\n",
      "Use the `pull_prompt` method.\n",
      "  res_dict = client.pull_repo(owner_repo_commit)\n"
     ]
    }
   ],
   "source": [
    "prompt=hub.pull(\"hwchase17/openai-functions-agent\")"
   ]
  },
  {
   "cell_type": "code",
   "execution_count": 57,
   "metadata": {},
   "outputs": [
    {
     "name": "stdout",
     "output_type": "stream",
     "text": [
      "input_variables=['agent_scratchpad', 'input'] optional_variables=['chat_history'] input_types={'chat_history': typing.List[typing.Union[langchain_core.messages.ai.AIMessage, langchain_core.messages.human.HumanMessage, langchain_core.messages.chat.ChatMessage, langchain_core.messages.system.SystemMessage, langchain_core.messages.function.FunctionMessage, langchain_core.messages.tool.ToolMessage]], 'agent_scratchpad': typing.List[typing.Union[langchain_core.messages.ai.AIMessage, langchain_core.messages.human.HumanMessage, langchain_core.messages.chat.ChatMessage, langchain_core.messages.system.SystemMessage, langchain_core.messages.function.FunctionMessage, langchain_core.messages.tool.ToolMessage]]} partial_variables={'chat_history': []} metadata={'lc_hub_owner': 'hwchase17', 'lc_hub_repo': 'openai-functions-agent', 'lc_hub_commit_hash': 'a1655024b06afbd95d17449f21316291e0726f13dcfaf990cc0d18087ad689a5'} messages=[SystemMessagePromptTemplate(prompt=PromptTemplate(input_variables=[], template='You are a helpful assistant')), MessagesPlaceholder(variable_name='chat_history', optional=True), HumanMessagePromptTemplate(prompt=PromptTemplate(input_variables=['input'], template='{input}')), MessagesPlaceholder(variable_name='agent_scratchpad')]\n"
     ]
    }
   ],
   "source": [
    "print(prompt)"
   ]
  },
  {
   "cell_type": "code",
   "execution_count": 58,
   "metadata": {},
   "outputs": [],
   "source": [
    "from langchain_google_genai import ChatGoogleGenerativeAI"
   ]
  },
  {
   "cell_type": "code",
   "execution_count": 59,
   "metadata": {},
   "outputs": [],
   "source": [
    "llm = ChatGoogleGenerativeAI(\n",
    "    model=\"gemini-1.5-pro\",\n",
    "    temperature=0,\n",
    "    max_tokens=None,\n",
    "    timeout=None,\n",
    "    max_retries=2,\n",
    "    # other params...\n",
    ")"
   ]
  },
  {
   "cell_type": "markdown",
   "metadata": {},
   "source": [
    "`Agent sctrachpad`: The agent does not call a tool just once to get the desird answer , but has structure that calls tools repeatedly until desired anser is obtaines. each time you calll a tool , what the previous call was like, information about the previous call, and the result are stored in this field."
   ]
  },
  {
   "cell_type": "code",
   "execution_count": 60,
   "metadata": {},
   "outputs": [
    {
     "name": "stderr",
     "output_type": "stream",
     "text": [
      "Key 'title' is not supported in schema, ignoring\n",
      "Key 'title' is not supported in schema, ignoring\n"
     ]
    }
   ],
   "source": [
    "from langchain.agents import create_tool_calling_agent\n",
    "agent=create_tool_calling_agent(llm,tools,prompt)"
   ]
  },
  {
   "cell_type": "code",
   "execution_count": 62,
   "metadata": {},
   "outputs": [],
   "source": [
    "from langchain.agents import AgentExecutor\n",
    "agent_executor=AgentExecutor(agent=agent,tools=tools,verbose=True)"
   ]
  },
  {
   "cell_type": "code",
   "execution_count": 64,
   "metadata": {},
   "outputs": [
    {
     "name": "stdout",
     "output_type": "stream",
     "text": [
      "\n",
      "\n",
      "\u001b[1m> Entering new AgentExecutor chain...\u001b[0m\n",
      "\u001b[32;1m\u001b[1;3mI'm doing well, thank you for asking! How can I help you today?\n",
      "\u001b[0m\n",
      "\n",
      "\u001b[1m> Finished chain.\u001b[0m\n"
     ]
    },
    {
     "data": {
      "text/plain": [
       "{'input': 'hello how are you?',\n",
       " 'output': \"I'm doing well, thank you for asking! How can I help you today?\\n\"}"
      ]
     },
     "execution_count": 64,
     "metadata": {},
     "output_type": "execute_result"
    }
   ],
   "source": [
    "agent_executor.invoke({\"input\":\"hello how are you?\"})"
   ]
  },
  {
   "cell_type": "code",
   "execution_count": 68,
   "metadata": {},
   "outputs": [
    {
     "name": "stdout",
     "output_type": "stream",
     "text": [
      "\n",
      "\n",
      "\u001b[1m> Entering new AgentExecutor chain...\u001b[0m\n",
      "\u001b[32;1m\u001b[1;3m\n",
      "Invoking: `tavily_search_results_json` with `{'query': 'Who won the T20 World Cup 2024?'}`\n",
      "\n",
      "\n",
      "\u001b[0m\u001b[36;1m\u001b[1;3m[{'url': \"https://en.wikipedia.org/wiki/2024_ICC_Men's_T20_World_Cup_final\", 'content': \"The 2024 ICC Men's T20 World Cup final was a Twenty20 International cricket match played at Kensington Oval in Bridgetown, Barbados on 29 June 2024 to determine the winner of the 2024 ICC Men's T20 World Cup. [1] [2] It was played between South Africa and India.[3]India defeated South Africa by 7 runs to win their second T20 World Cup title. [4] Virat Kohli was named Player of the Match for\"}, {'url': 'https://indianexpress.com/article/sports/cricket/india-wins-t20-world-cup-2024-live-updates-indian-cricket-team-celebration-virat-kohli-rohit-sharma-retirement-9423593/', 'content': \"Virat Kohli and Rohit Sharma with T20 World Cup 2024. (Agencies) India Wins T20 World Cup Final highlights: Following Team India's historic triumph, the BCCI has announced an eye-popping Rs 125 crore prize money for the Men in Blue on Sunday. After Rohit Sharma and Virat Kohli, Ravindra Jadeja has also called time on his T20I career, making the announcement on Sunday.\"}, {'url': 'https://www.skysports.com/cricket/news/12172/13042693/mens-t20-world-cup-2024-full-results-after-india-beat-south-africa-in-barbados-final-to-win-second-title', 'content': \"Men's T20 World Cup 2024: Full results after India beat South Africa in Barbados final to win second title. India beat South Africa by seven runs in Barbados to win Men's T20 World Cup for a\"}, {'url': 'https://www.espncricinfo.com/series/icc-men-s-t20-world-cup-2024-1411166/india-vs-south-africa-final-1415755/full-scorecard', 'content': 'T20 World Cup 2024: New York, Tarouba pitches rated \\'unsatisfactory\\' by ICC The pitch for the India vs Pakistan game, where India won by six runs after scoring just 119, has been rated \"satisfactory\"'}, {'url': 'https://www.aljazeera.com/sports/2024/6/29/india-vs-south-africa-icc-t20-world-cup-final-result-match-report-champions-rohit-markram-bumrah-shamsi', 'content': \"India beat South Africa by 7 runs to win ICC T20 World Cup 2024. Virat Kohli's 59-ball-76 and Hardik Pandya's three crucial wickets take India to their second ICC T20 title in Barbados.\"}]\u001b[0m\u001b[32;1m\u001b[1;3mIndia won the T20 World Cup in 2024, defeating South Africa by 7 runs in the final held in Barbados.\n",
      "\u001b[0m\n",
      "\n",
      "\u001b[1m> Finished chain.\u001b[0m\n"
     ]
    },
    {
     "data": {
      "text/plain": [
       "{'input': 'who won t20 world 2024?',\n",
       " 'output': 'India won the T20 World Cup in 2024, defeating South Africa by 7 runs in the final held in Barbados.\\n'}"
      ]
     },
     "execution_count": 68,
     "metadata": {},
     "output_type": "execute_result"
    }
   ],
   "source": [
    "agent_executor.invoke({\"input\":\"who won t20 world 2024?\"})"
   ]
  },
  {
   "cell_type": "code",
   "execution_count": null,
   "metadata": {},
   "outputs": [],
   "source": []
  }
 ],
 "metadata": {
  "kernelspec": {
   "display_name": "Python 3",
   "language": "python",
   "name": "python3"
  },
  "language_info": {
   "codemirror_mode": {
    "name": "ipython",
    "version": 3
   },
   "file_extension": ".py",
   "mimetype": "text/x-python",
   "name": "python",
   "nbconvert_exporter": "python",
   "pygments_lexer": "ipython3",
   "version": "3.9.18"
  }
 },
 "nbformat": 4,
 "nbformat_minor": 2
}
