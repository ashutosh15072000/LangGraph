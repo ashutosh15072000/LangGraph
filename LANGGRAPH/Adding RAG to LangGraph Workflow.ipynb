{
 "cells": [
  {
   "cell_type": "markdown",
   "metadata": {},
   "source": [
    "Question: Can we integrate a RAG Pipeline?\n",
    "Answer: Yes we can!"
   ]
  },
  {
   "cell_type": "code",
   "execution_count": 1,
   "metadata": {},
   "outputs": [
    {
     "data": {
      "text/plain": [
       "'Hello! How can I help you today?'"
      ]
     },
     "execution_count": 1,
     "metadata": {},
     "output_type": "execute_result"
    }
   ],
   "source": [
    "from langchain_google_genai import ChatGoogleGenerativeAI\n",
    "from langchain_google_genai import GoogleGenerativeAIEmbeddings\n",
    "embeddings=GoogleGenerativeAIEmbeddings(model=\"models/embedding-001\")\n",
    "llm=ChatGoogleGenerativeAI(model=\"gemini-1.0-pro\")\n",
    "llm.invoke(\"hii\").content"
   ]
  },
  {
   "cell_type": "code",
   "execution_count": 2,
   "metadata": {},
   "outputs": [],
   "source": [
    "from langchain_core.output_parsers import StrOutputParser\n",
    "from langchain_core.prompts import ChatPromptTemplate\n",
    "from langchain_core.runnables import RunnablePassthrough\n",
    "from langchain_community.document_loaders import TextLoader,DirectoryLoader\n",
    "from langchain_community.vectorstores import FAISS\n",
    "from langchain.text_splitter import RecursiveCharacterTextSplitter"
   ]
  },
  {
   "cell_type": "code",
   "execution_count": 3,
   "metadata": {},
   "outputs": [
    {
     "name": "stderr",
     "output_type": "stream",
     "text": [
      "C:\\Users\\ayush\\AppData\\Local\\Temp\\ipykernel_32876\\3250290832.py:13: LangChainDeprecationWarning: The method `BaseRetriever.get_relevant_documents` was deprecated in langchain-core 0.1.46 and will be removed in 1.0. Use :meth:`~invoke` instead.\n",
      "  docs=reteriver.get_relevant_documents(query)\n"
     ]
    },
    {
     "name": "stdout",
     "output_type": "stream",
     "text": [
      "{'source': 'data\\\\llama3.txt'}\n",
      "Alongside the release of Llama 3, Meta added virtual assistant features to Facebook and WhatsApp in\n",
      "page_content='Alongside the release of Llama 3, Meta added virtual assistant features to Facebook and WhatsApp in' metadata={'source': 'data\\\\llama3.txt'}\n",
      "page_content='by Meta AI starting in February 2023.[2][3] The latest version is Llama 3 released in April' metadata={'source': 'data\\\\llama3.txt'}\n",
      "page_content='available as a foundation model.[8] Starting with Llama 2, Meta AI started releasing instruction' metadata={'source': 'data\\\\llama3.txt'}\n"
     ]
    }
   ],
   "source": [
    "loader=DirectoryLoader(\"./data\",glob=\"./*.txt\",loader_cls=TextLoader)\n",
    "docs=loader.load()\n",
    "text_splitter=RecursiveCharacterTextSplitter(\n",
    "    chunk_size=100,chunk_overlap=50\n",
    ")\n",
    "new_docs=text_splitter.split_documents(documents=docs)\n",
    "doc_strings=[doc.page_content for doc in new_docs]\n",
    "\n",
    "db=FAISS.from_documents(new_docs,embeddings)\n",
    "reteriver=db.as_retriever(search_kwargs={\"k\":3})\n",
    "\n",
    "query=\"what is meta llama?\"\n",
    "docs=reteriver.get_relevant_documents(query)\n",
    "print(docs[0].metadata)\n",
    "print(docs[0].page_content)\n",
    "\n",
    "for doc in docs:\n",
    "    print(doc)"
   ]
  },
  {
   "cell_type": "code",
   "execution_count": 4,
   "metadata": {},
   "outputs": [],
   "source": [
    "def function_1(AgentState):\n",
    "    message=AgentState[\"message\"]\n",
    "\n",
    "    question=message[-1]\n",
    "\n",
    "    complete_prompt=\"Your task is to provide the brief answer based on the user query Don't include too much reasoning . Following is the user:\" + question\n",
    "\n",
    "    response=llm.invoke(complete_prompt)\n",
    "\n",
    "    ## Appending LLm call response to the Agentstate\n",
    "    AgentState[\"message\"].append(response.content)\n",
    "\n",
    "    return AgentState"
   ]
  },
  {
   "cell_type": "code",
   "execution_count": 5,
   "metadata": {},
   "outputs": [],
   "source": [
    "def function_2(AgentState):\n",
    "    message=AgentState['message']\n",
    "    ## Fetching the user Question\n",
    "    question=message[0]\n",
    "    template=\"\"\" Answer the following based only on the following context:\n",
    "    {context}\n",
    "\n",
    "    Question:{question}\n",
    "             \"\"\"\n",
    "    prompt=ChatPromptTemplate.from_template(template)\n",
    "\n",
    "    reterival_chain=(\n",
    "        {\"context\":reteriver,\"question\":RunnablePassthrough()}\n",
    "        | prompt\n",
    "        | llm\n",
    "        | StrOutputParser()\n",
    "    )\n",
    "    result=reterival_chain.invoke(question)\n",
    "    return result"
   ]
  },
  {
   "cell_type": "code",
   "execution_count": 6,
   "metadata": {},
   "outputs": [],
   "source": [
    "## Define Langgraph\n",
    "from langgraph.graph import Graph\n",
    "workflow=Graph()\n",
    "workflow.add_node(\"LLM\",function_1)\n",
    "workflow.add_node(\"RAGTOOL\",function_2)\n",
    "workflow.add_edge(\"LLM\",\"RAGTOOL\")\n",
    "workflow.set_entry_point(\"LLM\")\n",
    "workflow.set_finish_point(\"RAGTOOL\")\n",
    "app=workflow.compile()\n"
   ]
  },
  {
   "cell_type": "code",
   "execution_count": 7,
   "metadata": {},
   "outputs": [
    {
     "data": {
      "image/png": "[encoded data removed]",
      "text/plain": [
       "<IPython.core.display.Image object>"
      ]
     },
     "metadata": {},
     "output_type": "display_data"
    }
   ],
   "source": [
    "from IPython.display import Image, display\n",
    "\n",
    "try:\n",
    "    display(Image(app.get_graph().draw_mermaid_png()))\n",
    "except Exception as e:\n",
    "    # This requires some extra dependencies and is optional\n",
    "    print(e)"
   ]
  },
  {
   "cell_type": "code",
   "execution_count": 8,
   "metadata": {},
   "outputs": [],
   "source": [
    "inputs={\"message\":[\"Tell me about llama3 model\"]}"
   ]
  },
  {
   "cell_type": "code",
   "execution_count": 9,
   "metadata": {},
   "outputs": [
    {
     "name": "stdout",
     "output_type": "stream",
     "text": [
      "here is output from LLM\n",
      "________\n",
      "{'message': ['Tell me about llama3 model', 'LLaMA (Large Language Model Architect) is a family of large language models developed by Meta AI.']}\n",
      "\n",
      "\n",
      "here is output from RAGTOOL\n",
      "________\n",
      "Llama 3 is a large language model developed by Meta AI. It has been compared favorably against other large language models, such as GPT-3 and Claude, in most benchmarks. The 8B parameter version of Llama 3 has been described as being \"surprisingly capable\" given its size.\n",
      "\n",
      "\n"
     ]
    }
   ],
   "source": [
    "for output in app.stream(inputs):\n",
    "    for key,value in output.items():\n",
    "        print(f\"here is output from {key}\")\n",
    "        print(\"________\")\n",
    "        print(value)\n",
    "        print(\"\\n\")"
   ]
  },
  {
   "cell_type": "code",
   "execution_count": null,
   "metadata": {},
   "outputs": [],
   "source": []
  }
 ],
 "metadata": {
  "kernelspec": {
   "display_name": "Python 3",
   "language": "python",
   "name": "python3"
  },
  "language_info": {
   "codemirror_mode": {
    "name": "ipython",
    "version": 3
   },
   "file_extension": ".py",
   "mimetype": "text/x-python",
   "name": "python",
   "nbconvert_exporter": "python",
   "pygments_lexer": "ipython3",
   "version": "3.9.18"
  }
 },
 "nbformat": 4,
 "nbformat_minor": 2
}
