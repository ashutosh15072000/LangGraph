{
 "cells": [
  {
   "cell_type": "markdown",
   "metadata": {},
   "source": [
    "Question: Can we integrate a RAG Pipeline?\n",
    "Answer: Yes we can!"
   ]
  },
  {
   "cell_type": "code",
   "execution_count": 1,
   "metadata": {},
   "outputs": [
    {
     "data": {
      "text/plain": [
       "'Hello there! How are you doing today?'"
      ]
     },
     "execution_count": 1,
     "metadata": {},
     "output_type": "execute_result"
    }
   ],
   "source": [
    "from langchain_google_genai import ChatGoogleGenerativeAI\n",
    "from langchain_google_genai import GoogleGenerativeAIEmbeddings\n",
    "embeddings=GoogleGenerativeAIEmbeddings(model=\"models/embedding-001\")\n",
    "llm=ChatGoogleGenerativeAI(model=\"gemini-1.0-pro\")\n",
    "llm.invoke(\"hii\").content"
   ]
  },
  {
   "cell_type": "code",
   "execution_count": 2,
   "metadata": {},
   "outputs": [],
   "source": [
    "from langchain_core.output_parsers import StrOutputParser\n",
    "from langchain_core.prompts import ChatPromptTemplate\n",
    "from langchain_core.runnables import RunnablePassthrough\n",
    "from langchain_community.document_loaders import TextLoader,DirectoryLoader\n",
    "from langchain_community.vectorstores import FAISS\n",
    "from langchain.text_splitter import RecursiveCharacterTextSplitter"
   ]
  },
  {
   "cell_type": "code",
   "execution_count": 3,
   "metadata": {},
   "outputs": [
    {
     "name": "stderr",
     "output_type": "stream",
     "text": [
      "C:\\Users\\ayush\\AppData\\Local\\Temp\\ipykernel_10724\\3250290832.py:13: LangChainDeprecationWarning: The method `BaseRetriever.get_relevant_documents` was deprecated in langchain-core 0.1.46 and will be removed in 1.0. Use :meth:`~invoke` instead.\n",
      "  docs=reteriver.get_relevant_documents(query)\n"
     ]
    },
    {
     "name": "stdout",
     "output_type": "stream",
     "text": [
      "{'source': 'data\\\\llama3.txt'}\n",
      "Alongside the release of Llama 3, Meta added virtual assistant features to Facebook and WhatsApp in\n",
      "page_content='Alongside the release of Llama 3, Meta added virtual assistant features to Facebook and WhatsApp in' metadata={'source': 'data\\\\llama3.txt'}\n",
      "page_content='by Meta AI starting in February 2023.[2][3] The latest version is Llama 3 released in April' metadata={'source': 'data\\\\llama3.txt'}\n",
      "page_content='available as a foundation model.[8] Starting with Llama 2, Meta AI started releasing instruction' metadata={'source': 'data\\\\llama3.txt'}\n"
     ]
    }
   ],
   "source": [
    "loader=DirectoryLoader(\"./data\",glob=\"./*.txt\",loader_cls=TextLoader)\n",
    "docs=loader.load()\n",
    "text_splitter=RecursiveCharacterTextSplitter(\n",
    "    chunk_size=100,chunk_overlap=50\n",
    ")\n",
    "new_docs=text_splitter.split_documents(documents=docs)\n",
    "doc_strings=[doc.page_content for doc in new_docs]\n",
    "\n",
    "db=FAISS.from_documents(new_docs,embeddings)\n",
    "reteriver=db.as_retriever(search_kwargs={\"k\":3})\n",
    "\n",
    "query=\"what is meta llama?\"\n",
    "docs=reteriver.get_relevant_documents(query)\n",
    "print(docs[0].metadata)\n",
    "print(docs[0].page_content)\n",
    "\n",
    "for doc in docs:\n",
    "    print(doc)"
   ]
  },
  {
   "cell_type": "code",
   "execution_count": 4,
   "metadata": {},
   "outputs": [],
   "source": [
    "def function_1(AgentState):\n",
    "    message=AgentState[\"message\"]\n",
    "\n",
    "    question=message[-1]\n",
    "\n",
    "    complete_prompt=\"Your task is to provide the brief answer based on the user query Don't include too much reasoning . Following is the user:\" + question\n",
    "\n",
    "    response=llm.invoke(complete_prompt)\n",
    "\n",
    "    ## Appending LLm call response to the Agentstate\n",
    "    AgentState[\"message\"].append(response.content)\n",
    "\n",
    "    return AgentState"
   ]
  },
  {
   "cell_type": "code",
   "execution_count": 5,
   "metadata": {},
   "outputs": [],
   "source": [
    "def function_2(AgentState):\n",
    "    message=AgentState['message']\n",
    "    ## Fetching the user Question\n",
    "    question=message[0]\n",
    "    template=\"\"\" Answer the following based only on the following context:\n",
    "    {context}\n",
    "\n",
    "    Question:{question}\n",
    "             \"\"\"\n",
    "    prompt=ChatPromptTemplate.from_template(template)\n",
    "\n",
    "    reterival_chain=(\n",
    "        {\"context\":reteriver,\"question\":RunnablePassthrough()}\n",
    "        | prompt\n",
    "        | llm\n",
    "        | StrOutputParser()\n",
    "    )\n",
    "    result=reterival_chain.invoke(question)\n",
    "    return result"
   ]
  },
  {
   "cell_type": "code",
   "execution_count": 6,
   "metadata": {},
   "outputs": [],
   "source": [
    "## Define Langgraph\n",
    "from langgraph.graph import Graph\n",
    "workflow=Graph()\n",
    "workflow.add_node(\"LLM\",function_1)\n",
    "workflow.add_node(\"RAGTOOL\",function_2)\n",
    "workflow.add_edge(\"LLM\",\"RAGTOOL\")\n",
    "workflow.set_entry_point(\"LLM\")\n",
    "workflow.set_finish_point(\"RAGTOOL\")\n",
    "app=workflow.compile()\n"
   ]
  },
  {
   "cell_type": "code",
   "execution_count": 7,
   "metadata": {},
   "outputs": [
    {
     "data": {
      "image/png": "[encoded data removed]",
      "text/plain": [
       "<IPython.core.display.Image object>"
      ]
     },
     "metadata": {},
     "output_type": "display_data"
    }
   ],
   "source": [
    "from IPython.display import Image, display\n",
    "\n",
    "try:\n",
    "    display(Image(app.get_graph().draw_mermaid_png()))\n",
    "except Exception as e:\n",
    "    # This requires some extra dependencies and is optional\n",
    "    print(e)"
   ]
  },
  {
   "cell_type": "code",
   "execution_count": 8,
   "metadata": {},
   "outputs": [],
   "source": [
    "inputs={\"message\":[\"Tell me about llama3 model\"]}"
   ]
  },
  {
   "cell_type": "code",
   "execution_count": 9,
   "metadata": {},
   "outputs": [
    {
     "name": "stdout",
     "output_type": "stream",
     "text": [
      "here is output from LLM\n",
      "________\n",
      "{'message': ['Tell me about llama3 model', '**LLaMA** is a large language model developed by Meta AI. It is designed to understand and generate human-like text, translate languages, write different kinds of creative content, and answer complex questions.']}\n",
      "\n",
      "\n",
      "here is output from RAGTOOL\n",
      "________\n",
      "- Llama 3 is a large language model developed by Meta AI.\n",
      "- It has been compared favorably against other large language models, such as GPT-3 and Claude, in most benchmarks.\n",
      "- The 8B parameter version of Llama 3 has been described as being \"surprisingly capable\" given its size.\n",
      "\n",
      "\n"
     ]
    }
   ],
   "source": [
    "for output in app.stream(inputs):\n",
    "    for key,value in output.items():\n",
    "        print(f\"here is output from {key}\")\n",
    "        print(\"________\")\n",
    "        print(value)\n",
    "        print(\"\\n\")"
   ]
  },
  {
   "cell_type": "code",
   "execution_count": 10,
   "metadata": {},
   "outputs": [
    {
     "name": "stdout",
     "output_type": "stream",
     "text": [
      "{'source': 'Data_1\\\\indian_economy.txt'}\n",
      "Key Sector Performances:\n",
      "page_content='Key Sector Performances:' metadata={'source': 'Data_1\\\\indian_economy.txt'}\n",
      "page_content='Additional Economic Indicators:' metadata={'source': 'Data_1\\\\indian_economy.txt'}\n",
      "page_content='This expanded dataset provides deeper insights into the industrial revival, key growth sectors,' metadata={'source': 'Data_1\\\\indian_economy.txt'}\n"
     ]
    }
   ],
   "source": [
    "loader=DirectoryLoader(\"./Data_1\",glob=\"./*.txt\",loader_cls=TextLoader)\n",
    "docs=loader.load()\n",
    "text_splitter=RecursiveCharacterTextSplitter(\n",
    "    chunk_size=100,chunk_overlap=50\n",
    ")\n",
    "new_docs=text_splitter.split_documents(documents=docs)\n",
    "doc_strings=[doc.page_content for doc in new_docs]\n",
    "\n",
    "db=FAISS.from_documents(new_docs,embeddings)\n",
    "reteriver=db.as_retriever(search_kwargs={\"k\":3})\n",
    "\n",
    "query=\"Tell about the industrail growth ?\"\n",
    "docs=reteriver.get_relevant_documents(query)\n",
    "print(docs[0].metadata)\n",
    "print(docs[0].page_content)\n",
    "\n",
    "for doc in docs:\n",
    "    print(doc)"
   ]
  },
  {
   "cell_type": "code",
   "execution_count": 11,
   "metadata": {},
   "outputs": [],
   "source": [
    "from typing import TypedDict,Annotated,Sequence\n",
    "import operator\n",
    "from langchain_core.messages import BaseMessage\n",
    "from langchain.prompts import PromptTemplate"
   ]
  },
  {
   "cell_type": "markdown",
   "metadata": {},
   "source": [
    "`TypedDict:`\n",
    "- TypedDict is a special type that allows you to define a dictionary in Python where each key has a specific type. It’s useful when you want to enforce type checks on the keys and values of a dictionary.\n",
    "\n",
    "`Annotated:`\n",
    "- Annotated is used to add metadata or constraints to a type. It’s typically used for adding additional information, like constraints or descriptions, to the type.\n",
    "\n",
    "`Sequence[BaseMessage]:`\n",
    "- Sequence is a generic type from Python's typing module that represents a list-like structure (such as a list or tuple) where the order matters, and you can access elements by their position.\n",
    "\n",
    "`BaseMessage:`\n",
    "- Basemessage: This assumes you're working with the LangChain framework, and BaseMessage is part of its core messaging system. It is typically used when handling or processing messages in LangChain's workflows\n",
    "\n",
    "`operator.add:`\n",
    "- operator.add is a function from Python’s operator module that performs addition (+) on its arguments. In this context, operator.add is being used as metadata for the Annotated type, likely suggesting that the sequence of BaseMessage objects is meant to be \"added\" or concatenated with another sequence at some point. It’s an indicator of how the messages field will be treated in the logic of your program.\n",
    "\n",
    "`TopicSelectionParser:` A Pydantic model that defines two fields (Topic and Reasoning), both of which are required to be strings.\n",
    "\n",
    "`Field:` Adds metadata, like descriptions, and can also be used for validation and constraints.\n",
    "\n",
    "`Pydantic’s Role:` Ensures that the data matches the expected structure and types, raising validation errors if the data is invalid."
   ]
  },
  {
   "cell_type": "code",
   "execution_count": 12,
   "metadata": {},
   "outputs": [],
   "source": [
    "class AgentState(TypedDict):\n",
    "    # The 'messages' field should be  a sequence of strings and we annotate it with 'operate.add'\n",
    "    # This implies we might want to \"add\" new messages to the sequence later\n",
    "    messages:Annotated[Sequence[BaseMessage],operator.add]"
   ]
  },
  {
   "cell_type": "markdown",
   "metadata": {},
   "source": [
    "`Putting It All Together:`\n",
    "- The line messages: Annotated[Sequence[BaseMessage], operator.add] defines a field messages that:\n",
    "\n",
    "- Must be a sequence (like a list or tuple) of BaseMessage objects. Has the additional annotation operator.add, which suggests that this sequence is intended to support addition (i.e., concatenation of multiple sequences of messages).\n",
    "\n",
    "`messages: Annotated[Sequence[BaseMessage], operator.add]`\n",
    "`\n",
    "\n",
    "\n",
    "`\"messages\": [BaseMessage(\"Hello!\", \"Alice\"), BaseMessage(\"Hi!\", \"Bob\")]`"
   ]
  },
  {
   "cell_type": "code",
   "execution_count": 13,
   "metadata": {},
   "outputs": [],
   "source": [
    "from pydantic import BaseModel,Field\n",
    "class TopicSelectionParser(BaseModel):\n",
    "    Topic:str=Field(description=\"Selected Topic\")\n",
    "    Reasoning:str=Field(description=\"Reasoning behind topic selections\")"
   ]
  },
  {
   "cell_type": "code",
   "execution_count": 14,
   "metadata": {},
   "outputs": [],
   "source": [
    "from langchain.output_parsers import PydanticOutputParser\n",
    "parser=PydanticOutputParser(pydantic_object=TopicSelectionParser)"
   ]
  },
  {
   "cell_type": "markdown",
   "metadata": {},
   "source": [
    "\n",
    "\n",
    "Here is the output schema:\n",
    "```\n",
    "{\"properties\": {\"Topic\": {\"description\": \"Selected Topic\", \"title\": \"Topic\", \"type\": \"string\"}, \"Reasoning\": {\"description\": \"Reasoning behind topic selections\", \"title\": \"Reasoning\", \"type\": \"string\"}}, \"required\": [\"Topic\", \"Reasoning\"]}\n",
    "```"
   ]
  },
  {
   "cell_type": "code",
   "execution_count": 31,
   "metadata": {},
   "outputs": [
    {
     "name": "stdout",
     "output_type": "stream",
     "text": [
      "The output should be formatted as a JSON instance that conforms to the JSON schema below.\n",
      "\n",
      "As an example, for the schema {\"properties\": {\"foo\": {\"title\": \"Foo\", \"description\": \"a list of strings\", \"type\": \"array\", \"items\": {\"type\": \"string\"}}}, \"required\": [\"foo\"]}\n",
      "the object {\"foo\": [\"bar\", \"baz\"]} is a well-formatted instance of the schema. The object {\"properties\": {\"foo\": [\"bar\", \"baz\"]}} is not well-formatted.\n",
      "\n",
      "Here is the output schema:\n",
      "```\n",
      "{\"properties\": {\"Topic\": {\"description\": \"Selected Topic\", \"title\": \"Topic\", \"type\": \"string\"}, \"Reasoning\": {\"description\": \"Reasoning behind topic selections\", \"title\": \"Reasoning\", \"type\": \"string\"}}, \"required\": [\"Topic\", \"Reasoning\"]}\n",
      "```\n"
     ]
    }
   ],
   "source": [
    "print(parser.get_format_instructions())"
   ]
  },
  {
   "cell_type": "code",
   "execution_count": 15,
   "metadata": {},
   "outputs": [],
   "source": [
    "def function_1(state):\n",
    "    message=state['messages']\n",
    "    question=message[-1]\n",
    "    print(question)\n",
    "\n",
    "    template=\"\"\"\n",
    "    Your task is to classify the given query into one of the following categories:[India,Not Related].\n",
    "    Only respond with the category name and nothing else.\n",
    "\n",
    "    user_query: {question}\n",
    "    {format_instructions}\n",
    "            \"\"\"\n",
    "    prompt=PromptTemplate(template=template,\n",
    "                          input_variables=[question],\n",
    "                          partial_variables={\"format_instructions\":parser.get_format_instructions()}\n",
    "                          )\n",
    "    chain=prompt|llm|parser\n",
    "\n",
    "    response=chain.invoke({\"question\":question,\"format_instructions\":parser.get_format_instructions()})\n",
    "\n",
    "    print(response)\n",
    "\n",
    "    return {\"messages\":[response.Topic]}"
   ]
  },
  {
   "cell_type": "code",
   "execution_count": 32,
   "metadata": {},
   "outputs": [],
   "source": [
    "state={\"messages\":[\"Tell me about India's Industrail Growth?\"]}"
   ]
  },
  {
   "cell_type": "code",
   "execution_count": 33,
   "metadata": {},
   "outputs": [
    {
     "name": "stdout",
     "output_type": "stream",
     "text": [
      "Tell me about India's Industrail Growth?\n",
      "Topic='India' Reasoning=\"The query asks about India's industrial growth, which is related to India.\"\n"
     ]
    },
    {
     "data": {
      "text/plain": [
       "{'messages': ['India']}"
      ]
     },
     "execution_count": 33,
     "metadata": {},
     "output_type": "execute_result"
    }
   ],
   "source": [
    "function_1(state)"
   ]
  },
  {
   "cell_type": "code",
   "execution_count": 16,
   "metadata": {},
   "outputs": [],
   "source": [
    "def router(state):\n",
    "    print(\"--> Router -->\")\n",
    "\n",
    "    messages=state[\"messages\"]\n",
    "    last_messages=messages[-1]\n",
    "    print(last_messages)\n",
    "    if \"India\" in last_messages:\n",
    "        return \"RAG CALL\"\n",
    "    else:\n",
    "        return \"LLM CALL\""
   ]
  },
  {
   "cell_type": "code",
   "execution_count": null,
   "metadata": {},
   "outputs": [],
   "source": []
  },
  {
   "cell_type": "code",
   "execution_count": 17,
   "metadata": {},
   "outputs": [],
   "source": [
    "def function_2(state):\n",
    "    print(\"-->CALLING RAG -->\")\n",
    "    message=state['messages']\n",
    "    ## FETCHING THE USER QUESTIONS\n",
    "    question=message[0]\n",
    "    print(question)\n",
    "    \n",
    "    template=\"\"\"Answer the question based only on the follwing context:\n",
    "    {context} \n",
    "    Question:{question}\n",
    "    \"\"\"\n",
    "\n",
    "    prompt=ChatPromptTemplate.from_template(template)\n",
    "\n",
    "    print(prompt)\n",
    "\n",
    "    retrieval_chain=({\"context\":reteriver,\"question\":RunnablePassthrough()}\n",
    "                     |prompt\n",
    "                     |llm\n",
    "                     |StrOutputParser())\n",
    "    result=retrieval_chain.invoke(question)\n",
    "    return {\"messages\":[result]}\n"
   ]
  },
  {
   "cell_type": "code",
   "execution_count": 18,
   "metadata": {},
   "outputs": [],
   "source": [
    "def function_3(state):\n",
    "    print(\"--> CALLING LLM -->\")\n",
    "\n",
    "    message=state['messages']\n",
    "    question=message[0] ## FETCHING THE USER QUESTION\n",
    "\n",
    "    # NORMAL LLM CALL\n",
    "    complete_query=\"Answer the follow question with your knowledge of the real world.Following is the user question:\"+question\n",
    "    response = llm.invoke(complete_query)\n",
    "    return {\"messages\":[response.content]}"
   ]
  },
  {
   "cell_type": "code",
   "execution_count": 19,
   "metadata": {},
   "outputs": [],
   "source": [
    "from langgraph.graph import StateGraph,END\n",
    "workflow=StateGraph(AgentState) ## StateGraph with Agentstate\n",
    "workflow.add_node(\"agent\",function_1)\n",
    "workflow.add_node(\"RAG\",function_2)\n",
    "workflow.add_node(\"LLM\",function_3)\n",
    "workflow.set_entry_point('agent')\n",
    "workflow.add_conditional_edges(\n",
    "    \"agent\",\n",
    "    router,\n",
    "    {\n",
    "        \"RAG CALL\":\"RAG\",\n",
    "        \"LLM CALL\":\"LLM\",\n",
    "    }\n",
    ")\n",
    "workflow.add_edge(\"RAG\",END)\n",
    "workflow.add_edge(\"LLM\",END)\n",
    "app=workflow.compile()"
   ]
  },
  {
   "cell_type": "code",
   "execution_count": 20,
   "metadata": {},
   "outputs": [
    {
     "data": {
      "image/png": "[encoded data removed]",
      "text/plain": [
       "<IPython.core.display.Image object>"
      ]
     },
     "metadata": {},
     "output_type": "display_data"
    }
   ],
   "source": [
    "from IPython.display import Image, display\n",
    "\n",
    "try:\n",
    "    display(Image(app.get_graph().draw_mermaid_png()))\n",
    "except Exception as e:\n",
    "    # This requires some extra dependencies and is optional\n",
    "    print(e)"
   ]
  },
  {
   "cell_type": "code",
   "execution_count": 21,
   "metadata": {},
   "outputs": [],
   "source": [
    "inputs={\"messages\":[\"Tell me about India's Industrail Growth ?\"]}"
   ]
  },
  {
   "cell_type": "code",
   "execution_count": 22,
   "metadata": {},
   "outputs": [
    {
     "name": "stdout",
     "output_type": "stream",
     "text": [
      "Tell me about India's Industrail Growth ?\n",
      "Topic='India' Reasoning=\"The query is directly related to India's Industrial Growth\"\n",
      "--> Router -->\n",
      "India\n",
      "-->CALLING RAG -->\n",
      "Tell me about India's Industrail Growth ?\n",
      "input_variables=['context', 'question'] input_types={} partial_variables={} messages=[HumanMessagePromptTemplate(prompt=PromptTemplate(input_variables=['context', 'question'], input_types={}, partial_variables={}, template='Answer the question based only on the follwing context:\\n    {context} \\n    Question:{question}\\n    '), additional_kwargs={})]\n"
     ]
    }
   ],
   "source": [
    "output=app.invoke(inputs)"
   ]
  },
  {
   "cell_type": "code",
   "execution_count": 23,
   "metadata": {},
   "outputs": [
    {
     "data": {
      "text/plain": [
       "{'messages': [\"Tell me about India's Industrail Growth ?\",\n",
       "  'India',\n",
       "  \"According to the provided context, India's industrial growth has outpaced expectations, raising hopes that the economy will avoid a slowdown.\"]}"
      ]
     },
     "execution_count": 23,
     "metadata": {},
     "output_type": "execute_result"
    }
   ],
   "source": [
    "output"
   ]
  },
  {
   "cell_type": "code",
   "execution_count": null,
   "metadata": {},
   "outputs": [],
   "source": [
    "inputs={\"messages\":[\"Tell me about first prime minister of india ?\"]}"
   ]
  },
  {
   "cell_type": "code",
   "execution_count": 25,
   "metadata": {},
   "outputs": [
    {
     "name": "stdout",
     "output_type": "stream",
     "text": [
      "Tell me about first prime mininster of india ?\n",
      "Topic='India' Reasoning='The query asks about the first prime minister of India.'\n",
      "--> Router -->\n",
      "India\n",
      "-->CALLING RAG -->\n",
      "Tell me about first prime mininster of india ?\n",
      "input_variables=['context', 'question'] input_types={} partial_variables={} messages=[HumanMessagePromptTemplate(prompt=PromptTemplate(input_variables=['context', 'question'], input_types={}, partial_variables={}, template='Answer the question based only on the follwing context:\\n    {context} \\n    Question:{question}\\n    '), additional_kwargs={})]\n"
     ]
    }
   ],
   "source": [
    "output=app.invoke(inputs)"
   ]
  },
  {
   "cell_type": "code",
   "execution_count": 26,
   "metadata": {},
   "outputs": [],
   "source": [
    "inputs={\"messages\":[\"Who building the Taj Mahal?\"]}"
   ]
  },
  {
   "cell_type": "code",
   "execution_count": 27,
   "metadata": {},
   "outputs": [
    {
     "name": "stdout",
     "output_type": "stream",
     "text": [
      "Who building the Taj Mahal?\n",
      "Topic='India' Reasoning='The Taj Mahal is a famous historical monument located in India'\n",
      "--> Router -->\n",
      "India\n",
      "-->CALLING RAG -->\n",
      "Who building the Taj Mahal?\n",
      "input_variables=['context', 'question'] input_types={} partial_variables={} messages=[HumanMessagePromptTemplate(prompt=PromptTemplate(input_variables=['context', 'question'], input_types={}, partial_variables={}, template='Answer the question based only on the follwing context:\\n    {context} \\n    Question:{question}\\n    '), additional_kwargs={})]\n"
     ]
    },
    {
     "data": {
      "text/plain": [
       "{'messages': ['Who building the Taj Mahal?',\n",
       "  'India',\n",
       "  'The provided context does not mention anything about who built the Taj Mahal, so I cannot answer this question from the provided context.']}"
      ]
     },
     "execution_count": 27,
     "metadata": {},
     "output_type": "execute_result"
    }
   ],
   "source": [
    "output=app.invoke(inputs)\n",
    "output"
   ]
  },
  {
   "cell_type": "code",
   "execution_count": 28,
   "metadata": {},
   "outputs": [],
   "source": [
    "inputs={\"messages\":[\"Who is president of US?\"]}"
   ]
  },
  {
   "cell_type": "code",
   "execution_count": 29,
   "metadata": {},
   "outputs": [
    {
     "name": "stdout",
     "output_type": "stream",
     "text": [
      "Who is president of US?\n",
      "Topic='Not Related' Reasoning='The query is about the president of the US, which is not related to India.'\n",
      "--> Router -->\n",
      "Not Related\n",
      "--> CALLING LLM -->\n"
     ]
    }
   ],
   "source": [
    "output=app.invoke(inputs)\n"
   ]
  },
  {
   "cell_type": "code",
   "execution_count": 30,
   "metadata": {},
   "outputs": [
    {
     "data": {
      "text/plain": [
       "{'messages': ['Who is president of US?', 'Not Related', 'Joe Biden']}"
      ]
     },
     "execution_count": 30,
     "metadata": {},
     "output_type": "execute_result"
    }
   ],
   "source": [
    "output"
   ]
  },
  {
   "cell_type": "code",
   "execution_count": null,
   "metadata": {},
   "outputs": [],
   "source": []
  }
 ],
 "metadata": {
  "kernelspec": {
   "display_name": "Python 3",
   "language": "python",
   "name": "python3"
  },
  "language_info": {
   "codemirror_mode": {
    "name": "ipython",
    "version": 3
   },
   "file_extension": ".py",
   "mimetype": "text/x-python",
   "name": "python",
   "nbconvert_exporter": "python",
   "pygments_lexer": "ipython3",
   "version": "3.9.18"
  }
 },
 "nbformat": 4,
 "nbformat_minor": 2
}
